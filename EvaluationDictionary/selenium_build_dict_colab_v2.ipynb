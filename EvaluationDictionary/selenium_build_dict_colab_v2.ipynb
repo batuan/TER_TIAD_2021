{
  "nbformat": 4,
  "nbformat_minor": 0,
  "metadata": {
    "colab": {
      "name": "selenium_build_dict_colab.ipynb",
      "provenance": [],
      "collapsed_sections": []
    },
    "kernelspec": {
      "name": "python3",
      "display_name": "Python 3"
    },
    "language_info": {
      "name": "python"
    }
  },
  "cells": [
    {
      "cell_type": "code",
      "metadata": {
        "id": "UVXMwyXUtOm3"
      },
      "source": [
        "!pip install selenium\n",
        "!apt-get update # to update ubuntu to correctly run apt install\n",
        "!apt install chromium-chromedriver\n",
        "!cp /usr/lib/chromium-browser/chromedriver /usr/bin\n",
        "import sys\n",
        "sys.path.insert(0,'/usr/lib/chromium-browser/chromedriver')"
      ],
      "execution_count": null,
      "outputs": []
    },
    {
      "cell_type": "code",
      "metadata": {
        "colab": {
          "base_uri": "https://localhost:8080/"
        },
        "id": "cRKMz5dWTZT-",
        "outputId": "60067f08-57dd-42fb-9a17-a6dd7fa2124d"
      },
      "source": [
        "from google.colab import drive\n",
        "drive.mount('/content/drive')"
      ],
      "execution_count": 1,
      "outputs": [
        {
          "output_type": "stream",
          "text": [
            "Mounted at /content/drive\n"
          ],
          "name": "stdout"
        }
      ]
    },
    {
      "cell_type": "code",
      "metadata": {
        "colab": {
          "base_uri": "https://localhost:8080/"
        },
        "id": "3jWiQW1NW_iy",
        "outputId": "3ca09699-38ae-4a35-9133-e30477796832"
      },
      "source": [
        "!pip install random-user-agent"
      ],
      "execution_count": 25,
      "outputs": [
        {
          "output_type": "stream",
          "text": [
            "Collecting random-user-agent\n",
            "\u001b[?25l  Downloading https://files.pythonhosted.org/packages/61/88/8a953b6f08d7cc709695be1a640cdd3a50996636e675381c2b3ec2d7ec44/random_user_agent-1.0.1-py3-none-any.whl (8.2MB)\n",
            "\u001b[K     |████████████████████████████████| 8.2MB 8.1MB/s \n",
            "\u001b[?25hInstalling collected packages: random-user-agent\n",
            "Successfully installed random-user-agent-1.0.1\n"
          ],
          "name": "stdout"
        }
      ]
    },
    {
      "cell_type": "code",
      "metadata": {
        "id": "sqnJ-3eSwtUq"
      },
      "source": [
        "import pandas as pd\n",
        "import time\n",
        "from selenium.webdriver.support.ui import WebDriverWait\n",
        "from selenium.webdriver.common.by import By\n",
        "from random_user_agent.user_agent import UserAgent\n",
        "from random_user_agent.params import SoftwareName, OperatingSystem\n",
        "from selenium import webdriver"
      ],
      "execution_count": 6,
      "outputs": []
    },
    {
      "cell_type": "code",
      "metadata": {
        "id": "-OSUqfZOXIOc"
      },
      "source": [
        "def get_user_agent():\n",
        "  software_names = [SoftwareName.CHROME.value]\n",
        "  operating_systems = [OperatingSystem.WINDOWS.value, OperatingSystem.LINUX.value]   \n",
        "  user_agent_rotator = UserAgent(software_names=software_names, operating_systems=operating_systems, limit=100)\n",
        "\n",
        "      # Get list of user agents.\n",
        "  user_agents = user_agent_rotator.get_user_agents()\n",
        "\n",
        "      # Get Random User Agent String.\n",
        "  user_agent = user_agent_rotator.get_random_user_agent()\n",
        "  return user_agent"
      ],
      "execution_count": 36,
      "outputs": []
    },
    {
      "cell_type": "code",
      "metadata": {
        "colab": {
          "base_uri": "https://localhost:8080/",
          "height": 52
        },
        "id": "hfMZCavGYGHx",
        "outputId": "5cfa0478-90cd-45bd-960d-0d3495547aee"
      },
      "source": [
        "get_user_agent()"
      ],
      "execution_count": 42,
      "outputs": [
        {
          "output_type": "execute_result",
          "data": {
            "application/vnd.google.colaboratory.intrinsic+json": {
              "type": "string"
            },
            "text/plain": [
              "'Mozilla/5.0 (Windows NT 6.1; WOW64) AppleWebKit/537.36 (KHTML, like Gecko) Chrome/56.0.2924.90 Safari/537.36 2345Explorer/9.4.3.17934'"
            ]
          },
          "metadata": {
            "tags": []
          },
          "execution_count": 42
        }
      ]
    },
    {
      "cell_type": "code",
      "metadata": {
        "id": "WqPZZ9FzVURF"
      },
      "source": [
        "def create_driver():\n",
        "  chrome_options = webdriver.ChromeOptions()\n",
        "  chrome_options.add_argument('--headless')\n",
        "  chrome_options.add_argument('--no-sandbox')\n",
        "  chrome_options.add_argument('--disable-dev-shm-usage')\n",
        "  chrome_options.add_argument(f'user-agent={get_user_agent()}')\n",
        "  chrome_options.add_argument('--window-size=1420,1080')\n",
        "  driver = webdriver.Chrome('chromedriver',options=chrome_options)\n",
        "  return driver"
      ],
      "execution_count": 52,
      "outputs": []
    },
    {
      "cell_type": "code",
      "metadata": {
        "colab": {
          "base_uri": "https://localhost:8080/"
        },
        "id": "GEapsi0DZYO5",
        "outputId": "86e9d877-ece5-4daa-c0af-9331d06c2cab"
      },
      "source": [
        "driver = create_driver()\n",
        "type(driver)"
      ],
      "execution_count": 54,
      "outputs": [
        {
          "output_type": "execute_result",
          "data": {
            "text/plain": [
              "selenium.webdriver.chrome.webdriver.WebDriver"
            ]
          },
          "metadata": {
            "tags": []
          },
          "execution_count": 54
        }
      ]
    },
    {
      "cell_type": "code",
      "metadata": {
        "id": "y2nlgt6wttD9"
      },
      "source": [
        "driver.get('https://translate.google.com/#view=home&op=translate&sl=en&tl=fr')\n",
        "#driver.find_element_by_xpath('/html/body/div/c-wiz/div/div/div/div[2]/div[1]/div[4]/form/div[1]/div/button').click()"
      ],
      "execution_count": 56,
      "outputs": []
    },
    {
      "cell_type": "code",
      "metadata": {
        "id": "Fia3yiIzt0Dw",
        "colab": {
          "base_uri": "https://localhost:8080/",
          "height": 137
        },
        "outputId": "31250ba5-2e50-4d88-f397-0bfe203f1e01"
      },
      "source": [
        "driver.get(\"https://translate.google.com/?sl=en&tl=pt&op=translate\")\n",
        "words = ['sleep']\n",
        "text_area = driver.find_elements_by_tag_name(\"textarea\")[0]\n",
        "text_area.clear()\n",
        "text_area.send_keys(words[0])\n",
        "time.sleep(1)\n",
        "trans_word_ele = WebDriverWait(driver=driver, timeout=1).until(lambda d : d.find_element_by_xpath('/html/body/c-wiz/div/div[2]/c-wiz/div[2]/c-wiz/div[1]/div[2]/div[2]/c-wiz[2]/div[5]/div/div[1]/span[1]/span/span'))\n",
        "print(trans_word_ele.text)\n",
        "driver.find_element(By.TAG_NAME, 'table').text"
      ],
      "execution_count": 57,
      "outputs": [
        {
          "output_type": "stream",
          "text": [
            "dormir\n"
          ],
          "name": "stdout"
        },
        {
          "output_type": "execute_result",
          "data": {
            "application/vnd.google.colaboratory.intrinsic+json": {
              "type": "string"
            },
            "text/plain": [
              "'Part of speech\\nTranslation\\nReverse translations\\nFrequency\\nhelp_outline\\nverb\\ndormir\\nsleep, fall asleep, rest, lie, kip, doss\\nadormecer\\nfall asleep, sleep, go numb, drop out, doss\\ndescansar\\nrest, sleep, take a rest, lounge, breathe, recess\\nrepousar\\nrest, lie, sleep, lean, recline, doze\\nestar a dormir\\nsleep\\nestar inativo\\ndoss, sleep\\nestar sepultado\\nsleep\\nnoun\\no sono\\nsleep, rest, sleepiness, repose, sandman, time-out\\no descanso\\nrest, pillow, break, relaxation, sleep, respite\\no período de sono\\nsleep\\na paz\\npeace, repose, sleep, halcyon\\na tranqüilidade\\ntranquility, quiet, calm, peace, ease, sleep'"
            ]
          },
          "metadata": {
            "tags": []
          },
          "execution_count": 57
        }
      ]
    },
    {
      "cell_type": "code",
      "metadata": {
        "id": "ZFKyoJD_uGEn"
      },
      "source": [
        "def raw_text_to_text(tabel, number_pos):\n",
        "    dict_trans = {}\n",
        "    for index in range(number_pos):\n",
        "        all_trans = tabel.find_elements(By.TAG_NAME, 'tbody')[index].text.split('\\n')\n",
        "        pos = all_trans[0]\n",
        "        number_word = len(all_trans)\n",
        "        words = [all_trans[i] for i in range(number_word) if i%2 == 1]\n",
        "        dict_trans[pos] = words\n",
        "    return dict_trans"
      ],
      "execution_count": 58,
      "outputs": []
    },
    {
      "cell_type": "code",
      "metadata": {
        "colab": {
          "base_uri": "https://localhost:8080/"
        },
        "id": "matribPK9Vh2",
        "outputId": "43a7facf-c964-46af-9616-af4528cf5d7e"
      },
      "source": [
        "df = pd.read_csv(\"/content/drive/MyDrive/data/Lang_Word/EN_vocab/all.csv\")\n",
        "words = list(df['source'].values)\n",
        "words = [str(x) for x in words]\n",
        "words = list(set(words))[:20000]\n",
        "my_dict = []\n",
        "driver = create_driver()\n",
        "driver.get(\"https://translate.google.com/?sl=en&tl=pt&op=translate\")\n",
        "\n",
        "f = open('/content/drive/MyDrive/data/en-pt.txt', 'a')\n",
        "text_area = driver.find_elements_by_tag_name(\"textarea\")[0]\n",
        "for word in words:\n",
        "    print(word, end=' ->  ')\n",
        "    text_area.clear()\n",
        "    text_area.send_keys(word)\n",
        "    time.sleep(1)\n",
        "    try:\n",
        "      trans_word_ele = WebDriverWait(driver=driver, timeout=1).until(lambda d : d.find_element_by_xpath('/html/body/c-wiz/div/div[2]/c-wiz/div[2]/c-wiz/div[1]/div[2]/div[2]/c-wiz[2]/div[5]/div/div[1]/span[1]/span/span'))\n",
        "    except:\n",
        "      try:\n",
        "        trans_word_ele = driver.find_element_by_xpath('/html/body/c-wiz/div/div[2]/c-wiz/div[2]/c-wiz/div[1]/div[2]/div[2]/c-wiz[2]/div[5]/div[2]/div[1]/span[1]')\n",
        "      except:\n",
        "        driver = create_driver()\n",
        "        driver.get('https://www.google.com/')\n",
        "        time.sleep(5)\n",
        "        driver.get(\"https://translate.google.com/?sl=en&tl=fr&op=translate\")\n",
        "        text_area = driver.find_elements_by_tag_name(\"textarea\")[0]\n",
        "        continue\n",
        "    trans_word = trans_word_ele.text\n",
        "    print(trans_word)\n",
        "    try:\n",
        "      table = driver.find_element(By.TAG_NAME, 'table')\n",
        "      number_pos = len(table.find_elements(By.TAG_NAME, 'tbody'))\n",
        "      temp_dict = raw_text_to_text(table, number_pos)\n",
        "      for pos in list(temp_dict.keys()):\n",
        "        words_trans = temp_dict[pos]\n",
        "        for w_trans in words_trans:\n",
        "          line_dict = word + '\\t'+ w_trans + '\\t'+pos\n",
        "          my_dict.append(line_dict)\n",
        "          f.write(\"%s\\n\" % line_dict)\n",
        "      my_dict.append(word + '\\t'+ trans_word + '\\t'+'None')\n",
        "      f.write(\"%s\\n\" % (word + '\\t'+ trans_word + '\\t'+'None'))\n",
        "    except:\n",
        "        my_dict.append(word + '\\t'+ trans_word + '\\t'+'properNoun')\n",
        "        f.write(\"%s\\n\" % (word + '\\t'+ trans_word + '\\t'+'properNoun'))\n",
        "f.close()"
      ],
      "execution_count": null,
      "outputs": [
        {
          "output_type": "stream",
          "text": [
            "Einir ->  Einir.\n",
            "Loayza ->  Loayza.\n",
            "Primitivo ->  Primitivo\n",
            "hemoblast ->  hemoblast\n",
            "Auel ->  Auel.\n",
            "firewoman ->  bombeira\n",
            "sepiolite ->  SEPIOLITE.\n",
            "exasperation ->  exasperação\n",
            "Tarbagatay ->  Tarbagatay.\n",
            "Cape-Verde ->  Cabo Verde\n",
            "Emporiki ->  Emporiki.\n",
            "Gorbis ->  Gorbis.\n",
            "Marró ->  Marrógrafo\n",
            "Medel ->  Medel.\n",
            "Shogun ->  Shogun\n",
            "Enes ->  Enes.\n",
            "transoceanic ->  transoceânico\n",
            "Asrim ->  Asrim.\n",
            "Veliko Tarnovo ->  Veliko tarnovo.\n",
            "industrial state ->  estado industrial\n",
            "Teodora ->  Teodora.\n",
            "shinpad ->  shinpad.\n",
            "smoked ->  defumado\n",
            "Paride ->  Paride\n",
            "Ertugan ->  Ertugan.\n",
            "recount ->  recontagem\n",
            "Pechora ->  Pecora.\n",
            "Anhalt ->  Anhalt\n",
            "except for ->  exceto por\n",
            "Sib ->  Sib.\n",
            "away from ->  longe de\n",
            "amortizable ->  Amortizável\n",
            "Richards ->  Richards.\n",
            "landing strip ->  Landing Strip\n",
            "Elgin ->  Elgin.\n",
            "Ruecker ->  Ruecker.\n",
            "Biridina ->  Biridina\n",
            "Gezim ->  Gezim.\n",
            "dapple ->  deple.\n",
            "Zeyid ->  Zeyid.\n",
            "well-deserved ->  bem merecido\n",
            "shinguard ->  caneleira\n",
            "pizza ->  pizza\n",
            "Miklavcic ->  Miklavcic.\n",
            "reappoint ->  reavaliar\n",
            "Nishapur ->  Nishapur\n",
            "Bowers ->  Bowers.\n",
            "Saëns ->  Saëns.\n",
            "parliamentary rule ->  Regra parlamentar\n",
            "independence-minded ->  Independence-minded\n",
            "Chifte ->  Chifte.\n",
            "Toran ->  Toran.\n",
            "yeah ->  sim\n",
            "draft ->  rascunho\n",
            "Croteau ->  Croteau\n",
            "Lizeth ->  Lizeth.\n",
            "Pavlovski ->  Pavlovski.\n",
            "Boneva ->  Boneva.\n",
            "reap ->  colher\n",
            "Falles ->  Caebes.\n",
            "on top of ->  Em cima de\n",
            "four-metre ->  Quatro metros\n",
            "Ayllon ->  Ayllon.\n",
            "talk out ->  convencer\n",
            "Adilkhanulu ->  Adilkhanulu.\n",
            "Akyrtas ->  Akyrtas.\n",
            "joyless ->  sem alegria\n",
            "Bouza ->  BOUZA.\n",
            "Rupčić ->  Rupčić.\n",
            "wooden lattice ->  Leltice de madeira\n",
            "Mousseau ->  Mousseau\n",
            "dialectic ->  dialético\n",
            "voracity ->  voracidade\n",
            "Ulloa ->  Ulloa.\n",
            "Tancu ->  Tancu.\n",
            "Ferrás ->  Ferrás.\n",
            "right at the end ->  no final\n",
            "saltpetre ->  salitre\n",
            "thermoluminescence ->  Termoluminescência\n",
            "favour ->  Favor\n",
            "Shkupi ->  Shkupi.\n",
            "Ferreté ->  Ferreté.\n",
            "crate ->  Caixa\n",
            "biannual ->  semestral\n",
            "as the crow flies ->  Como o corvo voa\n",
            "proposal ->  proposta\n",
            "Neuf ->  Neuf.\n",
            "droop ->  inclinação\n",
            "Ottoman ->  Otomano\n",
            "Nurgaliev ->  Nurgaliev.\n",
            "selectable ->  selecionável\n",
            "step forward ->  passo à frente\n",
            "thundercloud ->  Thundercloud\n",
            "Puzigaca ->  Puzigaca.\n",
            "triplicity ->  triplicidade.\n",
            "oophorsalpingectomy ->  Oophorosalsetectomy.\n",
            "Schomburg ->  Schomburg.\n",
            "radioscopy ->  radioscopia\n",
            "disk drive ->  unidade de disco\n",
            "Kakimzhan ->  Kakimzhan\n",
            "Bruce ->  Bruce.\n",
            "Bershintobe ->  Bershintobe.\n",
            "Bjenaru ->  Bjenaru.\n",
            "Rowing Club of Zumaia ->  Clube de remo de Zumaia\n",
            "ineffably ->  inefAbstably.\n",
            "Nepomuceno ->  NEPOMUCENO.\n",
            "stigmatise ->  estigmatizar\n",
            "Magyar ->  Magyar.\n",
            "happy looking ->  olhando feliz\n",
            "Mills ->  Mills.\n",
            "hydrologist ->  hidrólogo\n",
            "Wrigley ->  Wrigley.\n",
            "Phin ->  Phin.\n",
            "Anand ->  Anand.\n",
            "Rosen ->  Rosen\n",
            "athlete ->  atleta\n",
            "Émilie ->  Émilie.\n",
            "Leibniz ->  Leibniz.\n",
            "subproject ->  subprojeto\n",
            "prevent ->  evita\n",
            "Spinderlegger ->  Adeiro.\n",
            "buttress ->  contraforte\n",
            "uttered ->  pronunciado\n",
            "Jesh ->  Jesh.\n",
            "bold letter ->  carta negrito\n",
            "categorized ->  categorizado\n",
            "defiance ->  desafio\n",
            "Kizilkaya ->  Kizilkaya.\n",
            "direction ->  direção\n",
            "Prados ->  Prados.\n",
            "prevalence ->  prevalência\n",
            "agrogeology ->  agrogeologia\n",
            "Ministry of Finance ->  Ministério das Finanças\n",
            "symphysis ->  Sinfise\n",
            "Deraa ->  Deraa.\n",
            "long-windedly ->  longo e rudemente\n",
            "peridot ->  peridoto\n",
            "Fradette ->  FRADETTE.\n",
            "patio ->  pátio\n",
            "New Nintendo 3DS XL ->  Novo Nintendo 3DS XL\n",
            "Eddie ->  Eddie\n",
            "photocomposition ->  fotocomposição.\n",
            "extremely lucky ->  extremamente sortudo\n",
            "desktop wallpaper ->  papel de parede\n",
            "Nezavisne ->  "
          ],
          "name": "stdout"
        }
      ]
    }
  ]
}