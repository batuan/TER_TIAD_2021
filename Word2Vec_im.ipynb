{
 "metadata": {
  "orig_nbformat": 2,
  "kernelspec": {
   "name": "python3",
   "display_name": "Python 3",
   "language": "python"
  }
 },
 "nbformat": 4,
 "nbformat_minor": 2,
 "cells": [
  {
   "cell_type": "code",
   "execution_count": 170,
   "metadata": {},
   "outputs": [],
   "source": [
    "import pandas as pd\n",
    "import os\n",
    "from gensim.models import Word2Vec\n",
    "from gensim.models.phrases import Phrases, Phraser\n",
    "from collections import defaultdict  # For word frequency\n",
    "from gensim import utils\n",
    "import numpy as np"
   ]
  },
  {
   "cell_type": "code",
   "execution_count": 3,
   "metadata": {},
   "outputs": [],
   "source": [
    "list_en_fr = ['ES-GL', 'ES-EO', 'CA-FR', 'EN-EU', 'ES-OC', 'EO-CA', 'FR-ES', 'ES-FR', 'OC-ES', 'EN-ES', 'EN-GL', 'OC-CA', 'EO-FR', 'EN-CA', 'ES-CA', 'GL-EN', 'OC-FR', 'EO-ES', 'CA-ES', 'EN-EO', 'EU-EN', 'CA-EO', 'EO-EN', 'FR-EO', 'ES-EN', 'FR-CA', 'CA-OC', 'CA-EN', 'EU-ES', 'ES-EU', 'FR-OC', 'GL-ES']\n",
    "def check_satisfy_en_fr(path):\n",
    "    for x in list_en_fr:\n",
    "        if x in path:\n",
    "            return True\n",
    "    return False"
   ]
  },
  {
   "cell_type": "code",
   "execution_count": 4,
   "metadata": {},
   "outputs": [],
   "source": [
    "lists = os.listdir('Small')\n",
    "lists = [x for x in lists if x.endswith('.csv')]\n",
    "lists = [x for x in lists if check_satisfy_en_fr(x)]\n",
    "# mypd = [pd.read_csv('./Small/' + x) for x in lists]"
   ]
  },
  {
   "cell_type": "code",
   "execution_count": 155,
   "metadata": {},
   "outputs": [
    {
     "output_type": "stream",
     "name": "stderr",
     "text": [
      "b'Skipping line 3754: expected 3 fields, saw 4\\nSkipping line 3756: expected 3 fields, saw 4\\nSkipping line 4388: expected 3 fields, saw 7\\nSkipping line 4389: expected 3 fields, saw 7\\nSkipping line 4463: expected 3 fields, saw 4\\nSkipping line 4518: expected 3 fields, saw 6\\nSkipping line 4970: expected 3 fields, saw 6\\nSkipping line 8491: expected 3 fields, saw 4\\nSkipping line 9421: expected 3 fields, saw 5\\nSkipping line 10025: expected 3 fields, saw 4\\nSkipping line 10383: expected 3 fields, saw 4\\nSkipping line 10401: expected 3 fields, saw 4\\nSkipping line 10414: expected 3 fields, saw 4\\nSkipping line 10704: expected 3 fields, saw 4\\nSkipping line 12191: expected 3 fields, saw 4\\nSkipping line 12192: expected 3 fields, saw 4\\nSkipping line 12262: expected 3 fields, saw 4\\nSkipping line 14408: expected 3 fields, saw 4\\nSkipping line 14409: expected 3 fields, saw 4\\nSkipping line 15015: expected 3 fields, saw 4\\nSkipping line 15464: expected 3 fields, saw 4\\nSkipping line 15465: expected 3 fields, saw 4\\nSkipping line 16788: expected 3 fields, saw 5\\nSkipping line 16835: expected 3 fields, saw 4\\nSkipping line 17695: expected 3 fields, saw 4\\nSkipping line 22183: expected 3 fields, saw 4\\nSkipping line 22184: expected 3 fields, saw 4\\nSkipping line 23877: expected 3 fields, saw 4\\nSkipping line 23986: expected 3 fields, saw 5\\nSkipping line 24451: expected 3 fields, saw 5\\nSkipping line 26396: expected 3 fields, saw 4\\nSkipping line 26559: expected 3 fields, saw 5\\nSkipping line 26560: expected 3 fields, saw 5\\nSkipping line 27197: expected 3 fields, saw 6\\nSkipping line 28280: expected 3 fields, saw 4\\nSkipping line 30723: expected 3 fields, saw 4\\nSkipping line 30953: expected 3 fields, saw 4\\nSkipping line 31103: expected 3 fields, saw 4\\nSkipping line 31243: expected 3 fields, saw 4\\nSkipping line 32087: expected 3 fields, saw 4\\nSkipping line 32148: expected 3 fields, saw 6\\nSkipping line 32222: expected 3 fields, saw 5\\nSkipping line 32455: expected 3 fields, saw 6\\nSkipping line 33945: expected 3 fields, saw 4\\nSkipping line 34138: expected 3 fields, saw 4\\nSkipping line 34705: expected 3 fields, saw 5\\nSkipping line 34706: expected 3 fields, saw 4\\nSkipping line 35404: expected 3 fields, saw 4\\nSkipping line 35968: expected 3 fields, saw 4\\nSkipping line 35969: expected 3 fields, saw 5\\nSkipping line 36108: expected 3 fields, saw 5\\nSkipping line 36141: expected 3 fields, saw 4\\nSkipping line 36977: expected 3 fields, saw 7\\nSkipping line 38487: expected 3 fields, saw 6\\nSkipping line 39347: expected 3 fields, saw 5\\nSkipping line 39950: expected 3 fields, saw 4\\nSkipping line 39998: expected 3 fields, saw 5\\nSkipping line 40321: expected 3 fields, saw 4\\nSkipping line 41933: expected 3 fields, saw 4\\nSkipping line 41934: expected 3 fields, saw 4\\nSkipping line 41936: expected 3 fields, saw 4\\nSkipping line 41937: expected 3 fields, saw 4\\nSkipping line 42166: expected 3 fields, saw 4\\nSkipping line 42463: expected 3 fields, saw 4\\nSkipping line 43036: expected 3 fields, saw 4\\nSkipping line 44485: expected 3 fields, saw 4\\nSkipping line 44486: expected 3 fields, saw 5\\nSkipping line 44498: expected 3 fields, saw 4\\nSkipping line 44499: expected 3 fields, saw 5\\nSkipping line 44500: expected 3 fields, saw 4\\nSkipping line 44502: expected 3 fields, saw 4\\nSkipping line 44988: expected 3 fields, saw 4\\nSkipping line 44989: expected 3 fields, saw 5\\nSkipping line 44990: expected 3 fields, saw 5\\nSkipping line 45099: expected 3 fields, saw 5\\nSkipping line 45159: expected 3 fields, saw 4\\nSkipping line 46901: expected 3 fields, saw 5\\nSkipping line 47467: expected 3 fields, saw 4\\nSkipping line 48106: expected 3 fields, saw 4\\nSkipping line 48547: expected 3 fields, saw 4\\nSkipping line 48548: expected 3 fields, saw 5\\nSkipping line 48549: expected 3 fields, saw 5\\nSkipping line 48550: expected 3 fields, saw 5\\nSkipping line 49120: expected 3 fields, saw 4\\nSkipping line 49483: expected 3 fields, saw 7\\nSkipping line 49503: expected 3 fields, saw 5\\nSkipping line 49511: expected 3 fields, saw 5\\nSkipping line 49513: expected 3 fields, saw 4\\nSkipping line 49893: expected 3 fields, saw 5\\nSkipping line 49935: expected 3 fields, saw 4\\nSkipping line 50164: expected 3 fields, saw 5\\nSkipping line 50188: expected 3 fields, saw 4\\nSkipping line 50287: expected 3 fields, saw 4\\nSkipping line 51104: expected 3 fields, saw 4\\nSkipping line 51273: expected 3 fields, saw 4\\nSkipping line 52057: expected 3 fields, saw 4\\nSkipping line 53720: expected 3 fields, saw 4\\nSkipping line 54027: expected 3 fields, saw 4\\nSkipping line 54773: expected 3 fields, saw 4\\nSkipping line 54920: expected 3 fields, saw 5\\nSkipping line 55462: expected 3 fields, saw 4\\nSkipping line 55468: expected 3 fields, saw 4\\nSkipping line 55469: expected 3 fields, saw 4\\nSkipping line 55470: expected 3 fields, saw 4\\nSkipping line 55481: expected 3 fields, saw 4\\nSkipping line 55486: expected 3 fields, saw 4\\nSkipping line 55500: expected 3 fields, saw 4\\nSkipping line 56618: expected 3 fields, saw 4\\nSkipping line 56820: expected 3 fields, saw 7\\nSkipping line 56845: expected 3 fields, saw 4\\nSkipping line 56871: expected 3 fields, saw 5\\nSkipping line 56883: expected 3 fields, saw 5\\nSkipping line 57046: expected 3 fields, saw 4\\nSkipping line 57478: expected 3 fields, saw 5\\nSkipping line 57555: expected 3 fields, saw 5\\nSkipping line 57560: expected 3 fields, saw 4\\nSkipping line 57750: expected 3 fields, saw 4\\nSkipping line 60986: expected 3 fields, saw 4\\nSkipping line 60987: expected 3 fields, saw 4\\nSkipping line 60988: expected 3 fields, saw 4\\nSkipping line 60990: expected 3 fields, saw 4\\nSkipping line 60991: expected 3 fields, saw 4\\nSkipping line 60992: expected 3 fields, saw 4\\nSkipping line 64898: expected 3 fields, saw 7\\nSkipping line 67950: expected 3 fields, saw 5\\nSkipping line 69125: expected 3 fields, saw 4\\nSkipping line 70606: expected 3 fields, saw 5\\nSkipping line 70915: expected 3 fields, saw 4\\nSkipping line 70916: expected 3 fields, saw 4\\nSkipping line 71211: expected 3 fields, saw 5\\nSkipping line 71212: expected 3 fields, saw 4\\nSkipping line 71213: expected 3 fields, saw 4\\nSkipping line 71214: expected 3 fields, saw 4\\nSkipping line 71734: expected 3 fields, saw 4\\nSkipping line 72204: expected 3 fields, saw 4\\nSkipping line 72714: expected 3 fields, saw 4\\nSkipping line 72715: expected 3 fields, saw 5\\nSkipping line 72784: expected 3 fields, saw 4\\nSkipping line 72872: expected 3 fields, saw 5\\nSkipping line 72964: expected 3 fields, saw 4\\nSkipping line 73114: expected 3 fields, saw 5\\nSkipping line 73508: expected 3 fields, saw 4\\nSkipping line 73617: expected 3 fields, saw 4\\nSkipping line 77780: expected 3 fields, saw 5\\nSkipping line 77793: expected 3 fields, saw 5\\nSkipping line 77795: expected 3 fields, saw 4\\nSkipping line 77801: expected 3 fields, saw 4\\nSkipping line 77810: expected 3 fields, saw 4\\nSkipping line 77811: expected 3 fields, saw 5\\nSkipping line 77835: expected 3 fields, saw 4\\nSkipping line 77840: expected 3 fields, saw 4\\nSkipping line 77843: expected 3 fields, saw 4\\nSkipping line 77919: expected 3 fields, saw 4\\nSkipping line 77933: expected 3 fields, saw 4\\nSkipping line 78599: expected 3 fields, saw 4\\nSkipping line 78612: expected 3 fields, saw 4\\nSkipping line 78956: expected 3 fields, saw 5\\nSkipping line 78957: expected 3 fields, saw 5\\nSkipping line 79023: expected 3 fields, saw 4\\nSkipping line 80491: expected 3 fields, saw 4\\nSkipping line 80559: expected 3 fields, saw 5\\nSkipping line 83711: expected 3 fields, saw 4\\nSkipping line 83853: expected 3 fields, saw 4\\nSkipping line 83866: expected 3 fields, saw 4\\nSkipping line 83993: expected 3 fields, saw 5\\nSkipping line 83994: expected 3 fields, saw 5\\nSkipping line 83996: expected 3 fields, saw 5\\nSkipping line 83997: expected 3 fields, saw 4\\nSkipping line 84003: expected 3 fields, saw 4\\nSkipping line 84004: expected 3 fields, saw 4\\nSkipping line 84006: expected 3 fields, saw 4\\nSkipping line 84035: expected 3 fields, saw 4\\nSkipping line 84038: expected 3 fields, saw 4\\nSkipping line 84743: expected 3 fields, saw 4\\nSkipping line 85002: expected 3 fields, saw 5\\nSkipping line 85389: expected 3 fields, saw 4\\nSkipping line 85390: expected 3 fields, saw 4\\nSkipping line 85393: expected 3 fields, saw 4\\nSkipping line 85542: expected 3 fields, saw 4\\nSkipping line 85610: expected 3 fields, saw 4\\nSkipping line 85640: expected 3 fields, saw 4\\n'\n"
     ]
    }
   ],
   "source": [
    "dictionary = pd.read_csv('./EvaluationDic/En-Frv2.csv', error_bad_lines=False)"
   ]
  },
  {
   "cell_type": "code",
   "execution_count": 22,
   "metadata": {},
   "outputs": [],
   "source": [
    "dic_source = dictionary['source'].tolist()"
   ]
  },
  {
   "cell_type": "code",
   "execution_count": 29,
   "metadata": {},
   "outputs": [],
   "source": [
    "array = []\n",
    "for x in lists[0:1]:\n",
    "    df = pd.read_csv('./Small/' + x)\n",
    "    for k in df['source'].tolist():\n",
    "        array.append(k)"
   ]
  },
  {
   "cell_type": "code",
   "execution_count": 35,
   "metadata": {},
   "outputs": [
    {
     "output_type": "execute_result",
     "data": {
      "text/plain": [
       "['Comi',\n",
       " 'glabella',\n",
       " 'El Idrissi',\n",
       " 'Campama',\n",
       " 'Benedict XVI',\n",
       " 'mucoprotein',\n",
       " 'neologistical',\n",
       " 'have a conversation',\n",
       " 'Marc Andreu',\n",
       " 'liberally',\n",
       " 'Ramona',\n",
       " 'Grohl',\n",
       " 'antiferreolectricity',\n",
       " 'Luigina',\n",
       " 'Gervais']"
      ]
     },
     "metadata": {},
     "execution_count": 35
    }
   ],
   "source": [
    "(list(set(array) - set(dic_source)))[0:15]"
   ]
  },
  {
   "cell_type": "code",
   "execution_count": 10,
   "metadata": {},
   "outputs": [
    {
     "output_type": "stream",
     "name": "stdout",
     "text": [
      "TransSetEN-CA_small.csv\nTransSetEN-ES_small.csv\nTransSetEN-GL_small.csv\nTransSetEO-CA_small.csv\nTransSetEO-EN_small.csv\nTransSetEO-ES_small.csv\nTransSetEO-FR_small.csv\nTransSetES-CA_small.csv\nTransSetES-GL_small.csv\nTransSetEU-EN_small.csv\nTransSetEU-ES_small.csv\nTransSetFR-CA_small.csv\nTransSetFR-ES_small.csv\nTransSetOC-CA_small.csv\nTransSetOC-ES_small.csv\nTransSetOC-FR_small.csv\n"
     ]
    }
   ],
   "source": [
    "list.sort(lists)\n",
    "for x in lists:\n",
    "    print(x)"
   ]
  },
  {
   "cell_type": "code",
   "execution_count": 60,
   "metadata": {},
   "outputs": [],
   "source": [
    "def df_to_sentense(file):\n",
    "  df = pd.read_csv('./Small/' + file)\n",
    "  df['source'] = df['source'].apply(lambda x: \"_\".join(str(x).split()))\n",
    "  df['target'] = df['target'].apply(lambda x: \"_\".join(str(x).split()))\n",
    "  df['translate1'] = df['source'] +'_'+ df['POS'] + ' ' + df['target'] + '_' + df['POS'] + ' ' + df['source'] +'_'+ df['POS'] + ' ' + df['target'] + '_' + df['POS'] \n",
    "  df['translate1'] = df['translate1'].astype(str)\n",
    "  # df['translate2'] = df['target'] +'_'+ df['POS'] + ' ' + df['source'] + '_' + df['POS'] \n",
    "  # df['translate2'] = df['translate2'].astype(str)\n",
    "  array = [x.split() for x in df['translate1'].tolist()]\n",
    "  return array#\" \".join(df['translate1']) #+ \" \".join(df['translate2'])"
   ]
  },
  {
   "cell_type": "code",
   "execution_count": 61,
   "metadata": {},
   "outputs": [],
   "source": [
    "sent = [df_to_sentense(x) for x in lists]\n",
    "#sent = [row.split() for row in sent]\n",
    "\n",
    "#create corpus by joint all line in sent\n",
    "corpus = []\n",
    "for se in sent:\n",
    "    for line in se:\n",
    "        corpus.append(line)"
   ]
  },
  {
   "cell_type": "code",
   "execution_count": 75,
   "metadata": {},
   "outputs": [],
   "source": [
    "model = Word2Vec(sentences=corpus, size=300, iter=300, window=1, min_count=4)"
   ]
  },
  {
   "cell_type": "code",
   "execution_count": 76,
   "metadata": {},
   "outputs": [
    {
     "output_type": "execute_result",
     "data": {
      "text/plain": [
       "(203004, 300)"
      ]
     },
     "metadata": {},
     "execution_count": 76
    }
   ],
   "source": [
    "model.wv.vectors.shape"
   ]
  },
  {
   "cell_type": "code",
   "execution_count": 261,
   "metadata": {},
   "outputs": [],
   "source": [
    "model.save('./model/first_model.model')"
   ]
  },
  {
   "cell_type": "code",
   "execution_count": 81,
   "metadata": {},
   "outputs": [
    {
     "output_type": "execute_result",
     "data": {
      "text/plain": [
       "[('doako_adjective', 0.992991030216217),\n",
       " ('gratuíto_adjective', 0.9928751587867737),\n",
       " ('gratuito_adjective', 0.9925113916397095),\n",
       " ('aske_adjective', 0.9909542202949524),\n",
       " ('senpaga_adjective', 0.9906609058380127),\n",
       " ('lliure_adjective', 0.9890164732933044),\n",
       " ('gratuit_adjective', 0.988632082939148),\n",
       " ('liure_adjective', 0.9878025054931641),\n",
       " ('lineare_nedependa_adjective', 0.9868024587631226),\n",
       " ('gratuït_adjective', 0.9865648746490479)]"
      ]
     },
     "metadata": {},
     "execution_count": 81
    }
   ],
   "source": [
    "model.wv.similar_by_word('free_adjective')"
   ]
  },
  {
   "cell_type": "code",
   "execution_count": 98,
   "metadata": {},
   "outputs": [
    {
     "output_type": "execute_result",
     "data": {
      "text/plain": [
       "array([[-0.03385356,  0.13950163],\n",
       "       [ 0.23350666, -0.04644945]], dtype=float32)"
      ]
     },
     "metadata": {},
     "execution_count": 98
    }
   ],
   "source": [
    "model.wv[['crumb_noun', 'free_adjective']][0:2,0:2]"
   ]
  },
  {
   "cell_type": "code",
   "execution_count": 99,
   "metadata": {},
   "outputs": [
    {
     "output_type": "execute_result",
     "data": {
      "text/plain": [
       "array([-0.03385356,  0.13950163], dtype=float32)"
      ]
     },
     "metadata": {},
     "execution_count": 99
    }
   ],
   "source": [
    "model.wv['crumb_noun'][0:2]"
   ]
  },
  {
   "cell_type": "code",
   "execution_count": 101,
   "metadata": {},
   "outputs": [],
   "source": [
    "path_dict_fr = ['TransSetFR-CA_small.csv', 'TransSetFR-ES_small.csv']\n",
    "df_fr1 = pd.read_csv('./Small/' + path_dict_fr[0])\n",
    "df_fr2 = pd.read_csv('./Small/' + path_dict_fr[1])"
   ]
  },
  {
   "cell_type": "code",
   "execution_count": 148,
   "metadata": {},
   "outputs": [],
   "source": [
    "a = (df_fr1['source'].astype(str) + '_' + df_fr1['POS'].astype(str)).to_list()\n",
    "b = (df_fr2['source'].astype(str) + '_' + df_fr2['POS'].astype(str)).to_list()"
   ]
  },
  {
   "cell_type": "code",
   "execution_count": 164,
   "metadata": {},
   "outputs": [],
   "source": [
    "vocabulary = list(model.wv.vocab.keys())"
   ]
  },
  {
   "cell_type": "code",
   "execution_count": 165,
   "metadata": {},
   "outputs": [
    {
     "output_type": "stream",
     "name": "stderr",
     "text": [
      "<ipython-input-165-daf035289aa7>:3: DeprecationWarning: Call to deprecated `__getitem__` (Method will be removed in 4.0.0, use self.wv.__getitem__() instead).\n  france_vectors = model[france_dict]\n"
     ]
    }
   ],
   "source": [
    "france_dict = list(set(a) & set(b))\n",
    "france_dict = list(set(france_dict) & set(vocabulary))\n",
    "france_vectors = model[france_dict]"
   ]
  },
  {
   "cell_type": "code",
   "execution_count": 157,
   "metadata": {},
   "outputs": [],
   "source": [
    "def to_word(list_df):\n",
    "    words = []\n",
    "    for path in list_df:\n",
    "        df = pd.read_csv('./Small/' + path)\n",
    "        words += (df['source'].astype(str) + '_' + df['POS'].astype(str)).to_list()\n",
    "    return set(words)"
   ]
  },
  {
   "cell_type": "code",
   "execution_count": 162,
   "metadata": {},
   "outputs": [],
   "source": [
    "path_dict_en = ['TransSetEN-CA_small.csv', 'TransSetEN-ES_small.csv', 'TransSetEN-GL_small.csv']\n",
    "words_en = to_word(path_dict_en)"
   ]
  },
  {
   "cell_type": "code",
   "execution_count": 166,
   "metadata": {},
   "outputs": [
    {
     "output_type": "stream",
     "name": "stderr",
     "text": [
      "<ipython-input-166-35fcd3405bfb>:2: DeprecationWarning: Call to deprecated `__getitem__` (Method will be removed in 4.0.0, use self.wv.__getitem__() instead).\n  english_vectors = model[words_en]\n"
     ]
    }
   ],
   "source": [
    "words_en = list(set(words_en) & set(vocabulary))\n",
    "english_vectors = model[words_en]"
   ]
  },
  {
   "cell_type": "code",
   "execution_count": 178,
   "metadata": {},
   "outputs": [
    {
     "output_type": "execute_result",
     "data": {
      "text/plain": [
       "(41145, 300)"
      ]
     },
     "metadata": {},
     "execution_count": 178
    }
   ],
   "source": [
    "english_vectors.shape"
   ]
  },
  {
   "cell_type": "code",
   "execution_count": 175,
   "metadata": {},
   "outputs": [],
   "source": [
    "def get_pos(word):\n",
    "    return word.split('_')[-1]"
   ]
  },
  {
   "cell_type": "code",
   "execution_count": 186,
   "metadata": {},
   "outputs": [],
   "source": [
    "def find_translate(word_vec, matrix_vec, dic_trans, pos):\n",
    "    assert len(matrix_vec) == len(dic_trans)\n",
    "    cosine_similary = model.wv.cosine_similarities(word_vec, matrix_vec)\n",
    "    sort_cosine = np.argsort(-cosine_similary)\n",
    "    for index in sort_cosine:\n",
    "        trans_word = dic_trans[index]\n",
    "        if(get_pos(trans_word)==pos):\n",
    "            return trans_word"
   ]
  },
  {
   "cell_type": "code",
   "execution_count": 259,
   "metadata": {},
   "outputs": [
    {
     "output_type": "stream",
     "name": "stderr",
     "text": [
      "<ipython-input-259-497a10250b79>:4: DeprecationWarning: Call to deprecated `__getitem__` (Method will be removed in 4.0.0, use self.wv.__getitem__() instead).\n  word_vec = model[word]\n"
     ]
    }
   ],
   "source": [
    "dict_en_fr = []\n",
    "for word in words_en:\n",
    "    pos = get_pos(word)\n",
    "    word_vec = model[word]\n",
    "    trans_word = find_translate(word_vec, france_vectors, france_dict, pos)\n",
    "    if trans_word != None:\n",
    "        trans_word = to_word(trans_word)\n",
    "    dict_en_fr.append(to_word(word)+'\\t'+str(trans_word)+'\\t'+str(pos)+'\\t1')"
   ]
  },
  {
   "cell_type": "code",
   "execution_count": 231,
   "metadata": {},
   "outputs": [],
   "source": [
    "def to_word(word):\n",
    "    return ' '.join(word.split('_')[0:-1])"
   ]
  },
  {
   "cell_type": "code",
   "execution_count": 234,
   "metadata": {},
   "outputs": [
    {
     "output_type": "execute_result",
     "data": {
      "text/plain": [
       "41145"
      ]
     },
     "metadata": {},
     "execution_count": 234
    }
   ],
   "source": [
    "dict_en_fr.insert(0, '')"
   ]
  },
  {
   "cell_type": "code",
   "execution_count": 260,
   "metadata": {},
   "outputs": [],
   "source": [
    "with open('./BuildDictionary/TIADbaseline_trans_en-fr.tsv', 'w') as f:\n",
    "    for item in dict_en_fr:\n",
    "        f.write(\"%s\\n\" % item)"
   ]
  }
 ]
}