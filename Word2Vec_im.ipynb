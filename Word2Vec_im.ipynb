{
 "metadata": {
  "orig_nbformat": 2,
  "kernelspec": {
   "name": "python3",
   "display_name": "Python 3",
   "language": "python"
  }
 },
 "nbformat": 4,
 "nbformat_minor": 2,
 "cells": [
  {
   "cell_type": "code",
   "execution_count": 2,
   "metadata": {},
   "outputs": [],
   "source": [
    "import pandas as pd"
   ]
  },
  {
   "cell_type": "code",
   "execution_count": 4,
   "metadata": {},
   "outputs": [],
   "source": [
    "import os\n",
    "lists = os.listdir('Small')\n",
    "lists = [x for x in lists if x.endswith('.csv')]"
   ]
  },
  {
   "cell_type": "code",
   "execution_count": 7,
   "metadata": {},
   "outputs": [],
   "source": [
    "mypd = [pd.read_csv('./Small/' + x) for x in lists]"
   ]
  },
  {
   "cell_type": "code",
   "execution_count": null,
   "metadata": {},
   "outputs": [],
   "source": [
    "def toSentense(x):\n",
    "    a = []\n",
    "    for word in x:\n",
    "        "
   ]
  },
  {
   "cell_type": "code",
   "execution_count": 51,
   "metadata": {},
   "outputs": [
    {
     "output_type": "execute_result",
     "data": {
      "text/plain": [
       "        source        target      POS\n",
       "0  propietario  proprietário     noun\n",
       "1     anticipo         abono     noun\n",
       "2     cercanía      cercania     noun\n",
       "3       anclar       ancorar     verb\n",
       "4     cuarenta      quarenta  numeral"
      ],
      "text/html": "<div>\n<style scoped>\n    .dataframe tbody tr th:only-of-type {\n        vertical-align: middle;\n    }\n\n    .dataframe tbody tr th {\n        vertical-align: top;\n    }\n\n    .dataframe thead th {\n        text-align: right;\n    }\n</style>\n<table border=\"1\" class=\"dataframe\">\n  <thead>\n    <tr style=\"text-align: right;\">\n      <th></th>\n      <th>source</th>\n      <th>target</th>\n      <th>POS</th>\n    </tr>\n  </thead>\n  <tbody>\n    <tr>\n      <th>0</th>\n      <td>propietario</td>\n      <td>proprietário</td>\n      <td>noun</td>\n    </tr>\n    <tr>\n      <th>1</th>\n      <td>anticipo</td>\n      <td>abono</td>\n      <td>noun</td>\n    </tr>\n    <tr>\n      <th>2</th>\n      <td>cercanía</td>\n      <td>cercania</td>\n      <td>noun</td>\n    </tr>\n    <tr>\n      <th>3</th>\n      <td>anclar</td>\n      <td>ancorar</td>\n      <td>verb</td>\n    </tr>\n    <tr>\n      <th>4</th>\n      <td>cuarenta</td>\n      <td>quarenta</td>\n      <td>numeral</td>\n    </tr>\n  </tbody>\n</table>\n</div>"
     },
     "metadata": {},
     "execution_count": 51
    }
   ],
   "source": [
    "# new_string = mypd[5]['source'].apply(lambda x : x + '')\n",
    "sentences_source = [\" \".join(list(x['source'].astype(str))) for x in mypd]\n",
    "sentences_target = [\" \".join(str(list(x['target']))) for x in mypd]\n",
    "mypd[5].head()"
   ]
  },
  {
   "cell_type": "code",
   "execution_count": 112,
   "metadata": {},
   "outputs": [],
   "source": [
    "a = list(mypd[5]['source'].astype(str))"
   ]
  },
  {
   "cell_type": "code",
   "execution_count": 167,
   "metadata": {},
   "outputs": [],
   "source": [
    "from gensim.models.phrases import Phrases, Phraser\n",
    "from collections import defaultdict  # For word frequency\n",
    "sent = [str(row).split() for row in mypd[20]['source']]"
   ]
  },
  {
   "cell_type": "code",
   "execution_count": 169,
   "metadata": {},
   "outputs": [
    {
     "output_type": "execute_result",
     "data": {
      "text/plain": [
       "21062"
      ]
     },
     "metadata": {},
     "execution_count": 169
    }
   ],
   "source": [
    "phrases = Phrases(sent, min_count=30, progress_per=10000)\n",
    "bigram = Phraser(phrases)\n",
    "sentences = bigram[sent]"
   ]
  },
  {
   "cell_type": "code",
   "execution_count": 171,
   "metadata": {},
   "outputs": [
    {
     "output_type": "execute_result",
     "data": {
      "text/plain": [
       "28916"
      ]
     },
     "metadata": {},
     "execution_count": 171
    }
   ],
   "source": [
    "len(sentences)"
   ]
  },
  {
   "cell_type": "code",
   "execution_count": 172,
   "metadata": {},
   "outputs": [],
   "source": [
    "from gensim.models import Word2Vec"
   ]
  },
  {
   "cell_type": "code",
   "execution_count": 173,
   "metadata": {},
   "outputs": [],
   "source": [
    "w2v_model = Word2Vec(min_count=20,\n",
    "                     window=2,\n",
    "                     size=200,\n",
    "                     sample=6e-5, \n",
    "                     alpha=0.03, \n",
    "                     min_alpha=0.0007, \n",
    "                     negative=20)"
   ]
  },
  {
   "cell_type": "code",
   "execution_count": 174,
   "metadata": {},
   "outputs": [
    {
     "output_type": "execute_result",
     "data": {
      "text/plain": [
       "28916"
      ]
     },
     "metadata": {},
     "execution_count": 174
    }
   ],
   "source": [
    "w2v_model.build_vocab(sentences)\n",
    "w2v_model.corpus_count"
   ]
  },
  {
   "cell_type": "code",
   "execution_count": 180,
   "metadata": {},
   "outputs": [
    {
     "output_type": "execute_result",
     "data": {
      "text/plain": [
       "(28248, 3582100)"
      ]
     },
     "metadata": {},
     "execution_count": 180
    }
   ],
   "source": [
    "w2v_model.train(sentences, total_examples=w2v_model.corpus_count, epochs=100, report_delay=1)"
   ]
  },
  {
   "cell_type": "code",
   "execution_count": 181,
   "metadata": {},
   "outputs": [
    {
     "output_type": "execute_result",
     "data": {
      "text/plain": [
       "(74, 200)"
      ]
     },
     "metadata": {},
     "execution_count": 181
    }
   ],
   "source": [
    "w2v_model.init_sims(replace=True)\n",
    "w2v_model.wv.vectors.shape"
   ]
  },
  {
   "cell_type": "code",
   "execution_count": null,
   "metadata": {},
   "outputs": [],
   "source": []
  }
 ]
}