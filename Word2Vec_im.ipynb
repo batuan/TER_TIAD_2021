{
 "metadata": {
  "orig_nbformat": 2,
  "kernelspec": {
   "name": "python3",
   "display_name": "Python 3",
   "language": "python"
  }
 },
 "nbformat": 4,
 "nbformat_minor": 2,
 "cells": [
  {
   "cell_type": "code",
   "execution_count": 12,
   "metadata": {},
   "outputs": [],
   "source": [
    "import pandas as pd\n",
    "import os\n",
    "from gensim.models import Word2Vec\n",
    "from gensim.models.phrases import Phrases, Phraser\n",
    "from collections import defaultdict  # For word frequency\n",
    "from gensim import utils"
   ]
  },
  {
   "cell_type": "code",
   "execution_count": 7,
   "metadata": {},
   "outputs": [],
   "source": [
    "list_en_fr = ['ES-GL', 'ES-EO', 'CA-FR', 'EN-EU', 'ES-OC', 'EO-CA', 'FR-ES', 'ES-FR', 'OC-ES', 'EN-ES', 'EN-GL', 'OC-CA', 'EO-FR', 'EN-CA', 'ES-CA', 'GL-EN', 'OC-FR', 'EO-ES', 'CA-ES', 'EN-EO', 'EU-EN', 'CA-EO', 'EO-EN', 'FR-EO', 'ES-EN', 'FR-CA', 'CA-OC', 'CA-EN', 'EU-ES', 'ES-EU', 'FR-OC', 'GL-ES']\n",
    "def check_satisfy_en_fr(path):\n",
    "    for x in list_en_fr:\n",
    "        if x in path:\n",
    "            return True\n",
    "    return False"
   ]
  },
  {
   "cell_type": "code",
   "execution_count": 8,
   "metadata": {},
   "outputs": [],
   "source": [
    "lists = os.listdir('Small')\n",
    "lists = [x for x in lists if x.endswith('.csv')]\n",
    "lists = [x for x in lists if check_satisfy_en_fr(x)]\n",
    "# mypd = [pd.read_csv('./Small/' + x) for x in lists]"
   ]
  },
  {
   "cell_type": "code",
   "execution_count": 40,
   "metadata": {},
   "outputs": [
    {
     "output_type": "stream",
     "name": "stdout",
     "text": [
      "TransSetFR-CA_small.csv 0\nTransSetES-CA_small.csv 1\nTransSetEN-GL_small.csv 2\nTransSetEU-EN_small.csv 3\nTransSetEO-ES_small.csv 4\nTransSetOC-ES_small.csv 5\nTransSetEN-ES_small.csv 6\nTransSetFR-ES_small.csv 7\nTransSetEO-EN_small.csv 8\nTransSetEU-ES_small.csv 9\nTransSetES-GL_small.csv 10\nTransSetOC-CA_small.csv 11\nTransSetEN-CA_small.csv 12\nTransSetOC-FR_small.csv 13\nTransSetEO-CA_small.csv 14\nTransSetEO-FR_small.csv 15\n"
     ]
    }
   ],
   "source": [
    "for x in lists:\n",
    "    print(x, lists.index(x))"
   ]
  },
  {
   "cell_type": "code",
   "execution_count": 65,
   "metadata": {},
   "outputs": [],
   "source": [
    "def df_to_sentense(file):\n",
    "  df = pd.read_csv('./Small/' + file)\n",
    "  df['source'] = df['source'].apply(lambda x: \"_\".join(str(x).split()))\n",
    "  df['target'] = df['target'].apply(lambda x: \"_\".join(str(x).split()))\n",
    "  df['translate1'] = df['source'] +'_'+ df['POS'] + ' ' + df['target'] + '_' + df['POS'] \n",
    "  df['translate1'] = df['translate1'].astype(str)\n",
    "  df['translate2'] = df['target'] +'_'+ df['POS'] + ' ' + df['source'] + '_' + df['POS'] \n",
    "  df['translate2'] = df['translate2'].astype(str)\n",
    "  return \" \".join(df['translate1']) + \" \".join(df['translate2'])"
   ]
  },
  {
   "cell_type": "code",
   "execution_count": 71,
   "metadata": {},
   "outputs": [],
   "source": [
    "sent = [df_to_sentense(x) for x in lists]\n",
    "sent = [row.split() for row in sent]"
   ]
  },
  {
   "cell_type": "code",
   "execution_count": 74,
   "metadata": {},
   "outputs": [
    {
     "output_type": "execute_result",
     "data": {
      "text/plain": [
       "['waiting_for_preposition',\n",
       " 'esperando_a_preposition',\n",
       " 'split_verb',\n",
       " 'partir_verb',\n",
       " 'Donostia-San_Sebastián_properNoun',\n",
       " 'Donostia-San_Sebastián_properNoun',\n",
       " 'little_adverb',\n",
       " 'poco_adverb',\n",
       " 'send_back_verb',\n",
       " 'devolver_verb']"
      ]
     },
     "metadata": {},
     "execution_count": 74
    }
   ],
   "source": [
    "sent[6][0:10]"
   ]
  },
  {
   "cell_type": "code",
   "execution_count": 81,
   "metadata": {},
   "outputs": [],
   "source": [
    "model = Word2Vec(sentences=sent, size=300, iter=300, window=1, min_count=4)"
   ]
  },
  {
   "cell_type": "code",
   "execution_count": 82,
   "metadata": {},
   "outputs": [
    {
     "output_type": "execute_result",
     "data": {
      "text/plain": [
       "(203000, 300)"
      ]
     },
     "metadata": {},
     "execution_count": 82
    }
   ],
   "source": [
    "model.wv.vectors.shape"
   ]
  },
  {
   "cell_type": "code",
   "execution_count": 86,
   "metadata": {},
   "outputs": [
    {
     "output_type": "execute_result",
     "data": {
      "text/plain": [
       "[('controvertit_adjective', 0.9935986995697021),\n",
       " ('embriología_noun', 0.9918532967567444),\n",
       " ('partopreno_noun', 0.9658606648445129),\n",
       " ('participación_noun', 0.9601420164108276),\n",
       " ('allophone_noun', 0.9553970694541931),\n",
       " ('sendolora_adjective', 0.9409394264221191),\n",
       " ('superimpose_verb', 0.939709484577179),\n",
       " ('burxada_noun', 0.9365978240966797),\n",
       " ('jab_noun', 0.9349446892738342),\n",
       " ('internacional_noun', 0.9326945543289185)]"
      ]
     },
     "metadata": {},
     "execution_count": 86
    }
   ],
   "source": [
    "model.wv.similar_by_word('participació_noun')"
   ]
  }
 ]
}