{
 "metadata": {
  "orig_nbformat": 2,
  "kernelspec": {
   "name": "python3",
   "display_name": "Python 3",
   "language": "python"
  }
 },
 "nbformat": 4,
 "nbformat_minor": 2,
 "cells": [
  {
   "cell_type": "code",
   "execution_count": 151,
   "metadata": {},
   "outputs": [],
   "source": [
    "#Create dictionary from English - French Dictionary form http://download.wikdict.com/dictionaries/tei/recommended/\n",
    "# Using xml.dom for parser\n",
    "dict_post = {\n",
    "    \"prefix\":\"Prefix\",\n",
    "    \"numeral\":\"numeral\",\n",
    "    \"phraseologicalUnit\":\"phraseologicalUnit\",\n",
    "    \"determiner\":\"determiner\",\n",
    "    \"postposition\":\"postposition\",\n",
    "    \"adj\":\"adjective\",\n",
    "    \"v\":\"verb\",\n",
    "    \"pronoun\":\"Pronoun\",\n",
    "    \"interjection\":\"interjection\",\n",
    "    \"conjunction\":\"conjunction\",\n",
    "    \"n\":\"noun\",\n",
    "    \"pn\":\"pronoun\",\n",
    "    \"suffix\":\"Suffix\",\n",
    "    \"proverb\":\"proverb\",\n",
    "    \"adv\":\"adverb\",\n",
    "    \"article\":\"Article\",\n",
    "    \"symbol\":\"Symbol\",\n",
    "    \"particle\":\"particle\",\n",
    "    \"preposition\":\"preposition\",\n",
    "}"
   ]
  },
  {
   "cell_type": "code",
   "execution_count": 40,
   "metadata": {},
   "outputs": [],
   "source": [
    "from xml.dom import minidom"
   ]
  },
  {
   "cell_type": "code",
   "execution_count": 41,
   "metadata": {},
   "outputs": [],
   "source": [
    "xmldoc = minidom.parse('./EvalutionDic/eng-fra.tei.xml')"
   ]
  },
  {
   "cell_type": "code",
   "execution_count": 43,
   "metadata": {},
   "outputs": [],
   "source": [
    "itemlist = xmldoc.getElementsByTagName('entry')"
   ]
  },
  {
   "cell_type": "code",
   "execution_count": 105,
   "metadata": {},
   "outputs": [
    {
     "output_type": "execute_result",
     "data": {
      "text/plain": [
       "str"
      ]
     },
     "metadata": {},
     "execution_count": 105
    }
   ],
   "source": [
    "type(itemlist[1].getElementsByTagName('pos')[0].childNodes[0].nodeValue)"
   ]
  },
  {
   "cell_type": "code",
   "execution_count": 131,
   "metadata": {},
   "outputs": [
    {
     "output_type": "execute_result",
     "data": {
      "text/plain": [
       "True"
      ]
     },
     "metadata": {},
     "execution_count": 131
    }
   ],
   "source": [
    "item.getElementsByTagName('pos').item(0) == None"
   ]
  },
  {
   "cell_type": "code",
   "execution_count": 152,
   "metadata": {},
   "outputs": [],
   "source": [
    "a = []\n",
    "for item in itemlist:\n",
    "    pos_node = item.getElementsByTagName('pos').item(0)\n",
    "    if(pos_node != None):\n",
    "        a.append(pos_node.childNodes[0].nodeValue)\n",
    "    else:\n",
    "        ortho = item.getElementsByTagName('orth').item(0).childNodes[0].nodeValue\n",
    "        print(ortho)"
   ]
  },
  {
   "cell_type": "code",
   "execution_count": 166,
   "metadata": {},
   "outputs": [
    {
     "output_type": "stream",
     "name": "stdout",
     "text": [
      "lame quart d'onde\nlame λ/4\n"
     ]
    }
   ],
   "source": [
    "for x in item.getElementsByTagName('quote'):\n",
    "    print(x.childNodes[0].nodeValue)"
   ]
  },
  {
   "cell_type": "code",
   "execution_count": 156,
   "metadata": {},
   "outputs": [],
   "source": [
    "def getValue(item, tag):\n",
    "    node = item.getElementsByTagName(tag).item(0)\n",
    "    if(node != None):\n",
    "        return node.childNodes[0].nodeValue\n",
    "    else:\n",
    "        return None"
   ]
  },
  {
   "cell_type": "code",
   "execution_count": 168,
   "metadata": {},
   "outputs": [],
   "source": [
    "def getTargets(item, tag='quote'):\n",
    "    nodes = item.getElementsByTagName(tag)\n",
    "    targets = []\n",
    "    if(nodes != None):\n",
    "        for node in nodes:\n",
    "            targets.append(node.childNodes[0].nodeValue)\n",
    "        return targets\n",
    "    else:\n",
    "        return None"
   ]
  },
  {
   "cell_type": "code",
   "execution_count": null,
   "metadata": {},
   "outputs": [],
   "source": [
    "def item_to_string(item):\n",
    "    strings = []\n",
    "    source = getValue(item, 'orth')\n",
    "    targets = getTargets(item)\n",
    "    pos = getValue(item, 'pos')\n",
    "    for target in targets:\n",
    "        line = '' + str(source) + ',' + str(target) + ',' + str(post)\n",
    "        strings.append(line)\n",
    "    return strings"
   ]
  },
  {
   "cell_type": "code",
   "execution_count": 148,
   "metadata": {},
   "outputs": [],
   "source": []
  },
  {
   "cell_type": "code",
   "execution_count": 150,
   "metadata": {},
   "outputs": [
    {
     "output_type": "execute_result",
     "data": {
      "text/plain": [
       "'verb'"
      ]
     },
     "metadata": {},
     "execution_count": 150
    }
   ],
   "source": []
  }
 ]
}