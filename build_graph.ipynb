{
 "cells": [
  {
   "cell_type": "code",
   "execution_count": 1,
   "metadata": {},
   "outputs": [],
   "source": [
    "import os\n",
    "list_dir = os.listdir('./TransSets_ApertiumRDFv2_1_CSV/')\n",
    "list_dir = [a for a in list_dir if a.endswith('csv')]"
   ]
  },
  {
   "cell_type": "code",
   "execution_count": 2,
   "metadata": {},
   "outputs": [],
   "source": [
    "nodes = []\n",
    "edges = []\n",
    "for path in list_dir:\n",
    "    edge = path.split('Set')[1].split('.')[0].split('-')\n",
    "    edges.append(edge)\n",
    "    if(edge[0] not in nodes):\n",
    "        nodes.append(edge[0])\n",
    "    if(edge[1] not in nodes):\n",
    "        nodes.append(edge[1])"
   ]
  },
  {
   "cell_type": "code",
   "execution_count": 93,
   "metadata": {},
   "outputs": [],
   "source": [
    "import networkx as nx\n",
    "import matplotlib.pyplot as plt\n",
    "graph = nx.Graph()"
   ]
  },
  {
   "cell_type": "code",
   "execution_count": 97,
   "metadata": {},
   "outputs": [],
   "source": [
    "for node  in nodes:\n",
    "    graph.add_node(node)\n",
    "graph.add_edges_from(edges)"
   ]
  },
  {
   "cell_type": "code",
   "execution_count": 96,
   "metadata": {},
   "outputs": [
    {
     "ename": "TypeError",
     "evalue": "'AdjacencyView' object is not callable",
     "output_type": "error",
     "traceback": [
      "\u001b[0;31m---------------------------------------------------------------------------\u001b[0m",
      "\u001b[0;31mTypeError\u001b[0m                                 Traceback (most recent call last)",
      "\u001b[0;32m<ipython-input-96-c315ea9bf30f>\u001b[0m in \u001b[0;36m<module>\u001b[0;34m\u001b[0m\n\u001b[0;32m----> 1\u001b[0;31m \u001b[0mlist\u001b[0m\u001b[0;34m(\u001b[0m\u001b[0mgraph\u001b[0m\u001b[0;34m.\u001b[0m\u001b[0madj\u001b[0m\u001b[0;34m(\u001b[0m\u001b[0;34m'FR'\u001b[0m\u001b[0;34m)\u001b[0m\u001b[0;34m)\u001b[0m\u001b[0;34m\u001b[0m\u001b[0;34m\u001b[0m\u001b[0m\n\u001b[0m",
      "\u001b[0;31mTypeError\u001b[0m: 'AdjacencyView' object is not callable"
     ]
    }
   ],
   "source": [
    "list(graph.adj('FR'))"
   ]
  },
  {
   "cell_type": "code",
   "execution_count": 111,
   "metadata": {},
   "outputs": [
    {
     "name": "stdout",
     "output_type": "stream",
     "text": [
      "[('EN', 'ES'), ('ES', 'FR')]\n",
      "[('EN', 'ES'), ('ES', 'EO'), ('EO', 'FR')]\n",
      "[('EN', 'ES'), ('ES', 'CA'), ('CA', 'FR')]\n",
      "[('EN', 'ES'), ('ES', 'OC'), ('OC', 'FR')]\n",
      "[('EN', 'GL'), ('GL', 'ES'), ('ES', 'FR')]\n",
      "[('EN', 'EO'), ('EO', 'FR')]\n",
      "[('EN', 'EO'), ('EO', 'ES'), ('ES', 'FR')]\n",
      "[('EN', 'EO'), ('EO', 'CA'), ('CA', 'FR')]\n",
      "[('EN', 'EU'), ('EU', 'ES'), ('ES', 'FR')]\n",
      "[('EN', 'CA'), ('CA', 'FR')]\n",
      "[('EN', 'CA'), ('CA', 'ES'), ('ES', 'FR')]\n",
      "[('EN', 'CA'), ('CA', 'OC'), ('OC', 'FR')]\n",
      "[('EN', 'CA'), ('CA', 'EO'), ('EO', 'FR')]\n"
     ]
    }
   ],
   "source": [
    "# graph = graph.to_directed(graph)\n",
    "# list(graph.successors('CRH'))\n",
    "array_node = []\n",
    "for path in nx.all_simple_edge_paths(graph, source='EN', target='FR'):\n",
    "    if(len(path)<4):\n",
    "        for x in path:\n",
    "            array_node.append(x)\n",
    "        print(path)\n",
    "list_edges = list(set(array_node))"
   ]
  },
  {
   "cell_type": "code",
   "execution_count": 120,
   "metadata": {},
   "outputs": [],
   "source": [
    "# for x in set_node:\n",
    "#     print(x)\n",
    "my_file = []\n",
    "for edge in list_edges:\n",
    "    edge1 = '' + edge[0] + '-' + edge[1]\n",
    "    edge2 = '' + edge[1] + '-' + edge[0]\n",
    "    my_file.append(edge1)\n",
    "    my_file.append(edge2)"
   ]
  },
  {
   "cell_type": "code",
   "execution_count": 125,
   "metadata": {},
   "outputs": [
    {
     "name": "stdout",
     "output_type": "stream",
     "text": [
      "['ES-GL', 'ES-EO', 'CA-FR', 'EN-EU', 'ES-OC', 'EO-CA', 'FR-ES', 'ES-FR', 'OC-ES', 'EN-ES', 'EN-GL', 'OC-CA', 'EO-FR', 'EN-CA', 'ES-CA', 'GL-EN', 'OC-FR', 'EO-ES', 'CA-ES', 'EN-EO', 'EU-EN', 'CA-EO', 'EO-EN', 'FR-EO', 'ES-EN', 'FR-CA', 'CA-OC', 'CA-EN', 'EU-ES', 'ES-EU', 'FR-OC', 'GL-ES']\n"
     ]
    }
   ],
   "source": [
    "print(list(set(my_file)))"
   ]
  },
  {
   "cell_type": "code",
   "execution_count": null,
   "metadata": {},
   "outputs": [],
   "source": [
    "# plt.figure(figsize=(15, 15))\n",
    "# pos = nx.spring_layout(graph)\n",
    "# nx.draw_networkx_nodes(graph, pos, cmap=plt.get_cmap('jet'), node_size = 500)\n",
    "# nx.draw_networkx_labels(graph, pos)\n",
    "# nx.draw_networkx_edges(graph, pos, edge_color='r', arrows=True)\n",
    "# plt.show()"
   ]
  },
  {
   "cell_type": "markdown",
   "metadata": {},
   "source": [
    "![graph](https://tiad2021.unizar.es/images/ApertiumRDFv2.0_graph.png)"
   ]
  },
  {
   "cell_type": "code",
   "execution_count": null,
   "metadata": {},
   "outputs": [],
   "source": []
  }
 ],
 "metadata": {
  "kernelspec": {
   "display_name": "Python 3",
   "language": "python",
   "name": "python3"
  },
  "language_info": {
   "codemirror_mode": {
    "name": "ipython",
    "version": 3
   },
   "file_extension": ".py",
   "mimetype": "text/x-python",
   "name": "python",
   "nbconvert_exporter": "python",
   "pygments_lexer": "ipython3",
   "version": "3.8.8"
  }
 },
 "nbformat": 4,
 "nbformat_minor": 2
}
