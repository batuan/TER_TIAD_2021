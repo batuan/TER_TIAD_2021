{
 "cells": [
  {
   "cell_type": "code",
   "execution_count": 2,
   "id": "b57844dd",
   "metadata": {},
   "outputs": [],
   "source": [
    "import pandas as pd\n",
    "import os"
   ]
  },
  {
   "cell_type": "code",
   "execution_count": 3,
   "id": "53e34518",
   "metadata": {},
   "outputs": [],
   "source": [
    "list_dir = os.listdir('./')\n",
    "list_dir_en_source = [x for x in list_dir if 'EN-' in x]\n",
    "list_dir_en_target = [x for x in list_dir if '-EN' in x]"
   ]
  },
  {
   "cell_type": "code",
   "execution_count": 6,
   "id": "b2722501",
   "metadata": {},
   "outputs": [],
   "source": [
    "df_en= pd.DataFrame(columns=['source', 'POS'])\n",
    "for path_source in list_dir_en_source:\n",
    "  path_source = path_source \n",
    "  df = pd.read_csv(path_source, delimiter=',', error_bad_lines=False)\n",
    "  df_form_source = df[['source', 'POS']]\n",
    "  df_en = pd.concat([df_en, df_form_source], ignore_index=True)"
   ]
  },
  {
   "cell_type": "code",
   "execution_count": 7,
   "id": "9466b712",
   "metadata": {},
   "outputs": [],
   "source": [
    "for path_source in list_dir_en_target:\n",
    "  path_source =  path_source \n",
    "  df = pd.read_csv(path_source, delimiter=',', error_bad_lines=False)\n",
    "  df_form_source = df[['target', 'POS']]\n",
    "  df_form_source.columns = ['source', 'POS']\n",
    "  df_en = pd.concat([df_en, df_form_source], ignore_index=True)"
   ]
  },
  {
   "cell_type": "code",
   "execution_count": 8,
   "id": "e6c2de02",
   "metadata": {},
   "outputs": [
    {
     "data": {
      "text/html": [
       "<div>\n",
       "<style scoped>\n",
       "    .dataframe tbody tr th:only-of-type {\n",
       "        vertical-align: middle;\n",
       "    }\n",
       "\n",
       "    .dataframe tbody tr th {\n",
       "        vertical-align: top;\n",
       "    }\n",
       "\n",
       "    .dataframe thead th {\n",
       "        text-align: right;\n",
       "    }\n",
       "</style>\n",
       "<table border=\"1\" class=\"dataframe\">\n",
       "  <thead>\n",
       "    <tr style=\"text-align: right;\">\n",
       "      <th></th>\n",
       "      <th>source</th>\n",
       "      <th>POS</th>\n",
       "    </tr>\n",
       "  </thead>\n",
       "  <tbody>\n",
       "    <tr>\n",
       "      <th>93461</th>\n",
       "      <td>multiplied by</td>\n",
       "      <td>adverb</td>\n",
       "    </tr>\n",
       "    <tr>\n",
       "      <th>93462</th>\n",
       "      <td>Cornish</td>\n",
       "      <td>adjective</td>\n",
       "    </tr>\n",
       "    <tr>\n",
       "      <th>93463</th>\n",
       "      <td>Chantelle</td>\n",
       "      <td>properNoun</td>\n",
       "    </tr>\n",
       "    <tr>\n",
       "      <th>93464</th>\n",
       "      <td>raise jointly</td>\n",
       "      <td>verb</td>\n",
       "    </tr>\n",
       "    <tr>\n",
       "      <th>93465</th>\n",
       "      <td>Alannah</td>\n",
       "      <td>properNoun</td>\n",
       "    </tr>\n",
       "  </tbody>\n",
       "</table>\n",
       "</div>"
      ],
      "text/plain": [
       "              source         POS\n",
       "93461  multiplied by      adverb\n",
       "93462        Cornish   adjective\n",
       "93463      Chantelle  properNoun\n",
       "93464  raise jointly        verb\n",
       "93465        Alannah  properNoun"
      ]
     },
     "execution_count": 8,
     "metadata": {},
     "output_type": "execute_result"
    }
   ],
   "source": [
    "df_en = df_en.drop_duplicates(ignore_index=True)\n",
    "df_en.tail(5)"
   ]
  },
  {
   "cell_type": "code",
   "execution_count": 9,
   "id": "bf64860a",
   "metadata": {},
   "outputs": [],
   "source": [
    "max_rows = 4500\n",
    "dataframes = []\n",
    "while len(df_en) > max_rows:\n",
    "    top = df_en[:max_rows]\n",
    "    dataframes.append(top)\n",
    "    df_en = df_en[max_rows:]\n",
    "else:\n",
    "    dataframes.append(df_en)"
   ]
  },
  {
   "cell_type": "code",
   "execution_count": 15,
   "id": "40bcb34a",
   "metadata": {},
   "outputs": [],
   "source": [
    "for _, frame in enumerate(dataframes):\n",
    "    path = './EN_word/'\n",
    "    frame.to_csv(path+str(_)+'.csv', index=False)"
   ]
  },
  {
   "cell_type": "code",
   "execution_count": 16,
   "id": "159aae64",
   "metadata": {},
   "outputs": [
    {
     "data": {
      "text/plain": [
       "3466"
      ]
     },
     "execution_count": 16,
     "metadata": {},
     "output_type": "execute_result"
    }
   ],
   "source": [
    "len(dataframes[20])"
   ]
  }
 ],
 "metadata": {
  "kernelspec": {
   "display_name": "Python 3",
   "language": "python",
   "name": "python3"
  },
  "language_info": {
   "codemirror_mode": {
    "name": "ipython",
    "version": 3
   },
   "file_extension": ".py",
   "mimetype": "text/x-python",
   "name": "python",
   "nbconvert_exporter": "python",
   "pygments_lexer": "ipython3",
   "version": "3.8.8"
  }
 },
 "nbformat": 4,
 "nbformat_minor": 5
}
