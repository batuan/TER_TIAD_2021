{
 "cells": [
  {
   "cell_type": "code",
   "execution_count": 1,
   "id": "94333f87",
   "metadata": {},
   "outputs": [],
   "source": [
    "import pandas as pd\n",
    "import os"
   ]
  },
  {
   "cell_type": "code",
   "execution_count": 25,
   "id": "30d3eca8",
   "metadata": {},
   "outputs": [
    {
     "data": {
      "text/plain": [
       "['dict11.txt',\n",
       " 'dict10.txt',\n",
       " 'dict12.txt',\n",
       " 'dict13.txt',\n",
       " 'dict17.txt',\n",
       " 'dict16.txt',\n",
       " 'dict14.txt',\n",
       " 'dict15.txt',\n",
       " 'dict2.txt',\n",
       " 'dict3.txt',\n",
       " 'dict1.txt',\n",
       " 'dict0.txt',\n",
       " 'dict4.txt',\n",
       " 'dict5.txt',\n",
       " 'dict7.txt',\n",
       " 'dict6.txt',\n",
       " 'dict8.txt',\n",
       " 'dict9.txt',\n",
       " 'dict18.txt',\n",
       " 'dict19.txt',\n",
       " 'dict20.txt']"
      ]
     },
     "execution_count": 25,
     "metadata": {},
     "output_type": "execute_result"
    }
   ],
   "source": [
    "sub_path = '../Small/EN_FR_ggtrans/'\n",
    "list_dict = [x for x in os.listdir(sub_path) if x.endswith('.txt')]\n",
    "list_dict"
   ]
  },
  {
   "cell_type": "code",
   "execution_count": 67,
   "id": "45405e9b",
   "metadata": {},
   "outputs": [
    {
     "data": {
      "text/html": [
       "<div>\n",
       "<style scoped>\n",
       "    .dataframe tbody tr th:only-of-type {\n",
       "        vertical-align: middle;\n",
       "    }\n",
       "\n",
       "    .dataframe tbody tr th {\n",
       "        vertical-align: top;\n",
       "    }\n",
       "\n",
       "    .dataframe thead th {\n",
       "        text-align: right;\n",
       "    }\n",
       "</style>\n",
       "<table border=\"1\" class=\"dataframe\">\n",
       "  <thead>\n",
       "    <tr style=\"text-align: right;\">\n",
       "      <th></th>\n",
       "      <th>source</th>\n",
       "      <th>target</th>\n",
       "      <th>POS</th>\n",
       "    </tr>\n",
       "  </thead>\n",
       "  <tbody>\n",
       "    <tr>\n",
       "      <th>0</th>\n",
       "      <td>mercerise</td>\n",
       "      <td>mercerie</td>\n",
       "      <td>properNoun</td>\n",
       "    </tr>\n",
       "    <tr>\n",
       "      <th>1</th>\n",
       "      <td>Amargant</td>\n",
       "      <td>Amargant</td>\n",
       "      <td>properNoun</td>\n",
       "    </tr>\n",
       "    <tr>\n",
       "      <th>2</th>\n",
       "      <td>Rambla</td>\n",
       "      <td>Rambla</td>\n",
       "      <td>properNoun</td>\n",
       "    </tr>\n",
       "    <tr>\n",
       "      <th>3</th>\n",
       "      <td>familiarly</td>\n",
       "      <td>familièrement</td>\n",
       "      <td>adverb</td>\n",
       "    </tr>\n",
       "    <tr>\n",
       "      <th>4</th>\n",
       "      <td>familiarly</td>\n",
       "      <td>familièrement</td>\n",
       "      <td>None</td>\n",
       "    </tr>\n",
       "    <tr>\n",
       "      <th>...</th>\n",
       "      <td>...</td>\n",
       "      <td>...</td>\n",
       "      <td>...</td>\n",
       "    </tr>\n",
       "    <tr>\n",
       "      <th>7884</th>\n",
       "      <td>Gaouette</td>\n",
       "      <td>Gaouette</td>\n",
       "      <td>properNoun</td>\n",
       "    </tr>\n",
       "    <tr>\n",
       "      <th>7885</th>\n",
       "      <td>Carson</td>\n",
       "      <td>Carson</td>\n",
       "      <td>properNoun</td>\n",
       "    </tr>\n",
       "    <tr>\n",
       "      <th>7886</th>\n",
       "      <td>kineplasty</td>\n",
       "      <td>kineplastie</td>\n",
       "      <td>properNoun</td>\n",
       "    </tr>\n",
       "    <tr>\n",
       "      <th>7887</th>\n",
       "      <td>Rúbies</td>\n",
       "      <td>le rubis</td>\n",
       "      <td>noun</td>\n",
       "    </tr>\n",
       "    <tr>\n",
       "      <th>7888</th>\n",
       "      <td>Rúbies</td>\n",
       "      <td>Rúbies</td>\n",
       "      <td>None</td>\n",
       "    </tr>\n",
       "  </tbody>\n",
       "</table>\n",
       "<p>7889 rows × 3 columns</p>\n",
       "</div>"
      ],
      "text/plain": [
       "          source         target         POS\n",
       "0      mercerise       mercerie  properNoun\n",
       "1       Amargant       Amargant  properNoun\n",
       "2         Rambla         Rambla  properNoun\n",
       "3     familiarly  familièrement      adverb\n",
       "4     familiarly  familièrement        None\n",
       "...          ...            ...         ...\n",
       "7884    Gaouette       Gaouette  properNoun\n",
       "7885      Carson         Carson  properNoun\n",
       "7886  kineplasty    kineplastie  properNoun\n",
       "7887      Rúbies       le rubis        noun\n",
       "7888      Rúbies         Rúbies        None\n",
       "\n",
       "[7889 rows x 3 columns]"
      ]
     },
     "execution_count": 67,
     "metadata": {},
     "output_type": "execute_result"
    }
   ],
   "source": [
    "df = pd.read_csv(sub_path+list_dict[0], delimiter='\\t', names=['source', 'target', 'POS'])\n",
    "df"
   ]
  },
  {
   "cell_type": "code",
   "execution_count": 68,
   "id": "e5c92600",
   "metadata": {},
   "outputs": [],
   "source": [
    "for x in range(1, len(list_dict)):\n",
    "    try:\n",
    "        df_temp = pd.read_csv(sub_path+list_dict[x], delimiter='\\t', names=['source', 'target', 'POS'], error_bad_lines=False,quoting=3)\n",
    "        df = df.append(df_temp)\n",
    "    except:\n",
    "        print(list_dict[x])"
   ]
  },
  {
   "cell_type": "code",
   "execution_count": 69,
   "id": "f1bfdf25",
   "metadata": {},
   "outputs": [
    {
     "data": {
      "text/html": [
       "<div>\n",
       "<style scoped>\n",
       "    .dataframe tbody tr th:only-of-type {\n",
       "        vertical-align: middle;\n",
       "    }\n",
       "\n",
       "    .dataframe tbody tr th {\n",
       "        vertical-align: top;\n",
       "    }\n",
       "\n",
       "    .dataframe thead th {\n",
       "        text-align: right;\n",
       "    }\n",
       "</style>\n",
       "<table border=\"1\" class=\"dataframe\">\n",
       "  <thead>\n",
       "    <tr style=\"text-align: right;\">\n",
       "      <th></th>\n",
       "      <th>source</th>\n",
       "      <th>target</th>\n",
       "      <th>POS</th>\n",
       "    </tr>\n",
       "  </thead>\n",
       "  <tbody>\n",
       "    <tr>\n",
       "      <th>0</th>\n",
       "      <td>mercerise</td>\n",
       "      <td>mercerie</td>\n",
       "      <td>properNoun</td>\n",
       "    </tr>\n",
       "    <tr>\n",
       "      <th>1</th>\n",
       "      <td>Amargant</td>\n",
       "      <td>Amargant</td>\n",
       "      <td>properNoun</td>\n",
       "    </tr>\n",
       "    <tr>\n",
       "      <th>2</th>\n",
       "      <td>Rambla</td>\n",
       "      <td>Rambla</td>\n",
       "      <td>properNoun</td>\n",
       "    </tr>\n",
       "    <tr>\n",
       "      <th>3</th>\n",
       "      <td>familiarly</td>\n",
       "      <td>familièrement</td>\n",
       "      <td>adverb</td>\n",
       "    </tr>\n",
       "    <tr>\n",
       "      <th>4</th>\n",
       "      <td>familiarly</td>\n",
       "      <td>familièrement</td>\n",
       "      <td>None</td>\n",
       "    </tr>\n",
       "    <tr>\n",
       "      <th>...</th>\n",
       "      <td>...</td>\n",
       "      <td>...</td>\n",
       "      <td>...</td>\n",
       "    </tr>\n",
       "    <tr>\n",
       "      <th>193043</th>\n",
       "      <td>Cornish</td>\n",
       "      <td>cornouaillais</td>\n",
       "      <td>adjective</td>\n",
       "    </tr>\n",
       "    <tr>\n",
       "      <th>193044</th>\n",
       "      <td>Cornish</td>\n",
       "      <td>cornouaillais</td>\n",
       "      <td>None</td>\n",
       "    </tr>\n",
       "    <tr>\n",
       "      <th>193045</th>\n",
       "      <td>Chantelle</td>\n",
       "      <td>Chantelle</td>\n",
       "      <td>properNoun</td>\n",
       "    </tr>\n",
       "    <tr>\n",
       "      <th>193046</th>\n",
       "      <td>raise jointly</td>\n",
       "      <td>soulever conjointement</td>\n",
       "      <td>properNoun</td>\n",
       "    </tr>\n",
       "    <tr>\n",
       "      <th>193047</th>\n",
       "      <td>Alannah</td>\n",
       "      <td>Alannah</td>\n",
       "      <td>properNoun</td>\n",
       "    </tr>\n",
       "  </tbody>\n",
       "</table>\n",
       "<p>193048 rows × 3 columns</p>\n",
       "</div>"
      ],
      "text/plain": [
       "               source                  target         POS\n",
       "0           mercerise                mercerie  properNoun\n",
       "1            Amargant                Amargant  properNoun\n",
       "2              Rambla                  Rambla  properNoun\n",
       "3          familiarly           familièrement      adverb\n",
       "4          familiarly           familièrement        None\n",
       "...               ...                     ...         ...\n",
       "193043        Cornish           cornouaillais   adjective\n",
       "193044        Cornish           cornouaillais        None\n",
       "193045      Chantelle               Chantelle  properNoun\n",
       "193046  raise jointly  soulever conjointement  properNoun\n",
       "193047        Alannah                 Alannah  properNoun\n",
       "\n",
       "[193048 rows x 3 columns]"
      ]
     },
     "execution_count": 69,
     "metadata": {},
     "output_type": "execute_result"
    }
   ],
   "source": [
    "df = df.reset_index(drop=True)\n",
    "df"
   ]
  },
  {
   "cell_type": "code",
   "execution_count": 70,
   "id": "80c01895",
   "metadata": {},
   "outputs": [],
   "source": [
    "df = df.drop_duplicates(ignore_index=True)"
   ]
  },
  {
   "cell_type": "code",
   "execution_count": 72,
   "id": "ff3f6045",
   "metadata": {},
   "outputs": [
    {
     "name": "stdout",
     "output_type": "stream",
     "text": [
      "/Users/batuan/Documents/Master1Luminy/semetre2/TER/code/src\r\n"
     ]
    }
   ],
   "source": [
    "!pwd"
   ]
  },
  {
   "cell_type": "code",
   "execution_count": 74,
   "id": "196aae1a",
   "metadata": {},
   "outputs": [],
   "source": [
    "df.to_csv('../EvaluationDictionary/gg_transdict.csv', sep='#',index=False)"
   ]
  }
 ],
 "metadata": {
  "kernelspec": {
   "display_name": "Python 3",
   "language": "python",
   "name": "python3"
  },
  "language_info": {
   "codemirror_mode": {
    "name": "ipython",
    "version": 3
   },
   "file_extension": ".py",
   "mimetype": "text/x-python",
   "name": "python",
   "nbconvert_exporter": "python",
   "pygments_lexer": "ipython3",
   "version": "3.8.8"
  }
 },
 "nbformat": 4,
 "nbformat_minor": 5
}
