{
 "cells": [
  {
   "cell_type": "code",
   "execution_count": 1,
   "id": "e581b601",
   "metadata": {},
   "outputs": [],
   "source": [
    "import pandas as pd\n",
    "import numpy as np\n",
    "import os"
   ]
  },
  {
   "cell_type": "code",
   "execution_count": 2,
   "id": "bd29e602",
   "metadata": {},
   "outputs": [],
   "source": [
    "path = '../Small/'\n",
    "list_dir = os.listdir(path)\n",
    "list_dir = [x for x in list_dir if '.csv' in x]"
   ]
  },
  {
   "cell_type": "code",
   "execution_count": 3,
   "id": "6513f81c",
   "metadata": {},
   "outputs": [],
   "source": [
    "def get_data_frame(lang_source='EN', lang_pivot='ES', lang_target='FR'):\n",
    "    path_source = 'TransSet{}-{}_small.csv'.format(lang_source, lang_pivot)\n",
    "    if path_source in list_dir:\n",
    "        df1 = pd.read_csv(path+path_source)\n",
    "    else:\n",
    "        path_source = 'TransSet{}-{}_small.csv'.format(lang_pivot, lang_source)\n",
    "        df1 = pd.read_csv(path+path_source)\n",
    "        df1 = df1.rename(columns={'source':'target', 'target':'source'})\n",
    "    \n",
    "    target_source = 'TransSet{}-{}_small.csv'.format(lang_pivot, lang_target)\n",
    "    \n",
    "    if target_source in list_dir:\n",
    "        print(target_source)\n",
    "        df2 = pd.read_csv(path+target_source)\n",
    "    else:\n",
    "        target_source = 'TransSet{}-{}_small.csv'.format(lang_target, lang_pivot)\n",
    "        print(target_source)\n",
    "        df2 = pd.read_csv(path+target_source)\n",
    "        df2 = df2.rename(columns={'source':'target', 'target':'source'})\n",
    "    return df1, df2"
   ]
  },
  {
   "cell_type": "code",
   "execution_count": 4,
   "id": "725a998a",
   "metadata": {},
   "outputs": [],
   "source": [
    "\"\"\"\n",
    "input: sting x\n",
    "output: lower case x, join character in x by \"_\"\n",
    "\"\"\"\n",
    "def change_word(x):\n",
    "    x = x.lower()\n",
    "    x = '-'.join(x.split(' '))\n",
    "    return x\n",
    "def to_muse_word(source_w, target_w, pos):\n",
    "    muse_source = source_w + '_' + pos #+ '_' + source\n",
    "    muse_target = target_w + '_' + pos #+ '_' + target\n",
    "    return muse_source + '\\t' + muse_target + '\\n' \n",
    "def to_dict_train_muse(df):\n",
    "    df['muse_word'] = to_muse_word(df['source'], df['target'], df['POS'])\n",
    "    msk = np.random.rand(len(df)) < 0.7\n",
    "    train = ''.join(df[msk]['muse_word'])\n",
    "    test = ''.join(df[~msk]['muse_word'])\n",
    "    return train, test"
   ]
  },
  {
   "cell_type": "code",
   "execution_count": 5,
   "id": "54b715ae",
   "metadata": {},
   "outputs": [],
   "source": [
    "def to_file(dict_w, fileName='abc.txt'):\n",
    "    dict_w = dict_w.lower()\n",
    "    with open(fileName, 'w') as f:\n",
    "        f.write('%s' % dict_w)"
   ]
  },
  {
   "cell_type": "code",
   "execution_count": 7,
   "id": "a64aaeb1",
   "metadata": {},
   "outputs": [],
   "source": [
    "# msk = np.random.rand(len(df_en_es)) < 0.7\n",
    "# df_en_es[msk]['source']\n",
    "def to_train_test(lang_source='EN', lang_pivot='ES', lang_target='FR'):\n",
    "    df1, df2 = get_data_frame(lang_source, lang_pivot, lang_target)\n",
    "\n",
    "    #apply to data frame\n",
    "    df1['source'] = df1['source'].apply(lambda x: change_word(str(x)))\n",
    "    df1['target'] = df1['target'].apply(lambda x: change_word(str(x)))\n",
    "\n",
    "    df2['source'] = df2['source'].apply(lambda x: change_word(str(x)))\n",
    "    df2['target'] = df2['target'].apply(lambda x: change_word(str(x)))\n",
    "\n",
    "    df1_train, df1_test = to_dict_train_muse(df1)\n",
    "    df2_train, df2_test = to_dict_train_muse(df2)\n",
    "    \n",
    "    pre_path = '../data_train/MUSE_Train/word_pos/{}_{}_{}/'.format(lang_source,lang_pivot,lang_target)\n",
    "    to_file(df1_train, fileName= pre_path+lang_source +'_'+ lang_pivot +'_muse_train.txt')\n",
    "    to_file(df1_test,  fileName= pre_path+lang_source +'_'+ lang_pivot +'_muse_test.txt')\n",
    "\n",
    "    to_file(df2_train, fileName= pre_path+lang_pivot +'_'+ lang_target +'_muse_train.txt')\n",
    "    to_file(df2_test,  fileName= pre_path+lang_pivot +'_'+ lang_target +'_muse_test.txt')"
   ]
  },
  {
   "cell_type": "code",
   "execution_count": 36,
   "id": "945a5f35",
   "metadata": {},
   "outputs": [
    {
     "name": "stdout",
     "output_type": "stream",
     "text": [
      "TransSetFR-CA_small.csv\n"
     ]
    }
   ],
   "source": [
    "to_train_test('EN','CA','FR')"
   ]
  },
  {
   "cell_type": "code",
   "execution_count": 37,
   "id": "1f79735e",
   "metadata": {},
   "outputs": [
    {
     "name": "stdout",
     "output_type": "stream",
     "text": [
      "TransSetFR-CA_small.csv\n",
      "TransSetFR-ES_small.csv\n"
     ]
    }
   ],
   "source": [
    "to_train_test('PT','CA','FR')\n",
    "to_train_test('PT','ES','FR')"
   ]
  },
  {
   "cell_type": "code",
   "execution_count": 58,
   "id": "ee7ca0cc",
   "metadata": {},
   "outputs": [
    {
     "name": "stdout",
     "output_type": "stream",
     "text": [
      "TransSetEN-CA_small.csv\n",
      "TransSetEN-ES_small.csv\n"
     ]
    }
   ],
   "source": [
    "to_train_test('PT','CA','EN')\n",
    "to_train_test('PT','ES','EN')"
   ]
  },
  {
   "cell_type": "code",
   "execution_count": 39,
   "id": "7e2f2de8",
   "metadata": {},
   "outputs": [
    {
     "name": "stdout",
     "output_type": "stream",
     "text": [
      "TransSetPT-CA_small.csv\n",
      "TransSetES-PT_small.csv\n"
     ]
    }
   ],
   "source": [
    "to_train_test('EN','CA','PT')\n",
    "to_train_test('EN','ES','PT')"
   ]
  },
  {
   "cell_type": "code",
   "execution_count": 56,
   "id": "6d442893",
   "metadata": {},
   "outputs": [],
   "source": [
    "to_train_test('EN','ES','PT')"
   ]
  },
  {
   "cell_type": "code",
   "execution_count": 8,
   "id": "e817aad4",
   "metadata": {},
   "outputs": [
    {
     "name": "stdout",
     "output_type": "stream",
     "text": [
      "TransSetES-PT_small.csv\n",
      "TransSetPT-CA_small.csv\n"
     ]
    }
   ],
   "source": [
    "to_train_test('FR','ES','PT')\n",
    "to_train_test('FR', 'CA','PT')"
   ]
  },
  {
   "cell_type": "code",
   "execution_count": null,
   "id": "8237b0ba",
   "metadata": {},
   "outputs": [],
   "source": []
  }
 ],
 "metadata": {
  "kernelspec": {
   "display_name": "Python 3",
   "language": "python",
   "name": "python3"
  },
  "language_info": {
   "codemirror_mode": {
    "name": "ipython",
    "version": 3
   },
   "file_extension": ".py",
   "mimetype": "text/x-python",
   "name": "python",
   "nbconvert_exporter": "python",
   "pygments_lexer": "ipython3",
   "version": "3.8.8"
  }
 },
 "nbformat": 4,
 "nbformat_minor": 5
}
