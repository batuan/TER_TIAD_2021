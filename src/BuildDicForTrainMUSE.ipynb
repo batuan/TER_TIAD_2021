{
 "cells": [
  {
   "cell_type": "code",
   "execution_count": 1,
   "id": "e581b601",
   "metadata": {},
   "outputs": [],
   "source": [
    "import pandas as pd\n",
    "import numpy as np"
   ]
  },
  {
   "cell_type": "code",
   "execution_count": 2,
   "id": "67a89368",
   "metadata": {},
   "outputs": [
    {
     "data": {
      "text/html": [
       "<div>\n",
       "<style scoped>\n",
       "    .dataframe tbody tr th:only-of-type {\n",
       "        vertical-align: middle;\n",
       "    }\n",
       "\n",
       "    .dataframe tbody tr th {\n",
       "        vertical-align: top;\n",
       "    }\n",
       "\n",
       "    .dataframe thead th {\n",
       "        text-align: right;\n",
       "    }\n",
       "</style>\n",
       "<table border=\"1\" class=\"dataframe\">\n",
       "  <thead>\n",
       "    <tr style=\"text-align: right;\">\n",
       "      <th></th>\n",
       "      <th>target</th>\n",
       "      <th>source</th>\n",
       "      <th>POS</th>\n",
       "    </tr>\n",
       "  </thead>\n",
       "  <tbody>\n",
       "    <tr>\n",
       "      <th>0</th>\n",
       "      <td>doyen</td>\n",
       "      <td>decano</td>\n",
       "      <td>noun</td>\n",
       "    </tr>\n",
       "    <tr>\n",
       "      <th>1</th>\n",
       "      <td>glisser</td>\n",
       "      <td>deslizar</td>\n",
       "      <td>verb</td>\n",
       "    </tr>\n",
       "    <tr>\n",
       "      <th>2</th>\n",
       "      <td>réformation</td>\n",
       "      <td>reformación</td>\n",
       "      <td>noun</td>\n",
       "    </tr>\n",
       "    <tr>\n",
       "      <th>3</th>\n",
       "      <td>Parana</td>\n",
       "      <td>Paraná</td>\n",
       "      <td>properNoun</td>\n",
       "    </tr>\n",
       "    <tr>\n",
       "      <th>4</th>\n",
       "      <td>aléatoire</td>\n",
       "      <td>aleatorio</td>\n",
       "      <td>adjective</td>\n",
       "    </tr>\n",
       "  </tbody>\n",
       "</table>\n",
       "</div>"
      ],
      "text/plain": [
       "        target       source         POS\n",
       "0        doyen       decano        noun\n",
       "1      glisser     deslizar        verb\n",
       "2  réformation  reformación        noun\n",
       "3       Parana       Paraná  properNoun\n",
       "4    aléatoire    aleatorio   adjective"
      ]
     },
     "execution_count": 2,
     "metadata": {},
     "output_type": "execute_result"
    }
   ],
   "source": [
    "df_en_es = pd.read_csv('../Small/TransSetEN-ES_small.csv')\n",
    "df_es_fr = pd.read_csv('../Small/TransSetFR-ES_small.csv')\n",
    "df_es_fr = df_es_fr.rename(columns={'source':'target', 'target':'source'})\n",
    "df_es_fr.head(5)"
   ]
  },
  {
   "cell_type": "code",
   "execution_count": 3,
   "id": "457f6109",
   "metadata": {},
   "outputs": [],
   "source": [
    "\"\"\"\n",
    "input: sting x\n",
    "output: lower case x, join character in x by \"_\"\n",
    "\"\"\"\n",
    "def change_word(x):\n",
    "    x = x.lower()\n",
    "    x = '-'.join(x.split(' '))\n",
    "    return x\n",
    "\n",
    "#apply to data frame\n",
    "df_en_es['source'] = df_en_es['source'].apply(lambda x: change_word(str(x)))\n",
    "df_en_es['target'] = df_en_es['target'].apply(lambda x: change_word(str(x)))\n",
    "\n",
    "df_es_fr['source'] = df_es_fr['source'].apply(lambda x: change_word(str(x)))\n",
    "df_es_fr['target'] = df_es_fr['target'].apply(lambda x: change_word(str(x)))"
   ]
  },
  {
   "cell_type": "code",
   "execution_count": 4,
   "id": "906cd989",
   "metadata": {},
   "outputs": [
    {
     "data": {
      "text/html": [
       "<div>\n",
       "<style scoped>\n",
       "    .dataframe tbody tr th:only-of-type {\n",
       "        vertical-align: middle;\n",
       "    }\n",
       "\n",
       "    .dataframe tbody tr th {\n",
       "        vertical-align: top;\n",
       "    }\n",
       "\n",
       "    .dataframe thead th {\n",
       "        text-align: right;\n",
       "    }\n",
       "</style>\n",
       "<table border=\"1\" class=\"dataframe\">\n",
       "  <thead>\n",
       "    <tr style=\"text-align: right;\">\n",
       "      <th></th>\n",
       "      <th>source</th>\n",
       "      <th>target</th>\n",
       "      <th>POS</th>\n",
       "    </tr>\n",
       "  </thead>\n",
       "  <tbody>\n",
       "    <tr>\n",
       "      <th>0</th>\n",
       "      <td>waiting-for</td>\n",
       "      <td>esperando-a</td>\n",
       "      <td>preposition</td>\n",
       "    </tr>\n",
       "    <tr>\n",
       "      <th>1</th>\n",
       "      <td>split</td>\n",
       "      <td>partir</td>\n",
       "      <td>verb</td>\n",
       "    </tr>\n",
       "    <tr>\n",
       "      <th>2</th>\n",
       "      <td>donostia-san-sebastián</td>\n",
       "      <td>donostia-san-sebastián</td>\n",
       "      <td>properNoun</td>\n",
       "    </tr>\n",
       "    <tr>\n",
       "      <th>3</th>\n",
       "      <td>little</td>\n",
       "      <td>poco</td>\n",
       "      <td>adverb</td>\n",
       "    </tr>\n",
       "    <tr>\n",
       "      <th>4</th>\n",
       "      <td>send-back</td>\n",
       "      <td>devolver</td>\n",
       "      <td>verb</td>\n",
       "    </tr>\n",
       "  </tbody>\n",
       "</table>\n",
       "</div>"
      ],
      "text/plain": [
       "                   source                  target          POS\n",
       "0             waiting-for             esperando-a  preposition\n",
       "1                   split                  partir         verb\n",
       "2  donostia-san-sebastián  donostia-san-sebastián   properNoun\n",
       "3                  little                    poco       adverb\n",
       "4               send-back                devolver         verb"
      ]
     },
     "execution_count": 4,
     "metadata": {},
     "output_type": "execute_result"
    }
   ],
   "source": [
    "df_en_es.head(5)"
   ]
  },
  {
   "cell_type": "code",
   "execution_count": 5,
   "id": "3cc1d824",
   "metadata": {},
   "outputs": [
    {
     "data": {
      "text/plain": [
       "0              waiting-for\n",
       "1                    split\n",
       "3                   little\n",
       "4                send-back\n",
       "8                      key\n",
       "               ...        \n",
       "28908    in-mint-condition\n",
       "28909                 suck\n",
       "28910           developing\n",
       "28912             affluent\n",
       "28914              lactose\n",
       "Name: source, Length: 20277, dtype: object"
      ]
     },
     "execution_count": 5,
     "metadata": {},
     "output_type": "execute_result"
    }
   ],
   "source": [
    "msk = np.random.rand(len(df_en_es)) < 0.7\n",
    "df_en_es[msk]['source']"
   ]
  },
  {
   "cell_type": "code",
   "execution_count": 6,
   "id": "7328ef05",
   "metadata": {},
   "outputs": [],
   "source": [
    "def to_muse_word(source_w, target_w, source, target, pos):\n",
    "    muse_source = source_w + '_' + pos #+ '_' + source\n",
    "    muse_target = target_w + '_' + pos #+ '_' + target\n",
    "    return muse_source + '\\t' + muse_target + '\\n' \n",
    "def to_dict_train_muse(df, source='en', target='es'):\n",
    "    df['muse_word'] = to_muse_word(df['source'], df['target'], source, target, df['POS'])\n",
    "    msk = np.random.rand(len(df)) < 0.7\n",
    "    train = ''.join(df[msk]['muse_word'])\n",
    "    test = ''.join(df[~msk]['muse_word'])\n",
    "    return train, test"
   ]
  },
  {
   "cell_type": "code",
   "execution_count": 7,
   "id": "945a5f35",
   "metadata": {},
   "outputs": [],
   "source": [
    "dict_en_es_train, dict_en_es_test = to_dict_train_muse(df_en_es, 'en', 'es')\n",
    "dict_es_fr_train, dict_es_fr_test = to_dict_train_muse(df_es_fr, 'es', 'fr')"
   ]
  },
  {
   "cell_type": "code",
   "execution_count": 8,
   "id": "5837729e",
   "metadata": {},
   "outputs": [],
   "source": [
    "def to_file(dict_w, fileName='abc.txt'):\n",
    "    dict_w = dict_w.lower()\n",
    "    with open(fileName, 'w') as f:\n",
    "        f.write('%s' % dict_w)"
   ]
  },
  {
   "cell_type": "code",
   "execution_count": 9,
   "id": "3c92eeac",
   "metadata": {},
   "outputs": [],
   "source": [
    "to_file(dict_en_es_train, fileName='../data_train/MUSE_Train/word_pos/en_es_muse_train.txt')\n",
    "to_file(dict_en_es_test, fileName='../data_train/MUSE_Train/word_pos/en_es_muse_test.txt')\n",
    "\n",
    "to_file(dict_es_fr_train, fileName='../data_train/MUSE_Train/word_pos/es_fr_muse_train.txt')\n",
    "to_file(dict_es_fr_test, fileName='../data_train/MUSE_Train/word_pos/es_fr_muse_test.txt')"
   ]
  }
 ],
 "metadata": {
  "kernelspec": {
   "display_name": "Python 3",
   "language": "python",
   "name": "python3"
  },
  "language_info": {
   "codemirror_mode": {
    "name": "ipython",
    "version": 3
   },
   "file_extension": ".py",
   "mimetype": "text/x-python",
   "name": "python",
   "nbconvert_exporter": "python",
   "pygments_lexer": "ipython3",
   "version": "3.8.8"
  }
 },
 "nbformat": 4,
 "nbformat_minor": 5
}
