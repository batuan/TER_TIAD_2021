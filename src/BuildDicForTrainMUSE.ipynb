{
 "cells": [
  {
   "cell_type": "code",
   "execution_count": 2,
   "metadata": {},
   "outputs": [],
   "source": [
    "import pandas as pd\n",
    "import numpy as np"
   ]
  },
  {
   "cell_type": "code",
   "execution_count": 3,
   "metadata": {},
   "outputs": [
    {
     "output_type": "execute_result",
     "data": {
      "text/plain": [
       "        target       source         POS\n",
       "0        doyen       decano        noun\n",
       "1      glisser     deslizar        verb\n",
       "2  réformation  reformación        noun\n",
       "3       Parana       Paraná  properNoun\n",
       "4    aléatoire    aleatorio   adjective"
      ],
      "text/html": "<div>\n<style scoped>\n    .dataframe tbody tr th:only-of-type {\n        vertical-align: middle;\n    }\n\n    .dataframe tbody tr th {\n        vertical-align: top;\n    }\n\n    .dataframe thead th {\n        text-align: right;\n    }\n</style>\n<table border=\"1\" class=\"dataframe\">\n  <thead>\n    <tr style=\"text-align: right;\">\n      <th></th>\n      <th>target</th>\n      <th>source</th>\n      <th>POS</th>\n    </tr>\n  </thead>\n  <tbody>\n    <tr>\n      <th>0</th>\n      <td>doyen</td>\n      <td>decano</td>\n      <td>noun</td>\n    </tr>\n    <tr>\n      <th>1</th>\n      <td>glisser</td>\n      <td>deslizar</td>\n      <td>verb</td>\n    </tr>\n    <tr>\n      <th>2</th>\n      <td>réformation</td>\n      <td>reformación</td>\n      <td>noun</td>\n    </tr>\n    <tr>\n      <th>3</th>\n      <td>Parana</td>\n      <td>Paraná</td>\n      <td>properNoun</td>\n    </tr>\n    <tr>\n      <th>4</th>\n      <td>aléatoire</td>\n      <td>aleatorio</td>\n      <td>adjective</td>\n    </tr>\n  </tbody>\n</table>\n</div>"
     },
     "metadata": {},
     "execution_count": 3
    }
   ],
   "source": [
    "df_en_es = pd.read_csv('../Small/TransSetEN-ES_small.csv')\n",
    "df_es_fr = pd.read_csv('../Small/TransSetFR-ES_small.csv')\n",
    "df_es_fr = df_es_fr.rename(columns={'source':'target', 'target':'source'})\n",
    "df_es_fr.head(5)"
   ]
  },
  {
   "cell_type": "code",
   "execution_count": 4,
   "metadata": {},
   "outputs": [],
   "source": [
    "\"\"\"\n",
    "input: sting x\n",
    "output: lower case x, join character in x by \"_\"\n",
    "\"\"\"\n",
    "def change_word(x):\n",
    "    x = x.lower()\n",
    "    x = '-'.join(x.split(' '))\n",
    "    return x\n",
    "\n",
    "#apply to data frame\n",
    "df_en_es['source'] = df_en_es['source'].apply(lambda x: change_word(str(x)))\n",
    "df_en_es['target'] = df_en_es['target'].apply(lambda x: change_word(str(x)))\n",
    "\n",
    "df_es_fr['source'] = df_es_fr['source'].apply(lambda x: change_word(str(x)))\n",
    "df_es_fr['target'] = df_es_fr['target'].apply(lambda x: change_word(str(x)))"
   ]
  },
  {
   "cell_type": "code",
   "execution_count": 5,
   "metadata": {},
   "outputs": [
    {
     "output_type": "execute_result",
     "data": {
      "text/plain": [
       "                   source                  target          POS\n",
       "0             waiting-for             esperando-a  preposition\n",
       "1                   split                  partir         verb\n",
       "2  donostia-san-sebastián  donostia-san-sebastián   properNoun\n",
       "3                  little                    poco       adverb\n",
       "4               send-back                devolver         verb"
      ],
      "text/html": "<div>\n<style scoped>\n    .dataframe tbody tr th:only-of-type {\n        vertical-align: middle;\n    }\n\n    .dataframe tbody tr th {\n        vertical-align: top;\n    }\n\n    .dataframe thead th {\n        text-align: right;\n    }\n</style>\n<table border=\"1\" class=\"dataframe\">\n  <thead>\n    <tr style=\"text-align: right;\">\n      <th></th>\n      <th>source</th>\n      <th>target</th>\n      <th>POS</th>\n    </tr>\n  </thead>\n  <tbody>\n    <tr>\n      <th>0</th>\n      <td>waiting-for</td>\n      <td>esperando-a</td>\n      <td>preposition</td>\n    </tr>\n    <tr>\n      <th>1</th>\n      <td>split</td>\n      <td>partir</td>\n      <td>verb</td>\n    </tr>\n    <tr>\n      <th>2</th>\n      <td>donostia-san-sebastián</td>\n      <td>donostia-san-sebastián</td>\n      <td>properNoun</td>\n    </tr>\n    <tr>\n      <th>3</th>\n      <td>little</td>\n      <td>poco</td>\n      <td>adverb</td>\n    </tr>\n    <tr>\n      <th>4</th>\n      <td>send-back</td>\n      <td>devolver</td>\n      <td>verb</td>\n    </tr>\n  </tbody>\n</table>\n</div>"
     },
     "metadata": {},
     "execution_count": 5
    }
   ],
   "source": [
    "df_en_es.head(5)"
   ]
  },
  {
   "cell_type": "code",
   "execution_count": 6,
   "metadata": {},
   "outputs": [
    {
     "output_type": "execute_result",
     "data": {
      "text/plain": [
       "0                   waiting-for\n",
       "1                         split\n",
       "2        donostia-san-sebastián\n",
       "3                        little\n",
       "4                     send-back\n",
       "                  ...          \n",
       "28909                      suck\n",
       "28911                   landing\n",
       "28912                  affluent\n",
       "28913                  chromite\n",
       "28915            speed-of-light\n",
       "Name: source, Length: 20295, dtype: object"
      ]
     },
     "metadata": {},
     "execution_count": 6
    }
   ],
   "source": [
    "msk = np.random.rand(len(df_en_es)) < 0.7\n",
    "df_en_es[msk]['source']"
   ]
  },
  {
   "cell_type": "code",
   "execution_count": 7,
   "metadata": {},
   "outputs": [],
   "source": [
    "def to_muse_word(source_w, target_w, source, target, pos):\n",
    "    muse_source = source_w + '_' + pos + '_' + source\n",
    "    muse_target = target_w + '_' + pos + '_' + target\n",
    "    return muse_source + '\\t' + muse_target + '\\n' \n",
    "def to_dict_train_muse(df, source='en', target='es'):\n",
    "    df['muse_word'] = to_muse_word(df['source'], df['target'], source, target, df['POS'])\n",
    "    msk = np.random.rand(len(df)) < 0.7\n",
    "    train = ''.join(df[msk]['muse_word'])\n",
    "    test = ''.join(df[~msk]['muse_word'])\n",
    "    return train, test"
   ]
  },
  {
   "cell_type": "code",
   "execution_count": 8,
   "metadata": {},
   "outputs": [],
   "source": [
    "dict_en_es_train, dict_en_es_test = to_dict_train_muse(df_en_es, 'en', 'es')\n",
    "dict_es_fr_train, dict_es_fr_test = to_dict_train_muse(df_es_fr, 'es', 'fr')"
   ]
  },
  {
   "cell_type": "code",
   "execution_count": 9,
   "metadata": {},
   "outputs": [],
   "source": [
    "def to_file(dict_w, fileName='abc.txt'):\n",
    "    dict_w = dict_w.lower()\n",
    "    with open(fileName, 'w') as f:\n",
    "        f.write('%s' % dict_w)"
   ]
  },
  {
   "cell_type": "code",
   "execution_count": 10,
   "metadata": {},
   "outputs": [],
   "source": [
    "to_file(dict_en_es_train, fileName='../data_train/MUSE_Train/en_es_muse_train.txt')\n",
    "to_file(dict_en_es_test, fileName='../data_train/MUSE_Train/en_es_muse_test.txt')\n",
    "\n",
    "to_file(dict_es_fr_train, fileName='../data_train/MUSE_Train/es_fr_muse_train.txt')\n",
    "to_file(dict_es_fr_test, fileName='../data_train/MUSE_Train/es_fr_muse_test.txt')"
   ]
  }
 ],
 "metadata": {
  "kernelspec": {
   "name": "python3",
   "display_name": "Python 3",
   "language": "python"
  }
 },
 "nbformat": 4,
 "nbformat_minor": 5
}