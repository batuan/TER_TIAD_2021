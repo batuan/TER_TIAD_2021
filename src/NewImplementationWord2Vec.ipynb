{
 "cells": [
  {
   "cell_type": "code",
   "execution_count": 1,
   "metadata": {
    "id": "T5azU04oLoFh"
   },
   "outputs": [],
   "source": [
    "from gensim.test.utils import common_texts\n",
    "from gensim.models import Word2Vec\n",
    "import numpy as np\n",
    "from gensim.test.utils import datapath\n",
    "from gensim.models.word2vec import LineSentence\n",
    "import pandas as pd\n",
    "from multiprocessing import Pool\n",
    "from gensim.models.callbacks import CallbackAny2Vec"
   ]
  },
  {
   "cell_type": "code",
   "execution_count": 2,
   "metadata": {
    "id": "jIIZRF8VWohD"
   },
   "outputs": [],
   "source": [
    "class EpochSaver(CallbackAny2Vec):\n",
    "\tdef __init__(self,path_prefix):\n",
    "\t\tself.epoch=0\n",
    "\tdef on_epoch_end(self,model):\n",
    "\t\tprint(\"Epoch_\"+str(self.epoch))\n",
    "\t\tprint(\"Training loss:\"+str(model.get_latest_training_loss()))\n",
    "\t\tself.epoch+=1\n",
    "epoch_saver=EpochSaver(\"model_some\")"
   ]
  },
  {
   "cell_type": "code",
   "execution_count": null,
   "metadata": {
    "id": "2vT11-fEkEvj"
   },
   "outputs": [],
   "source": [
    "# model = Word2Vec(min_count=2)\n",
    "# model.build_vocab(sentences=sentences)\n",
    "# vocabularies = list(model.wv.vocab.keys())\n",
    "# EN_vocab = [x for x in vocabularies if '_EN_' in x]\n",
    "# len(EN_vocab)"
   ]
  },
  {
   "cell_type": "code",
   "execution_count": null,
   "metadata": {
    "colab": {
     "base_uri": "https://localhost:8080/"
    },
    "id": "IFNNuF40ZRGv",
    "outputId": "e62b033e-69ff-46af-9b0d-499be5ddd9fc"
   },
   "outputs": [
    {
     "data": {
      "text/plain": [
       "[('merde_FR_noun', 0.9669520854949951),\n",
       " ('mierda_ES_noun', 0.9584709405899048),\n",
       " ('merda_SC_noun', 0.9510030150413513),\n",
       " ('mierda_AN_noun', 0.9509536623954773),\n",
       " ('căcat_RO_noun', 0.9508905410766602),\n",
       " ('rahat_RO_noun', 0.9503856897354126),\n",
       " ('merda_IT_noun', 0.9464212656021118),\n",
       " ('merdo_EO_noun', 0.9322292804718018),\n",
       " ('kaka_EU_noun', 0.9319580793380737),\n",
       " ('mafa_GL_noun', 0.9318681955337524)]"
      ]
     },
     "execution_count": 8,
     "metadata": {
      "tags": []
     },
     "output_type": "execute_result"
    }
   ],
   "source": [
    "model.wv.most_similar(['shit_EN_noun'], topn=10)"
   ]
  },
  {
   "cell_type": "code",
   "execution_count": null,
   "metadata": {
    "id": "RL06KB54zrQi"
   },
   "outputs": [],
   "source": [
    "model = Word2Vec.load('/content/drive/MyDrive/word2vec_imple/model_word2vec/model_word2vec_skipgram_100_shord_dict')"
   ]
  },
  {
   "cell_type": "code",
   "execution_count": null,
   "metadata": {
    "colab": {
     "base_uri": "https://localhost:8080/"
    },
    "id": "EyVs201p0CGg",
    "outputId": "fe285b3f-101e-4a2b-f4bb-254df17ca740"
   },
   "outputs": [
    {
     "data": {
      "text/plain": [
       "[('Artini_IT_properNoun', 0.9939879775047302),\n",
       " ('Artini_PT_properNoun', 0.9932299256324768),\n",
       " ('kunakuzito_EO_noun', 0.8983769416809082),\n",
       " ('Vance_EN_properNoun', 0.8957081437110901),\n",
       " ('Susinos_del_Páramo_GL_properNoun', 0.8948129415512085),\n",
       " ('nivo-pluvial_FR_adjective', 0.893297553062439),\n",
       " ('sexològic_CA_adjective', 0.8929303288459778),\n",
       " ('Jaxon_CA_properNoun', 0.8922513723373413),\n",
       " ('Cousy_FR_properNoun', 0.8897876143455505),\n",
       " ('curculiónido_ES_noun', 0.8889787197113037)]"
      ]
     },
     "execution_count": 4,
     "metadata": {
      "tags": []
     },
     "output_type": "execute_result"
    }
   ],
   "source": [
    "model.wv.most_similar(['Artini_FR_properNoun'], topn=10)"
   ]
  },
  {
   "cell_type": "code",
   "execution_count": null,
   "metadata": {
    "id": "SIj06dhy1FQV"
   },
   "outputs": [],
   "source": [
    "vocabularies = list(model.wv.vocab.keys())"
   ]
  },
  {
   "cell_type": "code",
   "execution_count": null,
   "metadata": {
    "id": "EsdXCcwP1LbX"
   },
   "outputs": [],
   "source": [
    "EN_vocab = [x for x in vocabularies if '_EN_' in x]\n",
    "EN_vectors = model.wv[EN_vocab]\n",
    "\n",
    "FR_vocab = [x for x in vocabularies if '_FR_' in x]\n",
    "FR_vectors = model.wv[FR_vocab]\n",
    "\n",
    "PT_vocab = [x for x in vocabularies if '_PT_' in x]\n",
    "PT_vectors = model.wv[PT_vocab]"
   ]
  },
  {
   "cell_type": "code",
   "execution_count": null,
   "metadata": {
    "colab": {
     "base_uri": "https://localhost:8080/"
    },
    "id": "-oJ0JQepFe74",
    "outputId": "c9db2286-1ed7-4349-8171-8cb1a1ff0406"
   },
   "outputs": [
    {
     "data": {
      "text/plain": [
       "['proprietário_PT_noun',\n",
       " 'abono_PT_noun',\n",
       " 'cercania_PT_noun',\n",
       " 'ancorar_PT_verb',\n",
       " 'quarenta_PT_numeral',\n",
       " 'monitorização_PT_noun',\n",
       " 'Lus_PT_properNoun',\n",
       " 'regular_PT_adjective',\n",
       " 'refúgio_PT_noun',\n",
       " 'visibilidade_PT_noun']"
      ]
     },
     "execution_count": 7,
     "metadata": {
      "tags": []
     },
     "output_type": "execute_result"
    }
   ],
   "source": [
    "PT_vocab[0:10]"
   ]
  },
  {
   "cell_type": "code",
   "execution_count": null,
   "metadata": {
    "colab": {
     "base_uri": "https://localhost:8080/"
    },
    "id": "ovUpgKAKLRlG",
    "outputId": "0cab862a-3957-4653-8c3b-6d7f1b412a68"
   },
   "outputs": [
    {
     "name": "stdout",
     "output_type": "stream",
     "text": [
      "FR vocal len: 51033\n",
      "PT vocal len: 82200\n",
      "EN vocal len: 59577\n"
     ]
    }
   ],
   "source": [
    "print('FR vocal len: ' +str(len(PT_vocab)))\n",
    "print('PT vocal len: ' +str(len(FR_vocab)))\n",
    "print('EN vocal len: ' +str(len(EN_vocab)))"
   ]
  },
  {
   "cell_type": "code",
   "execution_count": null,
   "metadata": {
    "colab": {
     "base_uri": "https://localhost:8080/",
     "height": 35
    },
    "id": "kMk_mmQr7SAD",
    "outputId": "f3674597-b993-4017-8cd6-426d448f8fd4"
   },
   "outputs": [
    {
     "data": {
      "application/vnd.google.colaboratory.intrinsic+json": {
       "type": "string"
      },
      "text/plain": [
       "'rowing club of Hondarribia'"
      ]
     },
     "execution_count": 9,
     "metadata": {
      "tags": []
     },
     "output_type": "execute_result"
    }
   ],
   "source": [
    "a = 'rowing_club_of_Hondarribia_EN_properNoun'\n",
    "subs = a.split('_')\n",
    "pos = subs[-1]\n",
    "\" \".join(subs[0:len(subs)-2])"
   ]
  },
  {
   "cell_type": "code",
   "execution_count": null,
   "metadata": {
    "id": "HtF8Ku057BeP"
   },
   "outputs": [],
   "source": [
    "def get_word_pos(x):\n",
    "  subs = x.split('_')\n",
    "  word = \" \".join(subs[0:len(subs)-2])\n",
    "  pos = subs[-1]\n",
    "  return word, pos"
   ]
  },
  {
   "cell_type": "code",
   "execution_count": null,
   "metadata": {
    "id": "VnZSahId3Pcl"
   },
   "outputs": [],
   "source": [
    "target_vocab = FR_vocab\n",
    "target_vectors = FR_vectors\n",
    "def find_translate(in_word):\n",
    "  source_vec = model.wv[in_word]\n",
    "  word_source, pos_source = get_word_pos(in_word)\n",
    "  cosine_cosine_simi = model.wv.cosine_similarities(source_vec, target_vectors)\n",
    "  sorted_index = np.argsort(-cosine_cosine_simi)\n",
    "  for index in sorted_index:\n",
    "    word_target, pos_target = get_word_pos(target_vocab[index])\n",
    "    if pos_source == pos_target:\n",
    "      return word_source + '\\t' + word_target + '\\t' + pos_source + '\\t' + str(np.round(cosine_cosine_simi[index],2))"
   ]
  },
  {
   "cell_type": "code",
   "execution_count": null,
   "metadata": {
    "id": "Ve0gAP045kHA"
   },
   "outputs": [],
   "source": [
    "# array = []\n",
    "# for en_word in EN_vocab:\n",
    "#   array.append(find_translate(en_word, FR_vocal, FR_vectors))"
   ]
  },
  {
   "cell_type": "code",
   "execution_count": null,
   "metadata": {
    "id": "odefwmGhO0IZ"
   },
   "outputs": [],
   "source": [
    "def to_word_test(dataframe, lang):\n",
    "  dataframe['source'] = [str(x) for x in dataframe['source']] \n",
    "  words = dataframe['source'] +'_' + lang + '_' + dataframe['POS']\n",
    "  return list(words.values) "
   ]
  },
  {
   "cell_type": "code",
   "execution_count": null,
   "metadata": {
    "colab": {
     "base_uri": "https://localhost:8080/",
     "height": 35
    },
    "id": "wTyHS5cutfk5",
    "outputId": "9b3b0bb0-b416-4246-c89d-6d1075b9ce57"
   },
   "outputs": [
    {
     "data": {
      "application/vnd.google.colaboratory.intrinsic+json": {
       "type": "string"
      },
      "text/plain": [
       "'EN'"
      ]
     },
     "execution_count": 29,
     "metadata": {
      "tags": []
     },
     "output_type": "execute_result"
    }
   ],
   "source": [
    "all_pair = ['', 'en_pt', 'fr_en', 'fr_pt', 'pt_en', 'pt_fr']\n",
    "en_fr = to_word_test(pd.read_csv('/content/drive/MyDrive/data/Dictionary_To_Infe/to_infe_en_fr.csv'), 'EN') \n",
    "en_pt = to_word_test(pd.read_csv('/content/drive/MyDrive/data/Dictionary_To_Infe/to_infe_en_pt.csv'), 'EN') \n",
    "fr_en = to_word_test(pd.read_csv('/content/drive/MyDrive/data/Dictionary_To_Infe/to_infe_fr_en.csv'), 'FR') \n",
    "fr_pt = to_word_test(pd.read_csv('/content/drive/MyDrive/data/Dictionary_To_Infe/to_infe_fr_pt.csv'), 'FR') \n",
    "pt_en = to_word_test(pd.read_csv('/content/drive/MyDrive/data/Dictionary_To_Infe/to_infe_pt_en.csv'), 'PT') \n",
    "pt_fr = to_word_test(pd.read_csv('/content/drive/MyDrive/data/Dictionary_To_Infe/to_infe_pt_fr.csv'), 'PT') "
   ]
  },
  {
   "cell_type": "code",
   "execution_count": null,
   "metadata": {
    "id": "d_H3U_apP1Q0"
   },
   "outputs": [],
   "source": [
    "len(list(set(EN_vocab)&set(en_fr)))"
   ]
  },
  {
   "cell_type": "code",
   "execution_count": null,
   "metadata": {
    "id": "2HjY6F5rsAko"
   },
   "outputs": [],
   "source": [
    "  \n",
    "target_vocab = FR_vocab\n",
    "target_vectors = FR_vectors\n",
    "\n",
    "p = Pool(5)\n",
    "array = p.map(find_translate, EN_vocab)  \n",
    "with open('/content/drive/MyDrive/word2vec_imple/build_dict_infr_skip_gram/dict_en_fr.tsv', 'w') as f:\n",
    "  for item in array:\n",
    "    f.write(\"%s\\n\" % item)\n",
    "\n",
    "p = Pool(5)\n",
    "array = p.map(find_translate, PT_vocab)  \n",
    "with open('/content/drive/MyDrive/word2vec_imple/build_dict_infr_skip_gram/dict_pt_fr.tsv', 'w') as f:\n",
    "  for item in array:\n",
    "    f.write(\"%s\\n\" % item)\n",
    "\n",
    "\n",
    "target_vocab = EN_vocab\n",
    "target_vectors = EN_vectors\n",
    "\n",
    "p = Pool(5)\n",
    "array = p.map(find_translate, FR_vocab)  \n",
    "with open('/content/drive/MyDrive/word2vec_imple/build_dict_infr_skip_gram/dict_fr_en.tsv', 'w') as f:\n",
    "  for item in array:\n",
    "    f.write(\"%s\\n\" % item)\n",
    "\n",
    "p = Pool(5)\n",
    "array = p.map(find_translate, PT_vocab)  \n",
    "with open('/content/drive/MyDrive/word2vec_imple/build_dict_infr_skip_gram/dict_pt_en.tsv', 'w') as f:\n",
    "  for item in array:\n",
    "    f.write(\"%s\\n\" % item)\n",
    "\n",
    "target_vocab = PT_vocab\n",
    "target_vectors = PT_vectors\n",
    "\n",
    "p = Pool(5)\n",
    "array = p.map(find_translate, EN_vocab)  \n",
    "with open('/content/drive/MyDrive/word2vec_imple/build_dict_infr_skip_gram/dict_en_pt.tsv', 'w') as f:\n",
    "  for item in array:\n",
    "    f.write(\"%s\\n\" % item)\n",
    "\n",
    "\n",
    "p = Pool(5)\n",
    "array = p.map(find_translate, FR_vocab)  \n",
    "with open('/content/drive/MyDrive/word2vec_imple/build_dict_infr_skip_gram/dict_fr_pt.tsv', 'w') as f:\n",
    "  for item in array:\n",
    "    f.write(\"%s\\n\" % item)"
   ]
  },
  {
   "cell_type": "code",
   "execution_count": null,
   "metadata": {
    "colab": {
     "base_uri": "https://localhost:8080/"
    },
    "id": "kODh-CmLYWoQ",
    "outputId": "b63fcd85-eadd-401c-ddb6-1e3e4fd0659b"
   },
   "outputs": [
    {
     "name": "stderr",
     "output_type": "stream",
     "text": [
      "\n",
      "KeyboardInterrupt\n",
      "\n",
      "  File \"/usr/lib/python3.7/multiprocessing/process.py\", line 297, in _bootstrap\n",
      "    self.run()\n",
      "Process ForkPoolWorker-35:\n",
      "Process ForkPoolWorker-34:\n",
      "Process ForkPoolWorker-33:\n",
      "Process ForkPoolWorker-32:\n",
      "Process ForkPoolWorker-31:\n",
      "Traceback (most recent call last):\n",
      "Traceback (most recent call last):\n",
      "Traceback (most recent call last):\n",
      "Traceback (most recent call last):\n"
     ]
    }
   ],
   "source": [
    "#build pt->fr\n",
    "from multiprocessing import Pool\n",
    "p = Pool(5)\n",
    "array = p.map(find_translate, PT_vocab)  \n",
    "with open('/content/drive/MyDrive/model/dict_pt_fr.tsv', 'w') as f:\n",
    "  for item in array:\n",
    "    f.write(\"%s\\n\" % item)"
   ]
  }
 ],
 "metadata": {
  "colab": {
   "collapsed_sections": [],
   "name": "NewImplementationWord2Vec.ipynb",
   "provenance": []
  },
  "kernelspec": {
   "display_name": "Python 3",
   "language": "python",
   "name": "python3"
  },
  "language_info": {
   "codemirror_mode": {
    "name": "ipython",
    "version": 3
   },
   "file_extension": ".py",
   "mimetype": "text/x-python",
   "name": "python",
   "nbconvert_exporter": "python",
   "pygments_lexer": "ipython3",
   "version": "3.8.8"
  }
 },
 "nbformat": 4,
 "nbformat_minor": 1
}
