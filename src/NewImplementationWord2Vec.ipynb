{
  "nbformat": 4,
  "nbformat_minor": 0,
  "metadata": {
    "colab": {
      "name": "NewImplementationWord2Vec.ipynb",
      "provenance": [],
      "collapsed_sections": []
    },
    "kernelspec": {
      "name": "python3",
      "display_name": "Python 3"
    },
    "language_info": {
      "name": "python"
    }
  },
  "cells": [
    {
      "cell_type": "code",
      "metadata": {
        "id": "T5azU04oLoFh"
      },
      "source": [
        "from gensim.test.utils import common_texts\n",
        "from gensim.models import Word2Vec\n",
        "import numpy as np"
      ],
      "execution_count": null,
      "outputs": []
    },
    {
      "cell_type": "code",
      "metadata": {
        "id": "SEXUgAGPL1aR"
      },
      "source": [
        "from gensim.models.word2vec import Text8Corpus"
      ],
      "execution_count": null,
      "outputs": []
    },
    {
      "cell_type": "code",
      "metadata": {
        "id": "SwSNJJnhM7W0"
      },
      "source": [
        "from gensim.test.utils import datapath\n",
        "from gensim.models.word2vec import LineSentence"
      ],
      "execution_count": null,
      "outputs": []
    },
    {
      "cell_type": "code",
      "metadata": {
        "id": "TTzhRzVQN-eU"
      },
      "source": [
        "sentences = LineSentence(datapath('/content/data_train.txt'))\n",
        "index = 0\n",
        "for sentence in sentences:\n",
        "  print(sentence)\n",
        "  index += 1\n",
        "  if index > 10:\n",
        "    break"
      ],
      "execution_count": null,
      "outputs": []
    },
    {
      "cell_type": "code",
      "metadata": {
        "id": "PiKmZ-bWpH9n"
      },
      "source": [
        "len(sentences)"
      ],
      "execution_count": null,
      "outputs": []
    },
    {
      "cell_type": "code",
      "metadata": {
        "id": "jIIZRF8VWohD"
      },
      "source": [
        "from gensim.models.callbacks import CallbackAny2Vec\n",
        "class EpochSaver(CallbackAny2Vec):\n",
        "\tdef __init__(self,path_prefix):\n",
        "\t\tself.epoch=0\n",
        "\tdef on_epoch_end(self,model):\n",
        "\t\tprint(\"Epoch_\"+str(self.epoch))\n",
        "\t\tprint(\"Training loss:\"+str(model.get_latest_training_loss()))\n",
        "\t\tself.epoch+=1\n",
        "epoch_saver=EpochSaver(\"model_some\")"
      ],
      "execution_count": null,
      "outputs": []
    },
    {
      "cell_type": "code",
      "metadata": {
        "id": "KpkGJNV2UGQq"
      },
      "source": [
        "model = Word2Vec(sentences=sentences, min_count=2, size=300, window=1,iter=150, workers=4,compute_loss=True,callbacks=[epoch_saver])"
      ],
      "execution_count": null,
      "outputs": []
    },
    {
      "cell_type": "code",
      "metadata": {
        "id": "IFNNuF40ZRGv"
      },
      "source": [
        "model.wv.most_similar(['secure_EN_verb'], topn=20)"
      ],
      "execution_count": null,
      "outputs": []
    },
    {
      "cell_type": "code",
      "metadata": {
        "id": "GXemkb_3dyYv"
      },
      "source": [
        "model.save('/content/drive/MyDrive/model/model_word2vec_150_iters')"
      ],
      "execution_count": null,
      "outputs": []
    },
    {
      "cell_type": "code",
      "metadata": {
        "id": "RL06KB54zrQi"
      },
      "source": [
        "model = Word2Vec.load('/content/drive/MyDrive/model/model_word2vec_150_iters')"
      ],
      "execution_count": null,
      "outputs": []
    },
    {
      "cell_type": "code",
      "metadata": {
        "colab": {
          "base_uri": "https://localhost:8080/"
        },
        "id": "EyVs201p0CGg",
        "outputId": "a78d9e51-35cf-4556-b262-cf376d55ddb6"
      },
      "source": [
        "model.wv.most_similar(['Artini_FR_properNoun'], topn=20)"
      ],
      "execution_count": null,
      "outputs": [
        {
          "output_type": "execute_result",
          "data": {
            "text/plain": [
              "[('timorenc_CA_adjective', 0.9254214763641357),\n",
              " ('Giovanardi_FR_properNoun', 0.9237130284309387),\n",
              " ('Itter_CA_properNoun', 0.921836793422699),\n",
              " ('Enciclopèdia_Catalana_FR_properNoun', 0.921768069267273),\n",
              " ('mi-janvier_FR_noun', 0.9214802980422974),\n",
              " ('los_Abruzos_ES_properNoun', 0.9213172197341919),\n",
              " ('Montes_Balcanes_ES_properNoun', 0.9209089875221252),\n",
              " ('arbitratif_FR_adjective', 0.9208766222000122),\n",
              " ('rowing_club_of_Hondarribia_EN_properNoun', 0.9203571081161499),\n",
              " ('triper_CA_noun', 0.9200819730758667),\n",
              " ('aeronaŭtike_EO_adverb', 0.9195341467857361),\n",
              " ('Lev_FR_properNoun', 0.9194321036338806),\n",
              " ('in_a_skyward_direction_EN_adverb', 0.9191176891326904),\n",
              " ('hermita_formo_EO_noun', 0.9188501834869385),\n",
              " ('Elvio_CA_properNoun', 0.9188141822814941),\n",
              " ('Ivașcu_CA_properNoun', 0.9187545776367188),\n",
              " ('parièr_OC_noun', 0.9186429977416992),\n",
              " ('Celas_ES_properNoun', 0.9185701608657837),\n",
              " ('sheller_EN_noun', 0.9181265234947205),\n",
              " ('hétérodiégétique_FR_adjective', 0.9176884889602661)]"
            ]
          },
          "metadata": {
            "tags": []
          },
          "execution_count": 9
        }
      ]
    },
    {
      "cell_type": "code",
      "metadata": {
        "id": "SIj06dhy1FQV"
      },
      "source": [
        "vocabularies = list(model.wv.vocab.keys())"
      ],
      "execution_count": null,
      "outputs": []
    },
    {
      "cell_type": "code",
      "metadata": {
        "id": "EsdXCcwP1LbX"
      },
      "source": [
        "EN_vocab = [x for x in vocabularies if '_EN_' in x]\n",
        "EN_vectors = model.wv[EN_vocab]\n",
        "FR_vocal = [x for x in vocabularies if '_FR_' in x]\n",
        "FR_vectors = model.wv[FR_vocal]"
      ],
      "execution_count": null,
      "outputs": []
    },
    {
      "cell_type": "code",
      "metadata": {
        "colab": {
          "base_uri": "https://localhost:8080/"
        },
        "id": "ovUpgKAKLRlG",
        "outputId": "7816124c-8b71-46eb-c948-be08c153965a"
      },
      "source": [
        "print(len(FR_vocal))\n",
        "len(EN_vocab)"
      ],
      "execution_count": null,
      "outputs": [
        {
          "output_type": "stream",
          "text": [
            "82200\n"
          ],
          "name": "stdout"
        },
        {
          "output_type": "execute_result",
          "data": {
            "text/plain": [
              "59577"
            ]
          },
          "metadata": {
            "tags": []
          },
          "execution_count": 15
        }
      ]
    },
    {
      "cell_type": "code",
      "metadata": {
        "colab": {
          "base_uri": "https://localhost:8080/",
          "height": 35
        },
        "id": "kMk_mmQr7SAD",
        "outputId": "b00c3fb3-ff11-4997-9c1f-1bc3fe669ea5"
      },
      "source": [
        "a = 'rowing_club_of_Hondarribia_EN_properNoun'\n",
        "subs = a.split('_')\n",
        "pos = subs[-1]\n",
        "\" \".join(subs[0:len(subs)-2])"
      ],
      "execution_count": null,
      "outputs": [
        {
          "output_type": "execute_result",
          "data": {
            "application/vnd.google.colaboratory.intrinsic+json": {
              "type": "string"
            },
            "text/plain": [
              "'rowing club of Hondarribia'"
            ]
          },
          "metadata": {
            "tags": []
          },
          "execution_count": 16
        }
      ]
    },
    {
      "cell_type": "code",
      "metadata": {
        "id": "HtF8Ku057BeP"
      },
      "source": [
        "def get_word_pos(x):\n",
        "  subs = x.split('_')\n",
        "  word = \" \".join(subs[0:len(subs)-2])\n",
        "  pos = subs[-1]\n",
        "  return word, pos"
      ],
      "execution_count": null,
      "outputs": []
    },
    {
      "cell_type": "code",
      "metadata": {
        "id": "VnZSahId3Pcl"
      },
      "source": [
        "target_vocab = FR_vocal\n",
        "target_vectors = FR_vectors\n",
        "def find_translate(in_word):\n",
        "  source_vec = model.wv[in_word]\n",
        "  word_source, pos_source = get_word_pos(in_word)\n",
        "  cosine_cosine_simi = model.wv.cosine_similarities(source_vec, target_vectors)\n",
        "  sorted_index = np.argsort(-cosine_cosine_simi)\n",
        "  for index in sorted_index:\n",
        "    word_target, pos_target = get_word_pos(target_vocab[index])\n",
        "    if pos_source == pos_target:\n",
        "      return word_source + '\\t' + word_target + '\\t' + pos_source + '\\t' + str(np.round(cosine_cosine_simi[index],2))"
      ],
      "execution_count": null,
      "outputs": []
    },
    {
      "cell_type": "code",
      "metadata": {
        "id": "Ve0gAP045kHA"
      },
      "source": [
        "array = []\n",
        "for en_word in EN_vocab:\n",
        "  array.append(find_translate(en_word, FR_vocal, FR_vectors))"
      ],
      "execution_count": null,
      "outputs": []
    },
    {
      "cell_type": "code",
      "metadata": {
        "id": "3AIBZkL4-ZI-"
      },
      "source": [
        "from multiprocessing import Pool\n",
        "p = Pool(5)\n",
        "array = p.map(find_translate, EN_vocab)  "
      ],
      "execution_count": null,
      "outputs": []
    },
    {
      "cell_type": "code",
      "metadata": {
        "id": "cPRftWvrU-am"
      },
      "source": [
        "with open('/content/drive/MyDrive/model/dict.tsv', 'w') as f:\n",
        "  for item in array:\n",
        "    f.write(\"%s\\n\" % item)"
      ],
      "execution_count": null,
      "outputs": []
    },
    {
      "cell_type": "code",
      "metadata": {
        "colab": {
          "base_uri": "https://localhost:8080/"
        },
        "id": "kODh-CmLYWoQ",
        "outputId": "60c13bfd-f95f-4e79-e702-905a98481e6a"
      },
      "source": [
        "len(array)"
      ],
      "execution_count": null,
      "outputs": [
        {
          "output_type": "execute_result",
          "data": {
            "text/plain": [
              "59577"
            ]
          },
          "metadata": {
            "tags": []
          },
          "execution_count": 35
        }
      ]
    }
  ]
}