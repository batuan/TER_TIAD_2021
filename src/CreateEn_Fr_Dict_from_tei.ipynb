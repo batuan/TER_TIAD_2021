{
 "cells": [
  {
   "cell_type": "code",
   "execution_count": 5,
   "metadata": {},
   "outputs": [],
   "source": [
    "#Create dictionary from English - French Dictionary form http://download.wikdict.com/dictionaries/tei/recommended/\n",
    "# Using xml.dom for parser\n",
    "dict_pos = {\n",
    "    \"prefix\":\"Prefix\",\n",
    "    \"numeral\":\"numeral\",\n",
    "    \"phraseologicalUnit\":\"phraseologicalUnit\",\n",
    "    \"determiner\":\"determiner\",\n",
    "    \"postposition\":\"postposition\",\n",
    "    \"adj\":\"adjective\",\n",
    "    \"v\":\"verb\",\n",
    "    \"pronoun\":\"Pronoun\",\n",
    "    \"interjection\":\"interjection\",\n",
    "    \"conjunction\":\"conjunction\",\n",
    "    \"n\":\"noun\",\n",
    "    \"pn\":\"pronoun\",\n",
    "    \"suffix\":\"Suffix\",\n",
    "    \"proverb\":\"proverb\",\n",
    "    \"adv\":\"adverb\",\n",
    "    \"article\":\"Article\",\n",
    "    \"symbol\":\"Symbol\",\n",
    "    \"particle\":\"particle\",\n",
    "    \"preposition\":\"preposition\",\n",
    "}"
   ]
  },
  {
   "cell_type": "code",
   "execution_count": 4,
   "metadata": {},
   "outputs": [],
   "source": [
    "from xml.dom import minidom"
   ]
  },
  {
   "cell_type": "code",
   "execution_count": 31,
   "metadata": {},
   "outputs": [
    {
     "data": {
      "text/plain": [
       "str"
      ]
     },
     "execution_count": 31,
     "metadata": {},
     "output_type": "execute_result"
    }
   ],
   "source": [
    "xmldoc = minidom.parse('../EvaluationDictionary/por-fra.tei')\n",
    "itemlist = xmldoc.getElementsByTagName('entry')\n",
    "type(itemlist[1].getElementsByTagName('pos')[0].childNodes[0].nodeValue)"
   ]
  },
  {
   "cell_type": "code",
   "execution_count": 32,
   "metadata": {},
   "outputs": [
    {
     "data": {
      "text/plain": [
       "10307"
      ]
     },
     "execution_count": 32,
     "metadata": {},
     "output_type": "execute_result"
    }
   ],
   "source": [
    "len(itemlist)"
   ]
  },
  {
   "cell_type": "code",
   "execution_count": 33,
   "metadata": {},
   "outputs": [],
   "source": [
    "a = []\n",
    "for item in itemlist:\n",
    "    pos_node = item.getElementsByTagName('pos').item(0)\n",
    "    if(pos_node != None):\n",
    "        a.append(pos_node.childNodes[0].nodeValue)\n",
    "    else:\n",
    "        ortho = item.getElementsByTagName('orth').item(0).childNodes[0].nodeValue\n",
    "        print(ortho)"
   ]
  },
  {
   "cell_type": "code",
   "execution_count": 34,
   "metadata": {},
   "outputs": [
    {
     "name": "stdout",
     "output_type": "stream",
     "text": [
      "luette\n",
      "uvule\n"
     ]
    }
   ],
   "source": [
    "for x in item.getElementsByTagName('quote'):\n",
    "    print(x.childNodes[0].nodeValue)"
   ]
  },
  {
   "cell_type": "code",
   "execution_count": 35,
   "metadata": {},
   "outputs": [],
   "source": [
    "def getValue(item, tag):\n",
    "    node = item.getElementsByTagName(tag).item(0)\n",
    "    if(node != None):\n",
    "        return node.childNodes[0].nodeValue\n",
    "    else:\n",
    "        return None"
   ]
  },
  {
   "cell_type": "code",
   "execution_count": 36,
   "metadata": {},
   "outputs": [],
   "source": [
    "def getTargets(item, tag='quote'):\n",
    "    nodes = item.getElementsByTagName(tag)\n",
    "    targets = []\n",
    "    if(nodes != None):\n",
    "        for node in nodes:\n",
    "            targets.append(node.childNodes[0].nodeValue)\n",
    "        return targets\n",
    "    else:\n",
    "        return None"
   ]
  },
  {
   "cell_type": "code",
   "execution_count": 37,
   "metadata": {},
   "outputs": [],
   "source": [
    "def item_to_string(item):\n",
    "    strings = []\n",
    "    source = getValue(item, 'orth')\n",
    "    targets = getTargets(item)\n",
    "    pos = getValue(item, 'pos')\n",
    "    if pos != None:\n",
    "        pos = dict_pos[pos]\n",
    "    for target in targets:\n",
    "        line = '' + str(source) + '#' + str(target) + '#' + str(pos)\n",
    "        strings.append(line)\n",
    "    return strings"
   ]
  },
  {
   "cell_type": "code",
   "execution_count": 38,
   "metadata": {},
   "outputs": [],
   "source": [
    "dictionary = []\n",
    "for item in itemlist:\n",
    "    list_word = item_to_string(item)\n",
    "    for word in list_word:\n",
    "        dictionary.append(word)"
   ]
  },
  {
   "cell_type": "code",
   "execution_count": 39,
   "metadata": {},
   "outputs": [
    {
     "data": {
      "text/plain": [
       "12234"
      ]
     },
     "execution_count": 39,
     "metadata": {},
     "output_type": "execute_result"
    }
   ],
   "source": [
    "dictionary = list(set(dictionary))\n",
    "list.sort(dictionary)\n",
    "len(dictionary)"
   ]
  },
  {
   "cell_type": "code",
   "execution_count": 41,
   "metadata": {},
   "outputs": [],
   "source": [
    "dictionary.insert(0,'source,target,POS')"
   ]
  },
  {
   "cell_type": "code",
   "execution_count": 42,
   "metadata": {},
   "outputs": [],
   "source": [
    "with open('../EvaluationDictionary/Matthias_Buchmeier_Dic/PT-FR.csv', 'w') as f:\n",
    "    for item in dictionary:\n",
    "        f.write(\"%s\\n\" % item)"
   ]
  }
 ],
 "metadata": {
  "kernelspec": {
   "display_name": "Python 3",
   "language": "python",
   "name": "python3"
  },
  "language_info": {
   "codemirror_mode": {
    "name": "ipython",
    "version": 3
   },
   "file_extension": ".py",
   "mimetype": "text/x-python",
   "name": "python",
   "nbconvert_exporter": "python",
   "pygments_lexer": "ipython3",
   "version": "3.8.8"
  }
 },
 "nbformat": 4,
 "nbformat_minor": 2
}
