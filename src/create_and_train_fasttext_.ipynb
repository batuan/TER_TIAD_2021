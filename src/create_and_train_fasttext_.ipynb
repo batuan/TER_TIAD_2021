{
  "nbformat": 4,
  "nbformat_minor": 0,
  "metadata": {
    "colab": {
      "name": "create_and_train_fasttext_.ipynb",
      "provenance": []
    },
    "kernelspec": {
      "name": "python3",
      "display_name": "Python 3"
    },
    "language_info": {
      "name": "python"
    }
  },
  "cells": [
    {
      "cell_type": "code",
      "metadata": {
        "colab": {
          "base_uri": "https://localhost:8080/"
        },
        "id": "3hsfJkuSqw-0",
        "outputId": "eecb1600-614b-4594-e4cd-0429b38bc0fa"
      },
      "source": [
        "!pip install fasttext"
      ],
      "execution_count": null,
      "outputs": [
        {
          "output_type": "stream",
          "text": [
            "Collecting fasttext\n",
            "\u001b[?25l  Downloading https://files.pythonhosted.org/packages/f8/85/e2b368ab6d3528827b147fdb814f8189acc981a4bc2f99ab894650e05c40/fasttext-0.9.2.tar.gz (68kB)\n",
            "\r\u001b[K     |████▊                           | 10kB 14.7MB/s eta 0:00:01\r\u001b[K     |█████████▌                      | 20kB 11.4MB/s eta 0:00:01\r\u001b[K     |██████████████▎                 | 30kB 7.9MB/s eta 0:00:01\r\u001b[K     |███████████████████             | 40kB 7.0MB/s eta 0:00:01\r\u001b[K     |███████████████████████▉        | 51kB 4.3MB/s eta 0:00:01\r\u001b[K     |████████████████████████████▋   | 61kB 4.7MB/s eta 0:00:01\r\u001b[K     |████████████████████████████████| 71kB 3.4MB/s \n",
            "\u001b[?25hRequirement already satisfied: pybind11>=2.2 in /usr/local/lib/python3.7/dist-packages (from fasttext) (2.6.2)\n",
            "Requirement already satisfied: setuptools>=0.7.0 in /usr/local/lib/python3.7/dist-packages (from fasttext) (56.0.0)\n",
            "Requirement already satisfied: numpy in /usr/local/lib/python3.7/dist-packages (from fasttext) (1.19.5)\n",
            "Building wheels for collected packages: fasttext\n",
            "  Building wheel for fasttext (setup.py) ... \u001b[?25l\u001b[?25hdone\n",
            "  Created wheel for fasttext: filename=fasttext-0.9.2-cp37-cp37m-linux_x86_64.whl size=3092228 sha256=1982c1c77bcd812390459303bdcdabf9546b346e717442a14103e12631458f80\n",
            "  Stored in directory: /root/.cache/pip/wheels/98/ba/7f/b154944a1cf5a8cee91c154b75231136cc3a3321ab0e30f592\n",
            "Successfully built fasttext\n",
            "Installing collected packages: fasttext\n",
            "Successfully installed fasttext-0.9.2\n"
          ],
          "name": "stdout"
        }
      ]
    },
    {
      "cell_type": "code",
      "metadata": {
        "id": "t4rdZEaRpzWK"
      },
      "source": [
        "import pandas as pd"
      ],
      "execution_count": null,
      "outputs": []
    },
    {
      "cell_type": "code",
      "metadata": {
        "id": "EIFGywjSqFB3"
      },
      "source": [
        "df_en = pd.read_csv('/content/en_ewt-ud-train.conllu', delimiter='\\t', comment='#', \n",
        "                 names=['ID', 'FORM', 'LEMMA', 'UPOS', 'XPOS', 'FEATS', 'HEAD', 'DEPREL', 'DEPS', 'MISC'],\n",
        "                 skip_blank_lines=False, error_bad_lines=False, quoting=3) #ignore quote to read the \" character\n",
        "df_en['LEMMA'] = df_en['LEMMA'].fillna(value='end_line_word')\n",
        "# df_en = df_en.drop(['ID'], axis=1)"
      ],
      "execution_count": null,
      "outputs": []
    },
    {
      "cell_type": "code",
      "metadata": {
        "colab": {
          "base_uri": "https://localhost:8080/"
        },
        "id": "OZjjNaeLEEXf",
        "outputId": "e41b2d21-5f80-47a2-e9e9-63c1084ad9d2"
      },
      "source": [
        "len(df_en['LEMMA'].unique())"
      ],
      "execution_count": null,
      "outputs": [
        {
          "output_type": "execute_result",
          "data": {
            "text/plain": [
              "14712"
            ]
          },
          "metadata": {
            "tags": []
          },
          "execution_count": 125
        }
      ]
    },
    {
      "cell_type": "code",
      "metadata": {
        "colab": {
          "base_uri": "https://localhost:8080/"
        },
        "id": "QRN1JX7EqzLD",
        "outputId": "7a5e89cd-13dc-46eb-da22-00a8d076b55f"
      },
      "source": [
        "df_en['UPOS'].unique()"
      ],
      "execution_count": null,
      "outputs": [
        {
          "output_type": "execute_result",
          "data": {
            "text/plain": [
              "array(['PROPN', 'PUNCT', 'ADJ', 'NOUN', 'VERB', 'DET', 'ADP', nan, 'AUX',\n",
              "       'PRON', 'PART', 'SCONJ', 'NUM', 'ADV', 'CCONJ', '_', '``', \"''\",\n",
              "       'X', 'INTJ', 'SYM', 'NN', ',', 'NNS'], dtype=object)"
            ]
          },
          "metadata": {
            "tags": []
          },
          "execution_count": 74
        }
      ]
    },
    {
      "cell_type": "code",
      "metadata": {
        "id": "9zuvVCmws2si"
      },
      "source": [
        "dict_pos = {\n",
        "    \"PROPN\":\"properNoun\", \n",
        "    \"PUNCT\":\"punctuation\", \n",
        "    \"ADJ\":\"adjective\", \n",
        "    \"NOUN\":\"noun\", \n",
        "    \"VERB\":\"verb\", \n",
        "    \"DET\":\"determiner\", \n",
        "    \"ADP\":\"adposition\", \n",
        "    \"AUX\":\"auxiliary\", \n",
        "    \"PRON\":\"pronoun\", \n",
        "    \"PART\":\"particle\", \n",
        "    \"SCONJ\":\"subordinatingConjunction\", \n",
        "    \"NUM\":\"number\", \n",
        "    \"ADV\":\"adverb\", \n",
        "    \"CCONJ\":\"coordinatingConjunction\", \n",
        "    \"INTJ\":\"interjection\",\n",
        "    \"SYM\":\"symbol\"\n",
        "}\n",
        "list_dict_key = list(dict_pos.keys())\n",
        "def pos_lemonpos(x):\n",
        "  if x not in list_dict_key:\n",
        "    return 'none'\n",
        "  else:\n",
        "    return dict_pos[x]"
      ],
      "execution_count": null,
      "outputs": []
    },
    {
      "cell_type": "code",
      "metadata": {
        "id": "nQcPmANkyk6F"
      },
      "source": [
        "df_en['pos'] = df_en['UPOS'].apply(lambda x : pos_lemonpos(x))\n",
        "df_en['word_form'] = df_en['LEMMA'] + '_' + df_en['pos'] + '_en'"
      ],
      "execution_count": null,
      "outputs": []
    },
    {
      "cell_type": "code",
      "metadata": {
        "id": "fC6mtBNQ7krw"
      },
      "source": [
        "def df_to_sentence(df, lang='en'):\n",
        "  lemma = df['LEMMA']\n",
        "  pos = df['pos']\n",
        "  word_merge = lemma + '_' + pos + '_' + lang\n",
        "  sentence = ' '.join(word_merge)\n",
        "  sentence = sentence.replace('end_line_word_none_en', '\\n')\n",
        "  sentence = sentence.replace('\\n ', '\\n')\n",
        "  return sentence"
      ],
      "execution_count": null,
      "outputs": []
    },
    {
      "cell_type": "code",
      "metadata": {
        "id": "1sIWouYM8i2x"
      },
      "source": [
        "sentence = df_to_sentence(df_en, lang='en')"
      ],
      "execution_count": null,
      "outputs": []
    },
    {
      "cell_type": "code",
      "metadata": {
        "id": "jjJKdf0l3T0R"
      },
      "source": [
        "# text_file = open(\"Output.txt\", \"w\")\n",
        "# text_file.write(\"%s\" % sentence)\n",
        "# text_file.close()"
      ],
      "execution_count": null,
      "outputs": []
    },
    {
      "cell_type": "code",
      "metadata": {
        "colab": {
          "base_uri": "https://localhost:8080/"
        },
        "id": "vFIgc4iaNxXU",
        "outputId": "3ecd5247-5061-43c3-b2ea-70ae8790fd6a"
      },
      "source": [
        "!wget https://lindat.mff.cuni.cz/repository/xmlui/handle/11234/1-3424/allzip"
      ],
      "execution_count": null,
      "outputs": [
        {
          "output_type": "stream",
          "text": [
            "--2021-04-28 11:45:59--  https://lindat.mff.cuni.cz/repository/xmlui/handle/11234/1-3424/allzip\n",
            "Resolving lindat.mff.cuni.cz (lindat.mff.cuni.cz)... 195.113.20.140\n",
            "Connecting to lindat.mff.cuni.cz (lindat.mff.cuni.cz)|195.113.20.140|:443... connected.\n",
            "HTTP request sent, awaiting response... 200 OK\n",
            "Length: unspecified [application/zip]\n",
            "Saving to: ‘allzip’\n",
            "\n",
            "allzip                  [        <=>         ] 480.01M  10.5MB/s    in 51s     \n",
            "\n",
            "2021-04-28 11:46:54 (9.36 MB/s) - ‘allzip’ saved [503323392]\n",
            "\n"
          ],
          "name": "stdout"
        }
      ]
    },
    {
      "cell_type": "code",
      "metadata": {
        "colab": {
          "base_uri": "https://localhost:8080/"
        },
        "id": "WFhF3yJlTZW7",
        "outputId": "90b59c80-ca76-498b-ef11-d136472d8e01"
      },
      "source": [
        "!unzip allzip"
      ],
      "execution_count": null,
      "outputs": [
        {
          "output_type": "stream",
          "text": [
            "Archive:  allzip\n",
            "  inflating: ud-treebanks-v2.7.tgz   \n",
            "  inflating: ud-documentation-v2.7.tgz  \n",
            "  inflating: ud-tools-v2.7.tgz       \n"
          ],
          "name": "stdout"
        }
      ]
    },
    {
      "cell_type": "code",
      "metadata": {
        "id": "4-sOEFe7Tdx2"
      },
      "source": [
        "!tar -xzvf ud-treebanks-v2.7.tgz"
      ],
      "execution_count": null,
      "outputs": []
    },
    {
      "cell_type": "code",
      "metadata": {
        "id": "p-2chxBzT5X9"
      },
      "source": [
        "import os\n",
        "path = '/content/ud-treebanks-v2.7/'\n",
        "list_pd = os.listdir(path)\n",
        "list_en = [x for x in list_pd if 'UD_English' in x and 'GUMReddit' not in x and 'English-ESL' not in x]\n",
        "list_es = [x for x in list_pd if 'UD_Spanish' in x]\n",
        "list_fr = [x for x in list_pd if 'UD_French' in x]"
      ],
      "execution_count": null,
      "outputs": []
    },
    {
      "cell_type": "code",
      "metadata": {
        "id": "smrm-VfXU2E0"
      },
      "source": [
        "dict_lang = {\"en\":list_en, \"es\":list_es, \"fr\":list_fr}"
      ],
      "execution_count": null,
      "outputs": []
    },
    {
      "cell_type": "code",
      "metadata": {
        "id": "C6dRoQhzWUMH"
      },
      "source": [
        "def get_all_data(dfs, lang):\n",
        "  sens = []\n",
        "  for m_path_df in dfs: \n",
        "    df = pd.read_csv(m_path_df, delimiter='\t', comment='#', \n",
        "                    names=['ID', 'FORM', 'LEMMA', 'UPOS', 'XPOS', 'FEATS', 'HEAD', 'DEPREL', 'DEPS', 'MISC'],\n",
        "                    skip_blank_lines=False, quoting=3) #ignore quote to read the \" character\n",
        "    df['LEMMA'] = df['LEMMA'].fillna(value='end_line_word')\n",
        "    df = df.drop(['ID'], axis=1)\n",
        "    df['pos'] = df['UPOS'].apply(lambda x : pos_lemonpos(x))\n",
        "    sentence = df_to_sentence(df, lang=lang)\n",
        "    sens.append(sentence)\n",
        "  return sens\n",
        "def to_file(sens, fileName = 'file.txt'):\n",
        "  with open(fileName, \"w\") as f:\n",
        "    for item in sens:\n",
        "      f.write(\"%s\\n\" % item)\\"
      ],
      "execution_count": null,
      "outputs": []
    },
    {
      "cell_type": "code",
      "metadata": {
        "id": "rY_fvyKFXpsR"
      },
      "source": [
        "for key in list(dict_lang.keys()):\n",
        "  list_lang = dict_lang[key]\n",
        "  dfs_path = []\n",
        "  for folder in list_lang:\n",
        "    folder_path = path+folder\n",
        "    m_files = [x for x in os.listdir(folder_path) if '.conllu' in x]\n",
        "    for m_file in m_files:\n",
        "      dfs_path.append(path+folder+'/'+m_file)\n",
        "  sens_lang = get_all_data(dfs_path, key)\n",
        "  to_file(sens_lang, fileName=key+\"_corpus.txt\")"
      ],
      "execution_count": null,
      "outputs": []
    },
    {
      "cell_type": "code",
      "metadata": {
        "id": "qOSWIbObqscv"
      },
      "source": [
        "import fasttext\n",
        "model = fasttext.train_unsupervised(input='/content/EN_corpus.txt', minCount=1, ws=3, epoch=50) "
      ],
      "execution_count": null,
      "outputs": []
    },
    {
      "cell_type": "code",
      "metadata": {
        "id": "vh-gxl-ssG3C"
      },
      "source": [
        "words = model.get_words()"
      ],
      "execution_count": null,
      "outputs": []
    },
    {
      "cell_type": "code",
      "metadata": {
        "colab": {
          "base_uri": "https://localhost:8080/"
        },
        "id": "50o-VqJqsNUl",
        "outputId": "3368ea41-120e-499a-b168-009882787564"
      },
      "source": [
        "model."
      ],
      "execution_count": null,
      "outputs": [
        {
          "output_type": "execute_result",
          "data": {
            "text/plain": [
              "26291"
            ]
          },
          "metadata": {
            "tags": []
          },
          "execution_count": 222
        }
      ]
    }
  ]
}