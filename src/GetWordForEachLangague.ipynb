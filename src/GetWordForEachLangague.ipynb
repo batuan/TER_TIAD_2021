{
 "cells": [
  {
   "cell_type": "code",
   "execution_count": 1,
   "id": "b57844dd",
   "metadata": {},
   "outputs": [],
   "source": [
    "import pandas as pd\n",
    "import os"
   ]
  },
  {
   "cell_type": "code",
   "execution_count": 10,
   "id": "53e34518",
   "metadata": {},
   "outputs": [],
   "source": [
    "def get_list_source_target(lang='EN'):\n",
    "    list_dir = os.listdir('../Small/')\n",
    "    list_dir_en_source = [x for x in list_dir if (lang+'-') in x]\n",
    "    list_dir_en_target = [x for x in list_dir if ('-'+lang) in x]\n",
    "    return list_dir_en_source, list_dir_en_target"
   ]
  },
  {
   "cell_type": "code",
   "execution_count": 64,
   "id": "8ab104d3",
   "metadata": {},
   "outputs": [],
   "source": [
    "langs = ['PT', 'AN', 'RO', 'SC', 'FR', 'CA', 'IT', 'EN', 'EU', 'EO', 'ES', 'OC', 'GL']\n",
    "def get_lang_src_target(path):\n",
    "    src_target = path.split('_')[0].split('Set')[1].split('-')\n",
    "    return src_target\n",
    "def get_list_source_target_infe(lang='EN'):\n",
    "    \n",
    "    list_dir = os.listdir('../Small/')\n",
    "    list_dir = [x for x in list_dir if '.csv' in x]\n",
    "    list_dir_en_source = [x for x in list_dir if get_lang_src_target(x)[0]==lang and get_lang_src_target(x)[1] in langs]\n",
    "    list_dir_en_target = [x for x in list_dir if get_lang_src_target(x)[1]==lang and get_lang_src_target(x)[0] in langs]\n",
    "    return list_dir_en_source, list_dir_en_target"
   ]
  },
  {
   "cell_type": "code",
   "execution_count": 65,
   "id": "d016d07c",
   "metadata": {},
   "outputs": [
    {
     "data": {
      "text/plain": [
       "(['TransSetEN-GL_small.csv',\n",
       "  'TransSetEN-ES_small.csv',\n",
       "  'TransSetEN-CA_small.csv'],\n",
       " ['TransSetEU-EN_small.csv', 'TransSetEO-EN_small.csv'])"
      ]
     },
     "execution_count": 65,
     "metadata": {},
     "output_type": "execute_result"
    }
   ],
   "source": [
    "get_list_source_target_infe()"
   ]
  },
  {
   "cell_type": "code",
   "execution_count": 13,
   "id": "b2722501",
   "metadata": {},
   "outputs": [],
   "source": [
    "def get_data_frame_lang(lang='EN'):\n",
    "    df_en= pd.DataFrame(columns=['source', 'POS'])\n",
    "    source, target = get_list_source_target(lang)\n",
    "    for path_source in source:\n",
    "      path_source = '../Small/' + path_source \n",
    "      df = pd.read_csv(path_source, delimiter=',', error_bad_lines=False)\n",
    "      df_form_source = df[['source', 'POS']]\n",
    "      df_en = pd.concat([df_en, df_form_source], ignore_index=True)\n",
    "    for path_source in target:\n",
    "      path_source =  '../Small/' + path_source \n",
    "      df = pd.read_csv(path_source, delimiter=',', error_bad_lines=False)\n",
    "      df_form_source = df[['target', 'POS']]\n",
    "      df_form_source.columns = ['source', 'POS']\n",
    "      df_en = pd.concat([df_en, df_form_source], ignore_index=True)\n",
    "    return df_en"
   ]
  },
  {
   "cell_type": "code",
   "execution_count": 24,
   "id": "e6c2de02",
   "metadata": {},
   "outputs": [
    {
     "name": "stdout",
     "output_type": "stream",
     "text": [
      "Successfully created the directory ../Small/EN_vocab/ \n",
      "Successfully created the directory ../Small/FR_vocab/ \n",
      "Successfully created the directory ../Small/PT_vocab/ \n"
     ]
    }
   ],
   "source": [
    "for lang in ['EN', 'FR', 'PT']:\n",
    "    df = get_data_frame_lang(lang)\n",
    "    df = df.drop_duplicates(ignore_index=True)\n",
    "    df = df.sort_values(by=['POS'], ignore_index=True)\n",
    "    path = '../Small/'+lang+'_vocab/'\n",
    "    \n",
    "    try:\n",
    "        os.mkdir(path)\n",
    "    except OSError:\n",
    "        print (\"Creation of the directory %s failed\" % path)\n",
    "    else:\n",
    "        print (\"Successfully created the directory %s \" % path)\n",
    "    \n",
    "    df.to_csv(path+'all.csv', index=False)\n",
    "    max_rows = 4500\n",
    "    dataframes = []\n",
    "    while len(df) > max_rows:\n",
    "        top = df[:max_rows]\n",
    "        dataframes.append(top)\n",
    "        df = df[max_rows:]\n",
    "    else:\n",
    "        dataframes.append(df)\n",
    "    for _, frame in enumerate(dataframes):\n",
    "        frame.to_csv(path+str(_)+'.csv', index=False)"
   ]
  },
  {
   "cell_type": "code",
   "execution_count": 28,
   "id": "159aae64",
   "metadata": {},
   "outputs": [],
   "source": [
    "all_en = pd.read_csv('../Small/EN_vocab/all.csv')\n",
    "all_fr = pd.read_csv('../Small/Fr_vocab/all.csv')\n",
    "all_pt = pd.read_csv('../Small/PT_vocab/all.csv')"
   ]
  },
  {
   "cell_type": "code",
   "execution_count": 29,
   "id": "395500a5",
   "metadata": {},
   "outputs": [
    {
     "name": "stdout",
     "output_type": "stream",
     "text": [
      "len en: 93466,len fr: 87146, len pt: 51035\n"
     ]
    }
   ],
   "source": [
    "print('len en: {},len fr: {}, len pt: {}'.format(len(all_en), len(all_fr), len(all_pt)))"
   ]
  },
  {
   "cell_type": "code",
   "execution_count": 31,
   "id": "ed43258b",
   "metadata": {},
   "outputs": [],
   "source": [
    "check_en_fr = pd.merge(all_en, all_fr, on=['source', 'POS'], how='inner')"
   ]
  },
  {
   "cell_type": "code",
   "execution_count": 47,
   "id": "399c84b7",
   "metadata": {},
   "outputs": [
    {
     "data": {
      "text/html": [
       "<div>\n",
       "<style scoped>\n",
       "    .dataframe tbody tr th:only-of-type {\n",
       "        vertical-align: middle;\n",
       "    }\n",
       "\n",
       "    .dataframe tbody tr th {\n",
       "        vertical-align: top;\n",
       "    }\n",
       "\n",
       "    .dataframe thead th {\n",
       "        text-align: right;\n",
       "    }\n",
       "</style>\n",
       "<table border=\"1\" class=\"dataframe\">\n",
       "  <thead>\n",
       "    <tr style=\"text-align: right;\">\n",
       "      <th></th>\n",
       "      <th>source</th>\n",
       "      <th>POS</th>\n",
       "    </tr>\n",
       "  </thead>\n",
       "  <tbody>\n",
       "    <tr>\n",
       "      <th>4</th>\n",
       "      <td>adolescent</td>\n",
       "      <td>adjective</td>\n",
       "    </tr>\n",
       "    <tr>\n",
       "      <th>9</th>\n",
       "      <td>militant</td>\n",
       "      <td>adjective</td>\n",
       "    </tr>\n",
       "    <tr>\n",
       "      <th>17</th>\n",
       "      <td>compact</td>\n",
       "      <td>adjective</td>\n",
       "    </tr>\n",
       "    <tr>\n",
       "      <th>28</th>\n",
       "      <td>adjectival</td>\n",
       "      <td>adjective</td>\n",
       "    </tr>\n",
       "    <tr>\n",
       "      <th>29</th>\n",
       "      <td>changeable</td>\n",
       "      <td>adjective</td>\n",
       "    </tr>\n",
       "    <tr>\n",
       "      <th>...</th>\n",
       "      <td>...</td>\n",
       "      <td>...</td>\n",
       "    </tr>\n",
       "    <tr>\n",
       "      <th>89135</th>\n",
       "      <td>flatter</td>\n",
       "      <td>verb</td>\n",
       "    </tr>\n",
       "    <tr>\n",
       "      <th>89998</th>\n",
       "      <td>layer</td>\n",
       "      <td>verb</td>\n",
       "    </tr>\n",
       "    <tr>\n",
       "      <th>90286</th>\n",
       "      <td>solder</td>\n",
       "      <td>verb</td>\n",
       "    </tr>\n",
       "    <tr>\n",
       "      <th>92090</th>\n",
       "      <td>twitter</td>\n",
       "      <td>verb</td>\n",
       "    </tr>\n",
       "    <tr>\n",
       "      <th>93029</th>\n",
       "      <td>enter</td>\n",
       "      <td>verb</td>\n",
       "    </tr>\n",
       "  </tbody>\n",
       "</table>\n",
       "<p>20738 rows × 2 columns</p>\n",
       "</div>"
      ],
      "text/plain": [
       "           source        POS\n",
       "4      adolescent  adjective\n",
       "9        militant  adjective\n",
       "17        compact  adjective\n",
       "28     adjectival  adjective\n",
       "29     changeable  adjective\n",
       "...           ...        ...\n",
       "89135     flatter       verb\n",
       "89998       layer       verb\n",
       "90286      solder       verb\n",
       "92090     twitter       verb\n",
       "93029       enter       verb\n",
       "\n",
       "[20738 rows x 2 columns]"
      ]
     },
     "execution_count": 47,
     "metadata": {},
     "output_type": "execute_result"
    }
   ],
   "source": [
    "all_en.merge(all_fr,indicator = True, how='left').loc[lambda x : x['_merge']=='both'][['source', 'POS']]"
   ]
  },
  {
   "cell_type": "code",
   "execution_count": 55,
   "id": "5bd4cd36",
   "metadata": {},
   "outputs": [],
   "source": [
    "#get difference between en_fr\n",
    "all_en.merge(all_fr,indicator = True, how='left').loc[lambda x : x['_merge']!='both'][['source', 'POS']].to_csv('../Small/Dictionary_Difference/diff_en_fr.csv', index=False)\n",
    "all_en.merge(all_fr,indicator = True, how='left').loc[lambda x : x['_merge']=='both'][['source', 'POS']].to_csv('../Small/Dictionary_Same/same_en_fr.csv', index=False)"
   ]
  },
  {
   "cell_type": "code",
   "execution_count": 61,
   "id": "29e62f51",
   "metadata": {},
   "outputs": [],
   "source": [
    "#get difference between en_pt\n",
    "all_en.merge(all_pt,indicator = True, how='left').loc[lambda x : x['_merge']!='both'][['source', 'POS']].to_csv('../Small/Dictionary_Difference/diff_en_pt.csv', index=False)\n",
    "#get difference same en_pt\n",
    "all_en.merge(all_pt,indicator = True, how='left').loc[lambda x : x['_merge']=='both'][['source', 'POS']].to_csv('../Small/Dictionary_Same/same_en_pt.csv', index=False)"
   ]
  },
  {
   "cell_type": "code",
   "execution_count": 57,
   "id": "cb54121b",
   "metadata": {},
   "outputs": [],
   "source": [
    "#get difference between fr_en\n",
    "all_fr.merge(all_en,indicator = True, how='left').loc[lambda x : x['_merge']!='both'][['source', 'POS']].to_csv('../Small/Dictionary_Difference/diff_fr_en.csv', index=False)\n",
    "all_fr.merge(all_en,indicator = True, how='left').loc[lambda x : x['_merge']=='both'][['source', 'POS']].to_csv('../Small/Dictionary_Same/same_fr_en.csv', index=False)"
   ]
  },
  {
   "cell_type": "code",
   "execution_count": 58,
   "id": "e0fd857f",
   "metadata": {},
   "outputs": [],
   "source": [
    "#get difference between fr_pt\n",
    "all_fr.merge(all_pt,indicator = True, how='left').loc[lambda x : x['_merge']!='both'][['source', 'POS']].to_csv('../Small/Dictionary_Difference/diff_fr_pt.csv', index=False)\n",
    "#get difference same fr_pt\n",
    "all_fr.merge(all_pt,indicator = True, how='left').loc[lambda x : x['_merge']=='both'][['source', 'POS']].to_csv('../Small/Dictionary_Same/same_fr_pt.csv', index=False)"
   ]
  },
  {
   "cell_type": "code",
   "execution_count": 59,
   "id": "f8322d32",
   "metadata": {},
   "outputs": [],
   "source": [
    "#get difference between pt_en\n",
    "all_pt.merge(all_en,indicator = True, how='left').loc[lambda x : x['_merge']!='both'][['source', 'POS']].to_csv('../Small/Dictionary_Difference/diff_pt_en.csv', index=False)\n",
    "#get difference same pt_en\n",
    "all_pt.merge(all_en,indicator = True, how='left').loc[lambda x : x['_merge']=='both'][['source', 'POS']].to_csv('../Small/Dictionary_Same/same_pt_en.csv', index=False)"
   ]
  },
  {
   "cell_type": "code",
   "execution_count": 60,
   "id": "ff4b731a",
   "metadata": {},
   "outputs": [],
   "source": [
    "#get difference between pt_fr\n",
    "all_pt.merge(all_fr,indicator = True, how='left').loc[lambda x : x['_merge']!='both'][['source', 'POS']].to_csv('../Small/Dictionary_Difference/diff_pt_fr.csv', index=False)\n",
    "#get difference same pt_fr\n",
    "all_pt.merge(all_fr,indicator = True, how='left').loc[lambda x : x['_merge']=='both'][['source', 'POS']].to_csv('../Small/Dictionary_Same/same_pt_fr.csv', index=False)"
   ]
  },
  {
   "cell_type": "code",
   "execution_count": 66,
   "id": "4dd864ad",
   "metadata": {},
   "outputs": [],
   "source": [
    "def get_data_frame_lang_infe(lang='EN'):\n",
    "    df_en= pd.DataFrame(columns=['source', 'POS'])\n",
    "    source, target = get_list_source_target_infe(lang)\n",
    "    for path_source in source:\n",
    "      path_source = '../Small/' + path_source \n",
    "      df = pd.read_csv(path_source, delimiter=',', error_bad_lines=False)\n",
    "      df_form_source = df[['source', 'POS']]\n",
    "      df_en = pd.concat([df_en, df_form_source], ignore_index=True)\n",
    "    for path_source in target:\n",
    "      path_source =  '../Small/' + path_source \n",
    "      df = pd.read_csv(path_source, delimiter=',', error_bad_lines=False)\n",
    "      df_form_source = df[['target', 'POS']]\n",
    "      df_form_source.columns = ['source', 'POS']\n",
    "      df_en = pd.concat([df_en, df_form_source], ignore_index=True)\n",
    "    return df_en"
   ]
  },
  {
   "cell_type": "code",
   "execution_count": 69,
   "id": "43ae54da",
   "metadata": {},
   "outputs": [],
   "source": [
    "df_en_infe = get_data_frame_lang_infe().drop_duplicates(ignore_index=True)\n",
    "df_fr_infe = get_data_frame_lang_infe('FR').drop_duplicates(ignore_index=True)\n",
    "df_pt_infe = get_data_frame_lang_infe('PT').drop_duplicates(ignore_index=True)"
   ]
  },
  {
   "cell_type": "code",
   "execution_count": 73,
   "id": "1cf1c399",
   "metadata": {},
   "outputs": [],
   "source": [
    "df_en_infe.merge(df_fr_infe,indicator = True, how='left').loc[lambda x : x['_merge']!='both'][['source', 'POS']].to_csv('../Small/Dictionary_To_Infe/to_infe_en_fr.csv', index=False)\n",
    "df_en_infe.merge(df_pt_infe,indicator = True, how='left').loc[lambda x : x['_merge']!='both'][['source', 'POS']].to_csv('../Small/Dictionary_To_Infe/to_infe_en_pt.csv', index=False)\n",
    "\n",
    "df_fr_infe.merge(df_en_infe,indicator = True, how='left').loc[lambda x : x['_merge']!='both'][['source', 'POS']].to_csv('../Small/Dictionary_To_Infe/to_infe_fr_en.csv', index=False)\n",
    "df_fr_infe.merge(df_pt_infe,indicator = True, how='left').loc[lambda x : x['_merge']!='both'][['source', 'POS']].to_csv('../Small/Dictionary_To_Infe/to_infe_fr_pt.csv', index=False)\n",
    "\n",
    "df_pt_infe.merge(df_en_infe,indicator = True, how='left').loc[lambda x : x['_merge']!='both'][['source', 'POS']].to_csv('../Small/Dictionary_To_Infe/to_infe_pt_en.csv', index=False)\n",
    "df_pt_infe.merge(df_fr_infe,indicator = True, how='left').loc[lambda x : x['_merge']!='both'][['source', 'POS']].to_csv('../Small/Dictionary_To_Infe/to_infe_pt_fr.csv', index=False)"
   ]
  }
 ],
 "metadata": {
  "kernelspec": {
   "display_name": "Python 3",
   "language": "python",
   "name": "python3"
  },
  "language_info": {
   "codemirror_mode": {
    "name": "ipython",
    "version": 3
   },
   "file_extension": ".py",
   "mimetype": "text/x-python",
   "name": "python",
   "nbconvert_exporter": "python",
   "pygments_lexer": "ipython3",
   "version": "3.8.8"
  }
 },
 "nbformat": 4,
 "nbformat_minor": 5
}
