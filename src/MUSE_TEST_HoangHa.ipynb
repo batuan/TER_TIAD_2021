{
 "cells": [
  {
   "cell_type": "code",
   "execution_count": 1,
   "metadata": {
    "id": "eIfskzbXtDGx"
   },
   "outputs": [],
   "source": [
    "# testing \n",
    "import io\n",
    "import numpy as np\n",
    "import fasttext"
   ]
  },
  {
   "cell_type": "code",
   "execution_count": 2,
   "metadata": {
    "id": "QDC_cZwmuYZw"
   },
   "outputs": [],
   "source": [
    "def load_vec(emb_path, nmax=50000):\n",
    "    model = fasttext.load_model(emb_path)\n",
    "    embeddings = model.get_output_matrix()\n",
    "    words = model.get_labels()\n",
    "    word2id = {w:i for i, w in enumerate(words)}\n",
    "    id2word = {v: k for k, v in word2id.items()}\n",
    "    \n",
    "    #embeddings = np.vstack(vectors)\n",
    "    return embeddings, id2word, word2id"
   ]
  },
  {
   "cell_type": "code",
   "execution_count": 3,
   "metadata": {
    "id": "qRyA-OK0_Ykb"
   },
   "outputs": [],
   "source": [
    "def get_nn(word, src_emb, src_id2word, tgt_emb, tgt_id2word, K=5, print_mode=True, pos='noun'):\n",
    "    word2id = {v: k for k, v in src_id2word.items()}\n",
    "    word_emb = src_emb[word2id[word]]\n",
    "    scores = (tgt_emb / np.linalg.norm(tgt_emb, 2, 1)[:, None]).dot(word_emb / np.linalg.norm(word_emb))\n",
    "    k_best = scores.argsort()[-K:][::-1]\n",
    "    if print_mode:\n",
    "        print(\"Nearest neighbors of \\\"%s\\\":\" % word)\n",
    "        for i, idx in enumerate(k_best):\n",
    "            print('%.4f - %s' % (scores[idx], tgt_id2word[idx]))\n",
    "    index = 0\n",
    "    for idx in k_best:\n",
    "        if pos in tgt_id2word[idx]:\n",
    "            index = idx\n",
    "            break\n",
    "    return tgt_id2word[index], scores[index]"
   ]
  },
  {
   "cell_type": "code",
   "execution_count": 4,
   "metadata": {
    "id": "9QFQD_U8uaoU"
   },
   "outputs": [],
   "source": [
    "import torch\n",
    "matrx_en_es = torch.from_numpy(torch.load('./dumped/debug/EN_ES/best_mapping.pth'))\n",
    "matrx_en_es = matrx_en_es.detach().numpy()\n",
    "\n",
    "matrx_es_fr = torch.from_numpy(torch.load('./dumped/debug/ES_FR/best_mapping.pth'))\n",
    "matrx_es_fr = matrx_es_fr.detach().numpy()"
   ]
  },
  {
   "cell_type": "code",
   "execution_count": 5,
   "metadata": {
    "id": "hQE46Kx0uqB0"
   },
   "outputs": [
    {
     "name": "stderr",
     "output_type": "stream",
     "text": [
      "Warning : `load_model` does not return WordVectorModel or SupervisedModel any more, but a `FastText` object which is very similar.\n"
     ]
    }
   ],
   "source": [
    "en_path = '../corpus_en/model_en.bin'\n",
    "nmax = 2000000  # maximum number of word embeddings to load\n",
    "en_embeddings, en_id2word, en_word2id = load_vec(en_path, nmax)\n",
    "#model = fasttext.load_model(en_path)"
   ]
  },
  {
   "cell_type": "code",
   "execution_count": 24,
   "metadata": {
    "id": "pAYqOyuh-8f_"
   },
   "outputs": [
    {
     "name": "stderr",
     "output_type": "stream",
     "text": [
      "Warning : `load_model` does not return WordVectorModel or SupervisedModel any more, but a `FastText` object which is very similar.\n"
     ]
    }
   ],
   "source": [
    "es_path = '../corpus_es/model_es.bin'\n",
    "es_embeddings, es_id2word, es_word2id = load_vec(es_path, nmax)"
   ]
  },
  {
   "cell_type": "code",
   "execution_count": 6,
   "metadata": {
    "id": "5nxlMCbnv48e"
   },
   "outputs": [
    {
     "name": "stderr",
     "output_type": "stream",
     "text": [
      "Warning : `load_model` does not return WordVectorModel or SupervisedModel any more, but a `FastText` object which is very similar.\n"
     ]
    }
   ],
   "source": [
    "fr_path = '../corpus_fr/model_fr.bin'\n",
    "fr_embeddings, fr_id2word, fr_word2id = load_vec(fr_path, nmax)"
   ]
  },
  {
   "cell_type": "markdown",
   "metadata": {},
   "source": [
    "## 1 test from sour model EN to get nearest neigbor of word dog_noun"
   ]
  },
  {
   "cell_type": "code",
   "execution_count": 26,
   "metadata": {},
   "outputs": [
    {
     "data": {
      "text/plain": [
       "(1221513, 300)"
      ]
     },
     "execution_count": 26,
     "metadata": {},
     "output_type": "execute_result"
    }
   ],
   "source": [
    "en_embeddings.shape"
   ]
  },
  {
   "cell_type": "code",
   "execution_count": 27,
   "metadata": {},
   "outputs": [
    {
     "name": "stdout",
     "output_type": "stream",
     "text": [
      "Nearest neighbors of \"dog_noun\":\n",
      "1.0000 - dog_noun\n",
      "0.6756 - cat_noun\n",
      "0.6396 - puppy_noun\n",
      "0.6345 - pet_noun\n",
      "0.5783 - dog_properNoun\n"
     ]
    }
   ],
   "source": [
    "# printing nearest neighbors in the source space\n",
    "#test with source en\n",
    "src_word = 'dog_noun'\n",
    "get_nn(src_word, en_embeddings, en_id2word, en_embeddings, en_id2word, K=5)"
   ]
  },
  {
   "cell_type": "code",
   "execution_count": 28,
   "metadata": {
    "id": "s-jGPzdgvVT_"
   },
   "outputs": [],
   "source": [
    "\"\"\"\n",
    "mapping from EN corpus to FR corpus by multiple en_embedding by the linear mappping matrix \n",
    "\"\"\"\n",
    "\n",
    "en_embeddings = matrx_en_es.dot(en_embeddings.transpose()).transpose()\n",
    "# en mapping to fr\n",
    "# src_embeddings = matrx_es_fr.dot(src_embeddings.transpose()).transpose()"
   ]
  },
  {
   "cell_type": "code",
   "execution_count": 29,
   "metadata": {
    "colab": {
     "base_uri": "https://localhost:8080/"
    },
    "id": "J_bs3RKgvh0D",
    "outputId": "d0e2bacb-8a4c-46ae-d90f-2edad28273fa"
   },
   "outputs": [
    {
     "name": "stdout",
     "output_type": "stream",
     "text": [
      "Nearest neighbors of \"dog_noun\":\n",
      "1.0000 - dog_noun\n",
      "0.6756 - cat_noun\n",
      "0.6396 - puppy_noun\n",
      "0.6345 - pet_noun\n",
      "0.5783 - dog_properNoun\n"
     ]
    }
   ],
   "source": [
    "# printing nearest neighbors in the source space\n",
    "#test with source en after mapping\n",
    "src_word = 'dog_noun'\n",
    "get_nn(src_word, en_embeddings, en_id2word, en_embeddings, en_id2word, K=5)"
   ]
  },
  {
   "cell_type": "code",
   "execution_count": 30,
   "metadata": {
    "colab": {
     "base_uri": "https://localhost:8080/"
    },
    "id": "UjV7MbSP0_lq",
    "outputId": "068f9015-9d81-4f9e-9045-1257e7279338"
   },
   "outputs": [
    {
     "name": "stdout",
     "output_type": "stream",
     "text": [
      "Nearest neighbors of \"dog_noun\":\n",
      "0.6954 - perro_noun\n",
      "0.6092 - cachorro_noun\n",
      "0.5684 - gato_noun\n",
      "0.5602 - perrito_noun\n",
      "0.5453 - animal_noun\n"
     ]
    }
   ],
   "source": [
    "# printing nearest neighbors in the source space mapping to target space\n",
    "#test with source es\n",
    "src_word = 'dog_noun'\n",
    "get_nn(src_word, en_embeddings, en_id2word, es_embeddings, es_id2word, K=5)"
   ]
  },
  {
   "cell_type": "code",
   "execution_count": 31,
   "metadata": {
    "id": "7NRSsjPDADGr"
   },
   "outputs": [],
   "source": [
    "#test mapping en -> fr by multiple with es -> fr mapping matrix => W_en_fr = W_en_es * W_es_fr\n",
    "en_embeddings = matrx_es_fr.dot(en_embeddings.transpose()).transpose()"
   ]
  },
  {
   "cell_type": "code",
   "execution_count": 68,
   "metadata": {
    "colab": {
     "base_uri": "https://localhost:8080/"
    },
    "id": "1LdEBCILAP_P",
    "outputId": "41cfbc29-262b-4340-8c56-5bd80bf53051"
   },
   "outputs": [
    {
     "name": "stdout",
     "output_type": "stream",
     "text": [
      "Nearest neighbors of \"pull_verb\":\n",
      "0.5555 - lâcher_verb\n",
      "0.4972 - attraper_verb\n",
      "0.4876 - sauter_verb\n",
      "0.4870 - balancer_verb\n",
      "0.4810 - glisser_verb\n"
     ]
    },
    {
     "data": {
      "text/plain": [
       "('lâcher_verb', 0.5555055)"
      ]
     },
     "execution_count": 68,
     "metadata": {},
     "output_type": "execute_result"
    }
   ],
   "source": [
    "src_word = 'pull_verb'\n",
    "get_nn(src_word, en_embeddings, en_id2word, fr_embeddings, fr_id2word, K=5, pos='verb')"
   ]
  },
  {
   "cell_type": "markdown",
   "metadata": {
    "id": "Q5RE_jTVCDHX"
   },
   "source": [
    "## 2 buidling dictionary from English to France using MUSE"
   ]
  },
  {
   "cell_type": "code",
   "execution_count": 33,
   "metadata": {},
   "outputs": [
    {
     "name": "stdout",
     "output_type": "stream",
     "text": [
      "to_infe_en_fr.csv  to_infe_fr_en.csv  to_infe_pt_en.csv\r\n",
      "to_infe_en_pt.csv  to_infe_fr_pt.csv  to_infe_pt_fr.csv\r\n"
     ]
    }
   ],
   "source": [
    "!ls Dictionary_To_Infe/"
   ]
  },
  {
   "cell_type": "code",
   "execution_count": 14,
   "metadata": {},
   "outputs": [
    {
     "name": "stdout",
     "output_type": "stream",
     "text": [
      "40130\n"
     ]
    }
   ],
   "source": [
    "import pandas as pd\n",
    "en_df = pd.read_csv('./Dictionary_To_Infe/to_infe_en_fr.csv')\n",
    "en_df['source'] = [str(x).replace(' ', '-') for x in en_df['source']]\n",
    "en_word = (en_df['source']+'_'+en_df['POS']).values\n",
    "print(len(en_word))"
   ]
  },
  {
   "cell_type": "code",
   "execution_count": 12,
   "metadata": {},
   "outputs": [],
   "source": [
    "en_corpus_word = set(list(en_word2id.keys()))\n",
    "has_word = [x for x in en_word if x in en_corpus_word]\n",
    "out_word = [x for x in en_word if x not in en_corpus_word]"
   ]
  },
  {
   "cell_type": "code",
   "execution_count": 15,
   "metadata": {},
   "outputs": [
    {
     "name": "stdout",
     "output_type": "stream",
     "text": [
      "24404\n",
      "15726\n"
     ]
    },
    {
     "data": {
      "text/plain": [
       "40130"
      ]
     },
     "execution_count": 15,
     "metadata": {},
     "output_type": "execute_result"
    }
   ],
   "source": [
    "print(len(has_word))\n",
    "print(len(out_word))\n",
    "24404 + 15726"
   ]
  },
  {
   "cell_type": "code",
   "execution_count": 69,
   "metadata": {},
   "outputs": [],
   "source": [
    "def get_pos(x):\n",
    "    return x.split('_')[1]\n",
    "def get_word(x):\n",
    "    return x.split('_')[0].replace('-', ' ')"
   ]
  },
  {
   "cell_type": "code",
   "execution_count": 72,
   "metadata": {},
   "outputs": [
    {
     "data": {
      "text/plain": [
       "'Juande Ramos'"
      ]
     },
     "execution_count": 72,
     "metadata": {},
     "output_type": "execute_result"
    }
   ],
   "source": [
    "get_word('Juande-Ramos_properNoun')"
   ]
  },
  {
   "cell_type": "code",
   "execution_count": null,
   "metadata": {},
   "outputs": [],
   "source": [
    "with open('muse_trans_en-fr.tsv', 'a') as f:\n",
    "    for x in has_word:\n",
    "        src_word = x\n",
    "        pos = get_pos(src_word)\n",
    "        result, score = get_nn(src_word, en_embeddings, en_id2word, fr_embeddings, fr_id2word, K=10, print_mode=False, pos=pos)\n",
    "        line = get_word(x)+'\\t'+get_word(result)+'\\t'+pos+'\\t'+str(score)\n",
    "        f.write(\"%s\\n\" % line)"
   ]
  },
  {
   "cell_type": "code",
   "execution_count": 17,
   "metadata": {},
   "outputs": [
    {
     "data": {
      "text/plain": [
       "['occupational_adjective',\n",
       " 'scare_noun',\n",
       " 'factory_noun',\n",
       " 'trap_verb',\n",
       " 'treasure_verb',\n",
       " 'fellow_adjective',\n",
       " 'methodical_adjective',\n",
       " 'ocular_adjective',\n",
       " 'biosphere_noun',\n",
       " 'bay_noun']"
      ]
     },
     "execution_count": 17,
     "metadata": {},
     "output_type": "execute_result"
    }
   ],
   "source": [
    "has_word.index('ennode_nou')"
   ]
  }
 ],
 "metadata": {
  "accelerator": "GPU",
  "colab": {
   "name": "MUSE_TEST.ipynb",
   "provenance": []
  },
  "kernelspec": {
   "display_name": "Python 3",
   "language": "python",
   "name": "python3"
  },
  "language_info": {
   "codemirror_mode": {
    "name": "ipython",
    "version": 3
   },
   "file_extension": ".py",
   "mimetype": "text/x-python",
   "name": "python",
   "nbconvert_exporter": "python",
   "pygments_lexer": "ipython3",
   "version": "3.8.8"
  }
 },
 "nbformat": 4,
 "nbformat_minor": 1
}
