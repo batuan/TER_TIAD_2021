{
 "cells": [
  {
   "cell_type": "code",
   "execution_count": null,
   "metadata": {
    "id": "eUT5aKBB1DDQ"
   },
   "outputs": [],
   "source": [
    "from bs4 import BeautifulSoup\n",
    "import requests"
   ]
  },
  {
   "cell_type": "code",
   "execution_count": null,
   "metadata": {
    "id": "TVKVzWOW1Mg0"
   },
   "outputs": [],
   "source": [
    "pre = 'https://en.wiktionary.org/wiki/User:Matthias_Buchmeier/en-fr-'\n",
    "list_alphabet = [str(chr(one)) for one in range(97,123)]\n",
    "list_alphabet.insert(len(list_alphabet), '0')"
   ]
  },
  {
   "cell_type": "code",
   "execution_count": null,
   "metadata": {
    "id": "GvsiwP0fK11a"
   },
   "outputs": [],
   "source": [
    "def find_pos(s):\n",
    "  x = ''\n",
    "  try:   \n",
    "    x = s.split('{')[1].split('}')[0]\n",
    "  except:\n",
    "    x = ''\n",
    "  return x\n",
    "def find_see_after(s):\n",
    "  x = ''\n",
    "  try:   \n",
    "    x = s.split('SEE:')[1].strip()\n",
    "  except:\n",
    "    x = ''\n",
    "  return x\n",
    "def find_sens(s):\n",
    "  x = ''\n",
    "  try:   \n",
    "    x = s.split('(')[1].split(')')[0].strip()\n",
    "  except:\n",
    "    x = ''\n",
    "  return x\n",
    "def to_line_dict(source, sens, see_after, pos):\n",
    "  line = '{}#{}#{}#{}'.format(source,sens, see_after, pos)\n",
    "  return line"
   ]
  },
  {
   "cell_type": "code",
   "execution_count": null,
   "metadata": {
    "colab": {
     "base_uri": "https://localhost:8080/",
     "height": 35
    },
    "id": "uKPo25g0cM4R",
    "outputId": "bfae3a5a-bb18-4d2f-d6c6-9093167ab5d2"
   },
   "outputs": [
    {
     "data": {
      "application/vnd.google.colaboratory.intrinsic+json": {
       "type": "string"
      },
      "text/plain": [
       "'a#b#d#e'"
      ]
     },
     "execution_count": 4,
     "metadata": {
      "tags": []
     },
     "output_type": "execute_result"
    }
   ],
   "source": [
    "to_line_dict('a','b','d','e')"
   ]
  },
  {
   "cell_type": "code",
   "execution_count": null,
   "metadata": {
    "id": "TDZnD7nYK2fl"
   },
   "outputs": [],
   "source": [
    "dict_pos = {\n",
    "    \"prefix\":\"Prefix\",\n",
    "    \"numeral\":\"numeral\",\n",
    "    \"phraseologicalUnit\":\"phraseologicalUnit\",\n",
    "    \"determiner\":\"determiner\",\n",
    "    \"postposition\":\"postposition\",\n",
    "    \"adj\":\"adjective\",\n",
    "    \"v\":\"verb\",\n",
    "    \"pronoun\":\"Pronoun\",\n",
    "    \"interjection\":\"interjection\",\n",
    "    \"conjunction\":\"conjunction\",\n",
    "    \"n\":\"noun\",\n",
    "    \"pn\":\"pronoun\",\n",
    "    \"suffix\":\"Suffix\",\n",
    "    \"proverb\":\"proverb\",\n",
    "    \"adv\":\"adverb\",\n",
    "    \"article\":\"Article\",\n",
    "    \"symbol\":\"Symbol\",\n",
    "    \"particle\":\"particle\",\n",
    "    \"preposition\":\"preposition\",\n",
    "}"
   ]
  },
  {
   "cell_type": "code",
   "execution_count": null,
   "metadata": {
    "id": "CLrEl0kO1jFW"
   },
   "outputs": [],
   "source": [
    "find_after = []\n",
    "all = []\n",
    "list_pos = list(dict_pos.keys())\n",
    "for character in list_alphabet:\n",
    "  r = requests.get(pre+character)\n",
    "  soup = BeautifulSoup(r.content)\n",
    "  list_tr = soup.find_all('tr')\n",
    "  for tr_tag in list_tr:\n",
    "    source = ''\n",
    "    pos = ''\n",
    "    sens = ''\n",
    "    targets = []\n",
    "    try:\n",
    "      source = tr_tag.td.a.text\n",
    "      source_sense = tr_tag.td.text\n",
    "      pos = find_pos(source_sense)\n",
    "      sens = find_sens(source_sense)\n",
    "      if pos in list_pos:\n",
    "        pos = dict_pos[pos]\n",
    "      if 'SEE' in source_sense:\n",
    "        see_after = find_see_after(source_sense)\n",
    "        find_after.append(to_line_dict(source,sens,see_after,pos))\n",
    "        continue\n",
    "      len_targets = len(tr_tag.find_all('td')[1].find_all('a'))\n",
    "      for index in range(len_targets):\n",
    "        a_text = tr_tag.find_all('td')[1].find_all('a')[index].text\n",
    "        targets.append(to_line_dict(source,sens,a_text,pos))\n",
    "      for x in targets:\n",
    "        all.append(x)\n",
    "    except:\n",
    "      continue"
   ]
  },
  {
   "cell_type": "code",
   "execution_count": null,
   "metadata": {
    "colab": {
     "base_uri": "https://localhost:8080/"
    },
    "id": "Ax5CQ7vYA_4F",
    "outputId": "9e92844c-a7cd-42c3-ed5a-8bb95b04f0b2"
   },
   "outputs": [
    {
     "name": "stdout",
     "output_type": "stream",
     "text": [
      "8275\n"
     ]
    }
   ],
   "source": [
    "print(len(find_after))\n",
    "list.sort(find_after)"
   ]
  },
  {
   "cell_type": "code",
   "execution_count": null,
   "metadata": {
    "colab": {
     "base_uri": "https://localhost:8080/"
    },
    "id": "yHQU5TKdQ3SM",
    "outputId": "e62ab508-78f3-4f34-e646-d566eb432c3f"
   },
   "outputs": [
    {
     "name": "stdout",
     "output_type": "stream",
     "text": [
      "5217\n"
     ]
    }
   ],
   "source": [
    "for i in range(len(find_after)-1):\n",
    "  if find_after[i]==find_after[i+1]:\n",
    "    print(i)\n",
    "    break"
   ]
  },
  {
   "cell_type": "code",
   "execution_count": null,
   "metadata": {
    "colab": {
     "base_uri": "https://localhost:8080/"
    },
    "id": "VlbPnbh1RJ_Y",
    "outputId": "e61942ce-a092-4e38-aa21-012e72ec2254"
   },
   "outputs": [
    {
     "data": {
      "text/plain": [
       "['motorbiker#motorcyclist#motorcyclist#noun',\n",
       " 'motorcar#enclosed passenger vehicle powered by engine#automobile#noun',\n",
       " 'mould#mould#mold#noun',\n",
       " 'mould#mould#mold#noun',\n",
       " 'mould#mould#mold#verb']"
      ]
     },
     "execution_count": 13,
     "metadata": {
      "tags": []
     },
     "output_type": "execute_result"
    }
   ],
   "source": [
    "find_after[5215:5220]"
   ]
  },
  {
   "cell_type": "code",
   "execution_count": null,
   "metadata": {
    "colab": {
     "base_uri": "https://localhost:8080/",
     "height": 52
    },
    "id": "9A5tKT8EEphv",
    "outputId": "f30d1fc8-4524-4763-c552-74a1abf308af"
   },
   "outputs": [
    {
     "name": "stdout",
     "output_type": "stream",
     "text": [
      "Commonwealth of Australia\n"
     ]
    },
    {
     "data": {
      "application/vnd.google.colaboratory.intrinsic+json": {
       "type": "string"
      },
      "text/plain": [
       "'Commonwealth of Australia'"
      ]
     },
     "execution_count": 16,
     "metadata": {
      "tags": []
     },
     "output_type": "execute_result"
    }
   ],
   "source": [
    "s = '{prop} (Commonwealth of Australia) SEE: Commonwealth of Australia'\n",
    "print(s.split('SEE:')[1].strip())\n",
    "s.split('(')[1].split(')')[0].strip()"
   ]
  },
  {
   "cell_type": "code",
   "execution_count": null,
   "metadata": {
    "id": "DJYw3rhSTaHH"
   },
   "outputs": [],
   "source": [
    "import pandas as pd\n",
    "from io import StringIO"
   ]
  },
  {
   "cell_type": "code",
   "execution_count": 119,
   "metadata": {
    "colab": {
     "base_uri": "https://localhost:8080/",
     "height": 334
    },
    "id": "7ZIuumaQUTDQ",
    "outputId": "15bada74-ad88-485b-8aae-9e4c426cc187"
   },
   "outputs": [
    {
     "name": "stderr",
     "output_type": "stream",
     "text": [
      "b'Skipping line 2879: expected 4 fields, saw 5\\nSkipping line 4109: expected 4 fields, saw 5\\nSkipping line 6066: expected 4 fields, saw 5\\nSkipping line 6067: expected 4 fields, saw 5\\n'\n"
     ]
    },
    {
     "data": {
      "text/html": [
       "<div>\n",
       "<style scoped>\n",
       "    .dataframe tbody tr th:only-of-type {\n",
       "        vertical-align: middle;\n",
       "    }\n",
       "\n",
       "    .dataframe tbody tr th {\n",
       "        vertical-align: top;\n",
       "    }\n",
       "\n",
       "    .dataframe thead th {\n",
       "        text-align: right;\n",
       "    }\n",
       "</style>\n",
       "<table border=\"1\" class=\"dataframe\">\n",
       "  <thead>\n",
       "    <tr style=\"text-align: right;\">\n",
       "      <th></th>\n",
       "      <th>word</th>\n",
       "      <th>sens</th>\n",
       "      <th>see</th>\n",
       "      <th>pos</th>\n",
       "    </tr>\n",
       "  </thead>\n",
       "  <tbody>\n",
       "    <tr>\n",
       "      <th>0</th>\n",
       "      <td>-'s</td>\n",
       "      <td>-s</td>\n",
       "      <td>-s</td>\n",
       "      <td>Suffix</td>\n",
       "    </tr>\n",
       "    <tr>\n",
       "      <th>1</th>\n",
       "      <td>-form</td>\n",
       "      <td>shaped</td>\n",
       "      <td>shaped</td>\n",
       "      <td>Suffix</td>\n",
       "    </tr>\n",
       "    <tr>\n",
       "      <th>2</th>\n",
       "      <td>-in'</td>\n",
       "      <td>-ing</td>\n",
       "      <td>-ing</td>\n",
       "      <td>Suffix</td>\n",
       "    </tr>\n",
       "    <tr>\n",
       "      <th>3</th>\n",
       "      <td>-ise</td>\n",
       "      <td>-ize</td>\n",
       "      <td>-ize</td>\n",
       "      <td>Suffix</td>\n",
       "    </tr>\n",
       "    <tr>\n",
       "      <th>4</th>\n",
       "      <td>-ista</td>\n",
       "      <td>follower</td>\n",
       "      <td>-ist</td>\n",
       "      <td>Suffix</td>\n",
       "    </tr>\n",
       "    <tr>\n",
       "      <th>5</th>\n",
       "      <td>-landia</td>\n",
       "      <td>territory, country or region</td>\n",
       "      <td>-land</td>\n",
       "      <td>Suffix</td>\n",
       "    </tr>\n",
       "    <tr>\n",
       "      <th>6</th>\n",
       "      <td>-logic</td>\n",
       "      <td>-logical</td>\n",
       "      <td>-logical</td>\n",
       "      <td>Suffix</td>\n",
       "    </tr>\n",
       "    <tr>\n",
       "      <th>7</th>\n",
       "      <td>-san</td>\n",
       "      <td>Miss</td>\n",
       "      <td>Miss</td>\n",
       "      <td>Suffix</td>\n",
       "    </tr>\n",
       "  </tbody>\n",
       "</table>\n",
       "</div>"
      ],
      "text/plain": [
       "      word                          sens       see     pos\n",
       "0      -'s                            -s        -s  Suffix\n",
       "1    -form                        shaped    shaped  Suffix\n",
       "2     -in'                          -ing      -ing  Suffix\n",
       "3     -ise                          -ize      -ize  Suffix\n",
       "4    -ista                      follower      -ist  Suffix\n",
       "5  -landia  territory, country or region     -land  Suffix\n",
       "6   -logic                      -logical  -logical  Suffix\n",
       "7     -san                          Miss      Miss  Suffix"
      ]
     },
     "execution_count": 119,
     "metadata": {
      "tags": []
     },
     "output_type": "execute_result"
    }
   ],
   "source": [
    "find_after.insert(0,'word#sens#see#pos')\n",
    "text_find_after = '\\n'.join(find_after)\n",
    "TESTDATA = StringIO(text_find_after)\n",
    "df1 = pd.read_csv(TESTDATA, error_bad_lines=False, delimiter='#')\n",
    "df1.head(8)"
   ]
  },
  {
   "cell_type": "code",
   "execution_count": 120,
   "metadata": {
    "colab": {
     "base_uri": "https://localhost:8080/",
     "height": 419
    },
    "id": "IIaPSgQNEHSS",
    "outputId": "868a1e50-0597-47e3-e560-d04c480d7a91"
   },
   "outputs": [
    {
     "data": {
      "text/html": [
       "<div>\n",
       "<style scoped>\n",
       "    .dataframe tbody tr th:only-of-type {\n",
       "        vertical-align: middle;\n",
       "    }\n",
       "\n",
       "    .dataframe tbody tr th {\n",
       "        vertical-align: top;\n",
       "    }\n",
       "\n",
       "    .dataframe thead th {\n",
       "        text-align: right;\n",
       "    }\n",
       "</style>\n",
       "<table border=\"1\" class=\"dataframe\">\n",
       "  <thead>\n",
       "    <tr style=\"text-align: right;\">\n",
       "      <th></th>\n",
       "      <th>word_origin</th>\n",
       "      <th>sens</th>\n",
       "      <th>see</th>\n",
       "      <th>pos</th>\n",
       "    </tr>\n",
       "  </thead>\n",
       "  <tbody>\n",
       "    <tr>\n",
       "      <th>0</th>\n",
       "      <td>-'s</td>\n",
       "      <td>-s</td>\n",
       "      <td>-s</td>\n",
       "      <td>Suffix</td>\n",
       "    </tr>\n",
       "    <tr>\n",
       "      <th>1</th>\n",
       "      <td>-form</td>\n",
       "      <td>shaped</td>\n",
       "      <td>shaped</td>\n",
       "      <td>Suffix</td>\n",
       "    </tr>\n",
       "    <tr>\n",
       "      <th>2</th>\n",
       "      <td>-in'</td>\n",
       "      <td>-ing</td>\n",
       "      <td>-ing</td>\n",
       "      <td>Suffix</td>\n",
       "    </tr>\n",
       "    <tr>\n",
       "      <th>3</th>\n",
       "      <td>-ise</td>\n",
       "      <td>-ize</td>\n",
       "      <td>-ize</td>\n",
       "      <td>Suffix</td>\n",
       "    </tr>\n",
       "    <tr>\n",
       "      <th>4</th>\n",
       "      <td>-ista</td>\n",
       "      <td>follower</td>\n",
       "      <td>-ist</td>\n",
       "      <td>Suffix</td>\n",
       "    </tr>\n",
       "    <tr>\n",
       "      <th>...</th>\n",
       "      <td>...</td>\n",
       "      <td>...</td>\n",
       "      <td>...</td>\n",
       "      <td>...</td>\n",
       "    </tr>\n",
       "    <tr>\n",
       "      <th>8266</th>\n",
       "      <td>zui quan</td>\n",
       "      <td>Drunken Fist</td>\n",
       "      <td>Drunken Fist</td>\n",
       "      <td>noun</td>\n",
       "    </tr>\n",
       "    <tr>\n",
       "      <th>8267</th>\n",
       "      <td>zygoma</td>\n",
       "      <td>cheekbone</td>\n",
       "      <td>cheekbone</td>\n",
       "      <td>noun</td>\n",
       "    </tr>\n",
       "    <tr>\n",
       "      <th>8268</th>\n",
       "      <td>zygomatic bone</td>\n",
       "      <td>cheekbone</td>\n",
       "      <td>cheekbone</td>\n",
       "      <td>noun</td>\n",
       "    </tr>\n",
       "    <tr>\n",
       "      <th>8269</th>\n",
       "      <td>Åland</td>\n",
       "      <td>Åland</td>\n",
       "      <td>Aland</td>\n",
       "      <td>prop</td>\n",
       "    </tr>\n",
       "    <tr>\n",
       "      <th>8270</th>\n",
       "      <td>œcumenic</td>\n",
       "      <td>ecumenical</td>\n",
       "      <td>ecumenical</td>\n",
       "      <td>adjective</td>\n",
       "    </tr>\n",
       "  </tbody>\n",
       "</table>\n",
       "<p>8271 rows × 4 columns</p>\n",
       "</div>"
      ],
      "text/plain": [
       "         word_origin          sens           see        pos\n",
       "0                -'s            -s            -s     Suffix\n",
       "1              -form        shaped        shaped     Suffix\n",
       "2               -in'          -ing          -ing     Suffix\n",
       "3               -ise          -ize          -ize     Suffix\n",
       "4              -ista      follower          -ist     Suffix\n",
       "...              ...           ...           ...        ...\n",
       "8266        zui quan  Drunken Fist  Drunken Fist       noun\n",
       "8267          zygoma     cheekbone     cheekbone       noun\n",
       "8268  zygomatic bone     cheekbone     cheekbone       noun\n",
       "8269           Åland         Åland         Aland       prop\n",
       "8270        œcumenic    ecumenical    ecumenical  adjective\n",
       "\n",
       "[8271 rows x 4 columns]"
      ]
     },
     "execution_count": 120,
     "metadata": {
      "tags": []
     },
     "output_type": "execute_result"
    }
   ],
   "source": [
    "df1  = df1.rename(columns={\"word\": \"word_origin\"})\n",
    "df1"
   ]
  },
  {
   "cell_type": "code",
   "execution_count": 114,
   "metadata": {
    "colab": {
     "base_uri": "https://localhost:8080/"
    },
    "id": "Lx42uPmkTcD0",
    "outputId": "acb493f8-1e57-4f73-b130-4dad40cdfaad"
   },
   "outputs": [
    {
     "name": "stderr",
     "output_type": "stream",
     "text": [
      "b'Skipping line 41734: expected 4 fields, saw 5\\nSkipping line 41735: expected 4 fields, saw 5\\nSkipping line 77995: expected 4 fields, saw 5\\nSkipping line 77996: expected 4 fields, saw 5\\n'\n"
     ]
    }
   ],
   "source": [
    "all.insert(0,'word#sens#trans#pos')\n",
    "text_all = '\\n'.join(all)\n",
    "ALL_DATA = StringIO(text_all)\n",
    "df2 = pd.read_csv(ALL_DATA, error_bad_lines=False,delimiter='#')"
   ]
  },
  {
   "cell_type": "code",
   "execution_count": 115,
   "metadata": {
    "colab": {
     "base_uri": "https://localhost:8080/",
     "height": 419
    },
    "id": "dhGfB4wzvL_V",
    "outputId": "bc16bb81-c74f-439f-9c04-a3f897b47eb0"
   },
   "outputs": [
    {
     "data": {
      "text/html": [
       "<div>\n",
       "<style scoped>\n",
       "    .dataframe tbody tr th:only-of-type {\n",
       "        vertical-align: middle;\n",
       "    }\n",
       "\n",
       "    .dataframe tbody tr th {\n",
       "        vertical-align: top;\n",
       "    }\n",
       "\n",
       "    .dataframe thead th {\n",
       "        text-align: right;\n",
       "    }\n",
       "</style>\n",
       "<table border=\"1\" class=\"dataframe\">\n",
       "  <thead>\n",
       "    <tr style=\"text-align: right;\">\n",
       "      <th></th>\n",
       "      <th>word</th>\n",
       "      <th>sens</th>\n",
       "      <th>trans</th>\n",
       "      <th>pos</th>\n",
       "    </tr>\n",
       "  </thead>\n",
       "  <tbody>\n",
       "    <tr>\n",
       "      <th>0</th>\n",
       "      <td>a-</td>\n",
       "      <td>not, without, opposite of</td>\n",
       "      <td>a-</td>\n",
       "      <td>Prefix</td>\n",
       "    </tr>\n",
       "    <tr>\n",
       "      <th>1</th>\n",
       "      <td>A</td>\n",
       "      <td>playing card</td>\n",
       "      <td>A</td>\n",
       "      <td>noun</td>\n",
       "    </tr>\n",
       "    <tr>\n",
       "      <th>2</th>\n",
       "      <td>AA</td>\n",
       "      <td>Alcoholics Anonymous</td>\n",
       "      <td>AA</td>\n",
       "      <td>prop</td>\n",
       "    </tr>\n",
       "    <tr>\n",
       "      <th>3</th>\n",
       "      <td>Aachen</td>\n",
       "      <td>city in North Rhine-Westphalia</td>\n",
       "      <td>Aix-la-Chapelle</td>\n",
       "      <td>prop</td>\n",
       "    </tr>\n",
       "    <tr>\n",
       "      <th>4</th>\n",
       "      <td>Aalenian</td>\n",
       "      <td>subdivision of the Middle Jurassic epoch</td>\n",
       "      <td>Aalénien</td>\n",
       "      <td>prop</td>\n",
       "    </tr>\n",
       "    <tr>\n",
       "      <th>...</th>\n",
       "      <td>...</td>\n",
       "      <td>...</td>\n",
       "      <td>...</td>\n",
       "      <td>...</td>\n",
       "    </tr>\n",
       "    <tr>\n",
       "      <th>100443</th>\n",
       "      <td>-'s</td>\n",
       "      <td>the house/place/establishment of</td>\n",
       "      <td>chez</td>\n",
       "      <td>particle</td>\n",
       "    </tr>\n",
       "    <tr>\n",
       "      <th>100444</th>\n",
       "      <td>'sblood</td>\n",
       "      <td>exclamation indicating surprise or emphasis</td>\n",
       "      <td>palsambleu</td>\n",
       "      <td>interj</td>\n",
       "    </tr>\n",
       "    <tr>\n",
       "      <th>100445</th>\n",
       "      <td>'sblood</td>\n",
       "      <td>exclamation indicating surprise or emphasis</td>\n",
       "      <td>parsambleu</td>\n",
       "      <td>interj</td>\n",
       "    </tr>\n",
       "    <tr>\n",
       "      <th>100446</th>\n",
       "      <td>'s-Hertogenbosch</td>\n",
       "      <td>capital city of North Brabant</td>\n",
       "      <td>Bois-le-Duc</td>\n",
       "      <td>prop</td>\n",
       "    </tr>\n",
       "    <tr>\n",
       "      <th>100447</th>\n",
       "      <td>'umra</td>\n",
       "      <td>a lesser pilgrimage</td>\n",
       "      <td>oumra</td>\n",
       "      <td>noun</td>\n",
       "    </tr>\n",
       "  </tbody>\n",
       "</table>\n",
       "<p>100448 rows × 4 columns</p>\n",
       "</div>"
      ],
      "text/plain": [
       "                    word  ...       pos\n",
       "0                     a-  ...    Prefix\n",
       "1                      A  ...      noun\n",
       "2                     AA  ...      prop\n",
       "3                 Aachen  ...      prop\n",
       "4               Aalenian  ...      prop\n",
       "...                  ...  ...       ...\n",
       "100443               -'s  ...  particle\n",
       "100444           'sblood  ...    interj\n",
       "100445           'sblood  ...    interj\n",
       "100446  's-Hertogenbosch  ...      prop\n",
       "100447             'umra  ...      noun\n",
       "\n",
       "[100448 rows x 4 columns]"
      ]
     },
     "execution_count": 115,
     "metadata": {
      "tags": []
     },
     "output_type": "execute_result"
    }
   ],
   "source": [
    "df2"
   ]
  },
  {
   "cell_type": "code",
   "execution_count": 121,
   "metadata": {
    "colab": {
     "base_uri": "https://localhost:8080/",
     "height": 419
    },
    "id": "U0hGJmdfnhiV",
    "outputId": "8f70fafe-da80-4d6f-a6f5-a2c045c34e44"
   },
   "outputs": [
    {
     "data": {
      "text/html": [
       "<div>\n",
       "<style scoped>\n",
       "    .dataframe tbody tr th:only-of-type {\n",
       "        vertical-align: middle;\n",
       "    }\n",
       "\n",
       "    .dataframe tbody tr th {\n",
       "        vertical-align: top;\n",
       "    }\n",
       "\n",
       "    .dataframe thead th {\n",
       "        text-align: right;\n",
       "    }\n",
       "</style>\n",
       "<table border=\"1\" class=\"dataframe\">\n",
       "  <thead>\n",
       "    <tr style=\"text-align: right;\">\n",
       "      <th></th>\n",
       "      <th>word_origin</th>\n",
       "      <th>sens_left</th>\n",
       "      <th>pos_left</th>\n",
       "      <th>sens_right</th>\n",
       "      <th>trans</th>\n",
       "      <th>pos_right</th>\n",
       "    </tr>\n",
       "  </thead>\n",
       "  <tbody>\n",
       "    <tr>\n",
       "      <th>-ing</th>\n",
       "      <td>-in'</td>\n",
       "      <td>-ing</td>\n",
       "      <td>Suffix</td>\n",
       "      <td>to form gerunds</td>\n",
       "      <td>-age</td>\n",
       "      <td>Suffix</td>\n",
       "    </tr>\n",
       "    <tr>\n",
       "      <th>-ing</th>\n",
       "      <td>-in'</td>\n",
       "      <td>-ing</td>\n",
       "      <td>Suffix</td>\n",
       "      <td>act of doing something</td>\n",
       "      <td>-age</td>\n",
       "      <td>Suffix</td>\n",
       "    </tr>\n",
       "    <tr>\n",
       "      <th>-ing</th>\n",
       "      <td>-in'</td>\n",
       "      <td>-ing</td>\n",
       "      <td>Suffix</td>\n",
       "      <td>act of doing something</td>\n",
       "      <td>-tion</td>\n",
       "      <td>Suffix</td>\n",
       "    </tr>\n",
       "    <tr>\n",
       "      <th>-ing</th>\n",
       "      <td>-in'</td>\n",
       "      <td>-ing</td>\n",
       "      <td>Suffix</td>\n",
       "      <td>act of doing something</td>\n",
       "      <td>-ment</td>\n",
       "      <td>Suffix</td>\n",
       "    </tr>\n",
       "    <tr>\n",
       "      <th>-ing</th>\n",
       "      <td>-in'</td>\n",
       "      <td>-ing</td>\n",
       "      <td>Suffix</td>\n",
       "      <td>to form present participles</td>\n",
       "      <td>-ant</td>\n",
       "      <td>Suffix</td>\n",
       "    </tr>\n",
       "    <tr>\n",
       "      <th>...</th>\n",
       "      <td>...</td>\n",
       "      <td>...</td>\n",
       "      <td>...</td>\n",
       "      <td>...</td>\n",
       "      <td>...</td>\n",
       "      <td>...</td>\n",
       "    </tr>\n",
       "    <tr>\n",
       "      <th>zipline</th>\n",
       "      <td>zip-wire</td>\n",
       "      <td>zipline</td>\n",
       "      <td>noun</td>\n",
       "      <td>pulley suspended on a cable</td>\n",
       "      <td>tyrolienne</td>\n",
       "      <td>noun</td>\n",
       "    </tr>\n",
       "    <tr>\n",
       "      <th>zodiac</th>\n",
       "      <td>girdle</td>\n",
       "      <td>zodiac</td>\n",
       "      <td>noun</td>\n",
       "      <td>belt-like region in the sky</td>\n",
       "      <td>zodiaque</td>\n",
       "      <td>noun</td>\n",
       "    </tr>\n",
       "    <tr>\n",
       "      <th>zodiac</th>\n",
       "      <td>girdle</td>\n",
       "      <td>zodiac</td>\n",
       "      <td>noun</td>\n",
       "      <td>twelve signs in astrology</td>\n",
       "      <td>zodiaque</td>\n",
       "      <td>noun</td>\n",
       "    </tr>\n",
       "    <tr>\n",
       "      <th>zoological</th>\n",
       "      <td>zoologic</td>\n",
       "      <td>zoological</td>\n",
       "      <td>adjective</td>\n",
       "      <td>of, or relating to zoology</td>\n",
       "      <td>zoologique</td>\n",
       "      <td>adjective</td>\n",
       "    </tr>\n",
       "    <tr>\n",
       "      <th>zoopathology</th>\n",
       "      <td>zoöpathology</td>\n",
       "      <td>zoopathology</td>\n",
       "      <td>noun</td>\n",
       "      <td>animal pathology</td>\n",
       "      <td>zoopathologie</td>\n",
       "      <td>noun</td>\n",
       "    </tr>\n",
       "  </tbody>\n",
       "</table>\n",
       "<p>21025 rows × 6 columns</p>\n",
       "</div>"
      ],
      "text/plain": [
       "               word_origin     sens_left  ...          trans  pos_right\n",
       "-ing                  -in'          -ing  ...           -age     Suffix\n",
       "-ing                  -in'          -ing  ...           -age     Suffix\n",
       "-ing                  -in'          -ing  ...          -tion     Suffix\n",
       "-ing                  -in'          -ing  ...          -ment     Suffix\n",
       "-ing                  -in'          -ing  ...           -ant     Suffix\n",
       "...                    ...           ...  ...            ...        ...\n",
       "zipline           zip-wire       zipline  ...     tyrolienne       noun\n",
       "zodiac              girdle        zodiac  ...       zodiaque       noun\n",
       "zodiac              girdle        zodiac  ...       zodiaque       noun\n",
       "zoological        zoologic    zoological  ...     zoologique  adjective\n",
       "zoopathology  zoöpathology  zoopathology  ...  zoopathologie       noun\n",
       "\n",
       "[21025 rows x 6 columns]"
      ]
     },
     "execution_count": 121,
     "metadata": {
      "tags": []
     },
     "output_type": "execute_result"
    }
   ],
   "source": [
    "x = df1.set_index('see').join(df2.set_index('word'),lsuffix='_left', rsuffix='_right')\n",
    "x"
   ]
  },
  {
   "cell_type": "code",
   "execution_count": 122,
   "metadata": {
    "colab": {
     "base_uri": "https://localhost:8080/",
     "height": 266
    },
    "id": "b239mrhGtYI0",
    "outputId": "ca86e720-4623-4e51-acaa-d249e2c1b0cc"
   },
   "outputs": [
    {
     "data": {
      "text/html": [
       "<div>\n",
       "<style scoped>\n",
       "    .dataframe tbody tr th:only-of-type {\n",
       "        vertical-align: middle;\n",
       "    }\n",
       "\n",
       "    .dataframe tbody tr th {\n",
       "        vertical-align: top;\n",
       "    }\n",
       "\n",
       "    .dataframe thead th {\n",
       "        text-align: right;\n",
       "    }\n",
       "</style>\n",
       "<table border=\"1\" class=\"dataframe\">\n",
       "  <thead>\n",
       "    <tr style=\"text-align: right;\">\n",
       "      <th></th>\n",
       "      <th>word_origin</th>\n",
       "      <th>sens_left</th>\n",
       "      <th>pos_left</th>\n",
       "      <th>sens_right</th>\n",
       "      <th>trans</th>\n",
       "      <th>pos_right</th>\n",
       "    </tr>\n",
       "  </thead>\n",
       "  <tbody>\n",
       "    <tr>\n",
       "      <th>primer</th>\n",
       "      <td>abecedarium</td>\n",
       "      <td>a book used to teach the alphabet</td>\n",
       "      <td>noun</td>\n",
       "      <td>children's book introducing basic literacy</td>\n",
       "      <td>abécédaire</td>\n",
       "      <td>noun</td>\n",
       "    </tr>\n",
       "    <tr>\n",
       "      <th>primer</th>\n",
       "      <td>abecedarium</td>\n",
       "      <td>a book used to teach the alphabet</td>\n",
       "      <td>noun</td>\n",
       "      <td>introductory textbook</td>\n",
       "      <td>abc</td>\n",
       "      <td>noun</td>\n",
       "    </tr>\n",
       "    <tr>\n",
       "      <th>primer</th>\n",
       "      <td>abecedarium</td>\n",
       "      <td>a book used to teach the alphabet</td>\n",
       "      <td>noun</td>\n",
       "      <td>introductory textbook</td>\n",
       "      <td>abécédaire</td>\n",
       "      <td>noun</td>\n",
       "    </tr>\n",
       "    <tr>\n",
       "      <th>primer</th>\n",
       "      <td>abecedarium</td>\n",
       "      <td>a book used to teach the alphabet</td>\n",
       "      <td>noun</td>\n",
       "      <td>substance used to ignite a fire</td>\n",
       "      <td>amorce</td>\n",
       "      <td>noun</td>\n",
       "    </tr>\n",
       "    <tr>\n",
       "      <th>primer</th>\n",
       "      <td>abecedarium</td>\n",
       "      <td>a book used to teach the alphabet</td>\n",
       "      <td>noun</td>\n",
       "      <td>small charge used to ignite gunpowder or other...</td>\n",
       "      <td>amorce</td>\n",
       "      <td>noun</td>\n",
       "    </tr>\n",
       "    <tr>\n",
       "      <th>primer</th>\n",
       "      <td>abecedarium</td>\n",
       "      <td>a book used to teach the alphabet</td>\n",
       "      <td>noun</td>\n",
       "      <td>layer of priming substance</td>\n",
       "      <td>sous-couche</td>\n",
       "      <td>noun</td>\n",
       "    </tr>\n",
       "    <tr>\n",
       "      <th>primer</th>\n",
       "      <td>abecedarium</td>\n",
       "      <td>a book used to teach the alphabet</td>\n",
       "      <td>noun</td>\n",
       "      <td>biology: molecule required for replication of DNA</td>\n",
       "      <td>amorce</td>\n",
       "      <td>noun</td>\n",
       "    </tr>\n",
       "  </tbody>\n",
       "</table>\n",
       "</div>"
      ],
      "text/plain": [
       "        word_origin                          sens_left  ...        trans pos_right\n",
       "primer  abecedarium  a book used to teach the alphabet  ...   abécédaire      noun\n",
       "primer  abecedarium  a book used to teach the alphabet  ...          abc      noun\n",
       "primer  abecedarium  a book used to teach the alphabet  ...   abécédaire      noun\n",
       "primer  abecedarium  a book used to teach the alphabet  ...       amorce      noun\n",
       "primer  abecedarium  a book used to teach the alphabet  ...       amorce      noun\n",
       "primer  abecedarium  a book used to teach the alphabet  ...  sous-couche      noun\n",
       "primer  abecedarium  a book used to teach the alphabet  ...       amorce      noun\n",
       "\n",
       "[7 rows x 6 columns]"
      ]
     },
     "execution_count": 122,
     "metadata": {
      "tags": []
     },
     "output_type": "execute_result"
    }
   ],
   "source": [
    "x.loc[x['word_origin']=='abecedarium']"
   ]
  },
  {
   "cell_type": "code",
   "execution_count": 124,
   "metadata": {
    "colab": {
     "base_uri": "https://localhost:8080/",
     "height": 419
    },
    "id": "jyLPYqrvGtDg",
    "outputId": "c55fd4d2-b2fc-43f2-8a3d-8b2ee219a87e"
   },
   "outputs": [
    {
     "data": {
      "text/html": [
       "<div>\n",
       "<style scoped>\n",
       "    .dataframe tbody tr th:only-of-type {\n",
       "        vertical-align: middle;\n",
       "    }\n",
       "\n",
       "    .dataframe tbody tr th {\n",
       "        vertical-align: top;\n",
       "    }\n",
       "\n",
       "    .dataframe thead th {\n",
       "        text-align: right;\n",
       "    }\n",
       "</style>\n",
       "<table border=\"1\" class=\"dataframe\">\n",
       "  <thead>\n",
       "    <tr style=\"text-align: right;\">\n",
       "      <th></th>\n",
       "      <th>word</th>\n",
       "      <th>sens</th>\n",
       "      <th>trans</th>\n",
       "      <th>pos</th>\n",
       "    </tr>\n",
       "  </thead>\n",
       "  <tbody>\n",
       "    <tr>\n",
       "      <th>0</th>\n",
       "      <td>-in'</td>\n",
       "      <td>-ing</td>\n",
       "      <td>-age</td>\n",
       "      <td>Suffix</td>\n",
       "    </tr>\n",
       "    <tr>\n",
       "      <th>1</th>\n",
       "      <td>-in'</td>\n",
       "      <td>-ing</td>\n",
       "      <td>-tion</td>\n",
       "      <td>Suffix</td>\n",
       "    </tr>\n",
       "    <tr>\n",
       "      <th>2</th>\n",
       "      <td>-in'</td>\n",
       "      <td>-ing</td>\n",
       "      <td>-ment</td>\n",
       "      <td>Suffix</td>\n",
       "    </tr>\n",
       "    <tr>\n",
       "      <th>3</th>\n",
       "      <td>-in'</td>\n",
       "      <td>-ing</td>\n",
       "      <td>-ant</td>\n",
       "      <td>Suffix</td>\n",
       "    </tr>\n",
       "    <tr>\n",
       "      <th>4</th>\n",
       "      <td>-ista</td>\n",
       "      <td>follower</td>\n",
       "      <td>-iste</td>\n",
       "      <td>Suffix</td>\n",
       "    </tr>\n",
       "    <tr>\n",
       "      <th>...</th>\n",
       "      <td>...</td>\n",
       "      <td>...</td>\n",
       "      <td>...</td>\n",
       "      <td>...</td>\n",
       "    </tr>\n",
       "    <tr>\n",
       "      <th>18261</th>\n",
       "      <td>zipper</td>\n",
       "      <td>zip fastener</td>\n",
       "      <td>tirette</td>\n",
       "      <td>noun</td>\n",
       "    </tr>\n",
       "    <tr>\n",
       "      <th>18262</th>\n",
       "      <td>zip-wire</td>\n",
       "      <td>zipline</td>\n",
       "      <td>tyrolienne</td>\n",
       "      <td>noun</td>\n",
       "    </tr>\n",
       "    <tr>\n",
       "      <th>18263</th>\n",
       "      <td>girdle</td>\n",
       "      <td>zodiac</td>\n",
       "      <td>zodiaque</td>\n",
       "      <td>noun</td>\n",
       "    </tr>\n",
       "    <tr>\n",
       "      <th>18264</th>\n",
       "      <td>zoologic</td>\n",
       "      <td>zoological</td>\n",
       "      <td>zoologique</td>\n",
       "      <td>adjective</td>\n",
       "    </tr>\n",
       "    <tr>\n",
       "      <th>18265</th>\n",
       "      <td>zoöpathology</td>\n",
       "      <td>zoopathology</td>\n",
       "      <td>zoopathologie</td>\n",
       "      <td>noun</td>\n",
       "    </tr>\n",
       "  </tbody>\n",
       "</table>\n",
       "<p>18266 rows × 4 columns</p>\n",
       "</div>"
      ],
      "text/plain": [
       "               word          sens          trans        pos\n",
       "0              -in'          -ing           -age     Suffix\n",
       "1              -in'          -ing          -tion     Suffix\n",
       "2              -in'          -ing          -ment     Suffix\n",
       "3              -in'          -ing           -ant     Suffix\n",
       "4             -ista      follower          -iste     Suffix\n",
       "...             ...           ...            ...        ...\n",
       "18261        zipper  zip fastener        tirette       noun\n",
       "18262      zip-wire       zipline     tyrolienne       noun\n",
       "18263        girdle        zodiac       zodiaque       noun\n",
       "18264      zoologic    zoological     zoologique  adjective\n",
       "18265  zoöpathology  zoopathology  zoopathologie       noun\n",
       "\n",
       "[18266 rows x 4 columns]"
      ]
     },
     "execution_count": 124,
     "metadata": {
      "tags": []
     },
     "output_type": "execute_result"
    }
   ],
   "source": [
    "df_check = x.reset_index()[['word_origin','sens_left','trans','pos_left']].rename(columns={\"word_origin\": \"word\",\"sens_left\": \"sens\",\"pos_left\": \"pos\"})\n",
    "df_check = df_check.drop_duplicates().reset_index().drop(columns='index')\n",
    "df_check"
   ]
  },
  {
   "cell_type": "code",
   "execution_count": 127,
   "metadata": {
    "id": "27hWVbrAI9FS"
   },
   "outputs": [],
   "source": [
    "df_dic = df2.append(df_check, ignore_index=True).drop_duplicates(ignore_index=True)"
   ]
  },
  {
   "cell_type": "code",
   "execution_count": 136,
   "metadata": {
    "id": "IVhcZb_nKR53"
   },
   "outputs": [],
   "source": [
    "df_dic.to_csv('EN-FR-Matthias_Buchmeier_Dic.csv', sep='#',index=False)"
   ]
  }
 ],
 "metadata": {
  "colab": {
   "name": "parser_wiktionary.ipynb",
   "provenance": []
  },
  "kernelspec": {
   "display_name": "Python 3",
   "language": "python",
   "name": "python3"
  },
  "language_info": {
   "codemirror_mode": {
    "name": "ipython",
    "version": 3
   },
   "file_extension": ".py",
   "mimetype": "text/x-python",
   "name": "python",
   "nbconvert_exporter": "python",
   "pygments_lexer": "ipython3",
   "version": "3.8.8"
  }
 },
 "nbformat": 4,
 "nbformat_minor": 1
}
