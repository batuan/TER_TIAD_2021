{
 "cells": [
  {
   "cell_type": "code",
   "execution_count": 1,
   "metadata": {},
   "outputs": [],
   "source": [
    "import os\n",
    "list_dir = os.listdir('../TransSets_ApertiumRDFv2_1_CSV/')\n",
    "list_dir = [a for a in list_dir if a.endswith('csv')]"
   ]
  },
  {
   "cell_type": "code",
   "execution_count": 2,
   "metadata": {},
   "outputs": [],
   "source": [
    "nodes = []\n",
    "edges = []\n",
    "for path in list_dir:\n",
    "    edge = path.split('Set')[1].split('.')[0].split('-')\n",
    "    edges.append(edge)\n",
    "    if(edge[0] not in nodes):\n",
    "        nodes.append(edge[0])\n",
    "    if(edge[1] not in nodes):\n",
    "        nodes.append(edge[1])"
   ]
  },
  {
   "cell_type": "code",
   "execution_count": 3,
   "metadata": {},
   "outputs": [],
   "source": [
    "import networkx as nx\n",
    "import matplotlib.pyplot as plt\n",
    "graph = nx.Graph()"
   ]
  },
  {
   "cell_type": "code",
   "execution_count": 4,
   "metadata": {},
   "outputs": [],
   "source": [
    "for node  in nodes:\n",
    "    graph.add_node(node)\n",
    "graph.add_edges_from(edges)"
   ]
  },
  {
   "cell_type": "code",
   "execution_count": 37,
   "metadata": {},
   "outputs": [
    {
     "name": "stdout",
     "output_type": "stream",
     "text": [
      "[('EN', 'ES'), ('ES', 'FR')]\n",
      "[('EN', 'ES'), ('ES', 'EO'), ('EO', 'FR')]\n",
      "[('EN', 'ES'), ('ES', 'EO'), ('EO', 'CA'), ('CA', 'FR')]\n",
      "[('EN', 'ES'), ('ES', 'EO'), ('EO', 'CA'), ('CA', 'OC'), ('OC', 'FR')]\n",
      "[('EN', 'ES'), ('ES', 'CA'), ('CA', 'FR')]\n",
      "[('EN', 'ES'), ('ES', 'CA'), ('CA', 'OC'), ('OC', 'FR')]\n",
      "[('EN', 'ES'), ('ES', 'CA'), ('CA', 'EO'), ('EO', 'FR')]\n",
      "[('EN', 'ES'), ('ES', 'AN'), ('AN', 'CA'), ('CA', 'FR')]\n",
      "[('EN', 'ES'), ('ES', 'AN'), ('AN', 'CA'), ('CA', 'OC'), ('OC', 'FR')]\n",
      "[('EN', 'ES'), ('ES', 'AN'), ('AN', 'CA'), ('CA', 'EO'), ('EO', 'FR')]\n",
      "[('EN', 'ES'), ('ES', 'OC'), ('OC', 'FR')]\n",
      "[('EN', 'ES'), ('ES', 'OC'), ('OC', 'CA'), ('CA', 'FR')]\n",
      "[('EN', 'ES'), ('ES', 'OC'), ('OC', 'CA'), ('CA', 'EO'), ('EO', 'FR')]\n",
      "[('EN', 'ES'), ('ES', 'PT'), ('PT', 'CA'), ('CA', 'FR')]\n",
      "[('EN', 'ES'), ('ES', 'PT'), ('PT', 'CA'), ('CA', 'OC'), ('OC', 'FR')]\n",
      "[('EN', 'ES'), ('ES', 'PT'), ('PT', 'CA'), ('CA', 'EO'), ('EO', 'FR')]\n",
      "[('EN', 'ES'), ('ES', 'IT'), ('IT', 'CA'), ('CA', 'FR')]\n",
      "[('EN', 'ES'), ('ES', 'IT'), ('IT', 'CA'), ('CA', 'OC'), ('OC', 'FR')]\n",
      "[('EN', 'ES'), ('ES', 'IT'), ('IT', 'CA'), ('CA', 'EO'), ('EO', 'FR')]\n",
      "[('EN', 'ES'), ('ES', 'IT'), ('IT', 'SC'), ('SC', 'CA'), ('CA', 'FR')]\n",
      "[('EN', 'ES'), ('ES', 'IT'), ('IT', 'SC'), ('SC', 'CA'), ('CA', 'OC'), ('OC', 'FR')]\n",
      "[('EN', 'ES'), ('ES', 'IT'), ('IT', 'SC'), ('SC', 'CA'), ('CA', 'EO'), ('EO', 'FR')]\n",
      "[('EN', 'ES'), ('ES', 'GL'), ('GL', 'PT'), ('PT', 'CA'), ('CA', 'FR')]\n",
      "[('EN', 'ES'), ('ES', 'GL'), ('GL', 'PT'), ('PT', 'CA'), ('CA', 'OC'), ('OC', 'FR')]\n",
      "[('EN', 'ES'), ('ES', 'GL'), ('GL', 'PT'), ('PT', 'CA'), ('CA', 'EO'), ('EO', 'FR')]\n",
      "[('EN', 'ES'), ('ES', 'RO'), ('RO', 'CA'), ('CA', 'FR')]\n",
      "[('EN', 'ES'), ('ES', 'RO'), ('RO', 'CA'), ('CA', 'OC'), ('OC', 'FR')]\n",
      "[('EN', 'ES'), ('ES', 'RO'), ('RO', 'CA'), ('CA', 'EO'), ('EO', 'FR')]\n",
      "[('EN', 'GL'), ('GL', 'PT'), ('PT', 'CA'), ('CA', 'IT'), ('IT', 'ES'), ('ES', 'FR')]\n",
      "[('EN', 'GL'), ('GL', 'PT'), ('PT', 'CA'), ('CA', 'IT'), ('IT', 'ES'), ('ES', 'EO'), ('EO', 'FR')]\n",
      "[('EN', 'GL'), ('GL', 'PT'), ('PT', 'CA'), ('CA', 'IT'), ('IT', 'ES'), ('ES', 'OC'), ('OC', 'FR')]\n",
      "[('EN', 'GL'), ('GL', 'PT'), ('PT', 'CA'), ('CA', 'FR')]\n",
      "[('EN', 'GL'), ('GL', 'PT'), ('PT', 'CA'), ('CA', 'RO'), ('RO', 'ES'), ('ES', 'FR')]\n",
      "[('EN', 'GL'), ('GL', 'PT'), ('PT', 'CA'), ('CA', 'RO'), ('RO', 'ES'), ('ES', 'EO'), ('EO', 'FR')]\n",
      "[('EN', 'GL'), ('GL', 'PT'), ('PT', 'CA'), ('CA', 'RO'), ('RO', 'ES'), ('ES', 'OC'), ('OC', 'FR')]\n",
      "[('EN', 'GL'), ('GL', 'PT'), ('PT', 'CA'), ('CA', 'ES'), ('ES', 'FR')]\n",
      "[('EN', 'GL'), ('GL', 'PT'), ('PT', 'CA'), ('CA', 'ES'), ('ES', 'EO'), ('EO', 'FR')]\n",
      "[('EN', 'GL'), ('GL', 'PT'), ('PT', 'CA'), ('CA', 'ES'), ('ES', 'OC'), ('OC', 'FR')]\n",
      "[('EN', 'GL'), ('GL', 'PT'), ('PT', 'CA'), ('CA', 'OC'), ('OC', 'FR')]\n",
      "[('EN', 'GL'), ('GL', 'PT'), ('PT', 'CA'), ('CA', 'OC'), ('OC', 'ES'), ('ES', 'FR')]\n",
      "[('EN', 'GL'), ('GL', 'PT'), ('PT', 'CA'), ('CA', 'OC'), ('OC', 'ES'), ('ES', 'EO'), ('EO', 'FR')]\n",
      "[('EN', 'GL'), ('GL', 'PT'), ('PT', 'CA'), ('CA', 'AN'), ('AN', 'ES'), ('ES', 'FR')]\n",
      "[('EN', 'GL'), ('GL', 'PT'), ('PT', 'CA'), ('CA', 'AN'), ('AN', 'ES'), ('ES', 'EO'), ('EO', 'FR')]\n",
      "[('EN', 'GL'), ('GL', 'PT'), ('PT', 'CA'), ('CA', 'AN'), ('AN', 'ES'), ('ES', 'OC'), ('OC', 'FR')]\n",
      "[('EN', 'GL'), ('GL', 'PT'), ('PT', 'CA'), ('CA', 'SC'), ('SC', 'IT'), ('IT', 'ES'), ('ES', 'FR')]\n",
      "[('EN', 'GL'), ('GL', 'PT'), ('PT', 'CA'), ('CA', 'SC'), ('SC', 'IT'), ('IT', 'ES'), ('ES', 'EO'), ('EO', 'FR')]\n",
      "[('EN', 'GL'), ('GL', 'PT'), ('PT', 'CA'), ('CA', 'SC'), ('SC', 'IT'), ('IT', 'ES'), ('ES', 'OC'), ('OC', 'FR')]\n",
      "[('EN', 'GL'), ('GL', 'PT'), ('PT', 'CA'), ('CA', 'EO'), ('EO', 'FR')]\n",
      "[('EN', 'GL'), ('GL', 'PT'), ('PT', 'CA'), ('CA', 'EO'), ('EO', 'ES'), ('ES', 'FR')]\n",
      "[('EN', 'GL'), ('GL', 'PT'), ('PT', 'CA'), ('CA', 'EO'), ('EO', 'ES'), ('ES', 'OC'), ('OC', 'FR')]\n",
      "[('EN', 'GL'), ('GL', 'PT'), ('PT', 'ES'), ('ES', 'FR')]\n",
      "[('EN', 'GL'), ('GL', 'PT'), ('PT', 'ES'), ('ES', 'EO'), ('EO', 'FR')]\n",
      "[('EN', 'GL'), ('GL', 'PT'), ('PT', 'ES'), ('ES', 'EO'), ('EO', 'CA'), ('CA', 'FR')]\n",
      "[('EN', 'GL'), ('GL', 'PT'), ('PT', 'ES'), ('ES', 'EO'), ('EO', 'CA'), ('CA', 'OC'), ('OC', 'FR')]\n",
      "[('EN', 'GL'), ('GL', 'PT'), ('PT', 'ES'), ('ES', 'CA'), ('CA', 'FR')]\n",
      "[('EN', 'GL'), ('GL', 'PT'), ('PT', 'ES'), ('ES', 'CA'), ('CA', 'OC'), ('OC', 'FR')]\n",
      "[('EN', 'GL'), ('GL', 'PT'), ('PT', 'ES'), ('ES', 'CA'), ('CA', 'EO'), ('EO', 'FR')]\n",
      "[('EN', 'GL'), ('GL', 'PT'), ('PT', 'ES'), ('ES', 'AN'), ('AN', 'CA'), ('CA', 'FR')]\n",
      "[('EN', 'GL'), ('GL', 'PT'), ('PT', 'ES'), ('ES', 'AN'), ('AN', 'CA'), ('CA', 'OC'), ('OC', 'FR')]\n",
      "[('EN', 'GL'), ('GL', 'PT'), ('PT', 'ES'), ('ES', 'AN'), ('AN', 'CA'), ('CA', 'EO'), ('EO', 'FR')]\n",
      "[('EN', 'GL'), ('GL', 'PT'), ('PT', 'ES'), ('ES', 'OC'), ('OC', 'FR')]\n",
      "[('EN', 'GL'), ('GL', 'PT'), ('PT', 'ES'), ('ES', 'OC'), ('OC', 'CA'), ('CA', 'FR')]\n",
      "[('EN', 'GL'), ('GL', 'PT'), ('PT', 'ES'), ('ES', 'OC'), ('OC', 'CA'), ('CA', 'EO'), ('EO', 'FR')]\n",
      "[('EN', 'GL'), ('GL', 'PT'), ('PT', 'ES'), ('ES', 'IT'), ('IT', 'CA'), ('CA', 'FR')]\n",
      "[('EN', 'GL'), ('GL', 'PT'), ('PT', 'ES'), ('ES', 'IT'), ('IT', 'CA'), ('CA', 'OC'), ('OC', 'FR')]\n",
      "[('EN', 'GL'), ('GL', 'PT'), ('PT', 'ES'), ('ES', 'IT'), ('IT', 'CA'), ('CA', 'EO'), ('EO', 'FR')]\n",
      "[('EN', 'GL'), ('GL', 'PT'), ('PT', 'ES'), ('ES', 'IT'), ('IT', 'SC'), ('SC', 'CA'), ('CA', 'FR')]\n",
      "[('EN', 'GL'), ('GL', 'PT'), ('PT', 'ES'), ('ES', 'IT'), ('IT', 'SC'), ('SC', 'CA'), ('CA', 'OC'), ('OC', 'FR')]\n",
      "[('EN', 'GL'), ('GL', 'PT'), ('PT', 'ES'), ('ES', 'IT'), ('IT', 'SC'), ('SC', 'CA'), ('CA', 'EO'), ('EO', 'FR')]\n",
      "[('EN', 'GL'), ('GL', 'PT'), ('PT', 'ES'), ('ES', 'RO'), ('RO', 'CA'), ('CA', 'FR')]\n",
      "[('EN', 'GL'), ('GL', 'PT'), ('PT', 'ES'), ('ES', 'RO'), ('RO', 'CA'), ('CA', 'OC'), ('OC', 'FR')]\n",
      "[('EN', 'GL'), ('GL', 'PT'), ('PT', 'ES'), ('ES', 'RO'), ('RO', 'CA'), ('CA', 'EO'), ('EO', 'FR')]\n",
      "[('EN', 'GL'), ('GL', 'ES'), ('ES', 'FR')]\n",
      "[('EN', 'GL'), ('GL', 'ES'), ('ES', 'EO'), ('EO', 'FR')]\n",
      "[('EN', 'GL'), ('GL', 'ES'), ('ES', 'EO'), ('EO', 'CA'), ('CA', 'FR')]\n",
      "[('EN', 'GL'), ('GL', 'ES'), ('ES', 'EO'), ('EO', 'CA'), ('CA', 'OC'), ('OC', 'FR')]\n",
      "[('EN', 'GL'), ('GL', 'ES'), ('ES', 'CA'), ('CA', 'FR')]\n",
      "[('EN', 'GL'), ('GL', 'ES'), ('ES', 'CA'), ('CA', 'OC'), ('OC', 'FR')]\n",
      "[('EN', 'GL'), ('GL', 'ES'), ('ES', 'CA'), ('CA', 'EO'), ('EO', 'FR')]\n",
      "[('EN', 'GL'), ('GL', 'ES'), ('ES', 'AN'), ('AN', 'CA'), ('CA', 'FR')]\n",
      "[('EN', 'GL'), ('GL', 'ES'), ('ES', 'AN'), ('AN', 'CA'), ('CA', 'OC'), ('OC', 'FR')]\n",
      "[('EN', 'GL'), ('GL', 'ES'), ('ES', 'AN'), ('AN', 'CA'), ('CA', 'EO'), ('EO', 'FR')]\n",
      "[('EN', 'GL'), ('GL', 'ES'), ('ES', 'OC'), ('OC', 'FR')]\n",
      "[('EN', 'GL'), ('GL', 'ES'), ('ES', 'OC'), ('OC', 'CA'), ('CA', 'FR')]\n",
      "[('EN', 'GL'), ('GL', 'ES'), ('ES', 'OC'), ('OC', 'CA'), ('CA', 'EO'), ('EO', 'FR')]\n",
      "[('EN', 'GL'), ('GL', 'ES'), ('ES', 'PT'), ('PT', 'CA'), ('CA', 'FR')]\n",
      "[('EN', 'GL'), ('GL', 'ES'), ('ES', 'PT'), ('PT', 'CA'), ('CA', 'OC'), ('OC', 'FR')]\n",
      "[('EN', 'GL'), ('GL', 'ES'), ('ES', 'PT'), ('PT', 'CA'), ('CA', 'EO'), ('EO', 'FR')]\n",
      "[('EN', 'GL'), ('GL', 'ES'), ('ES', 'IT'), ('IT', 'CA'), ('CA', 'FR')]\n",
      "[('EN', 'GL'), ('GL', 'ES'), ('ES', 'IT'), ('IT', 'CA'), ('CA', 'OC'), ('OC', 'FR')]\n",
      "[('EN', 'GL'), ('GL', 'ES'), ('ES', 'IT'), ('IT', 'CA'), ('CA', 'EO'), ('EO', 'FR')]\n",
      "[('EN', 'GL'), ('GL', 'ES'), ('ES', 'IT'), ('IT', 'SC'), ('SC', 'CA'), ('CA', 'FR')]\n",
      "[('EN', 'GL'), ('GL', 'ES'), ('ES', 'IT'), ('IT', 'SC'), ('SC', 'CA'), ('CA', 'OC'), ('OC', 'FR')]\n",
      "[('EN', 'GL'), ('GL', 'ES'), ('ES', 'IT'), ('IT', 'SC'), ('SC', 'CA'), ('CA', 'EO'), ('EO', 'FR')]\n",
      "[('EN', 'GL'), ('GL', 'ES'), ('ES', 'RO'), ('RO', 'CA'), ('CA', 'FR')]\n",
      "[('EN', 'GL'), ('GL', 'ES'), ('ES', 'RO'), ('RO', 'CA'), ('CA', 'OC'), ('OC', 'FR')]\n",
      "[('EN', 'GL'), ('GL', 'ES'), ('ES', 'RO'), ('RO', 'CA'), ('CA', 'EO'), ('EO', 'FR')]\n",
      "[('EN', 'EO'), ('EO', 'FR')]\n",
      "[('EN', 'EO'), ('EO', 'ES'), ('ES', 'FR')]\n",
      "[('EN', 'EO'), ('EO', 'ES'), ('ES', 'CA'), ('CA', 'FR')]\n",
      "[('EN', 'EO'), ('EO', 'ES'), ('ES', 'CA'), ('CA', 'OC'), ('OC', 'FR')]\n",
      "[('EN', 'EO'), ('EO', 'ES'), ('ES', 'AN'), ('AN', 'CA'), ('CA', 'FR')]\n",
      "[('EN', 'EO'), ('EO', 'ES'), ('ES', 'AN'), ('AN', 'CA'), ('CA', 'OC'), ('OC', 'FR')]\n",
      "[('EN', 'EO'), ('EO', 'ES'), ('ES', 'OC'), ('OC', 'FR')]\n",
      "[('EN', 'EO'), ('EO', 'ES'), ('ES', 'OC'), ('OC', 'CA'), ('CA', 'FR')]\n",
      "[('EN', 'EO'), ('EO', 'ES'), ('ES', 'PT'), ('PT', 'CA'), ('CA', 'FR')]\n",
      "[('EN', 'EO'), ('EO', 'ES'), ('ES', 'PT'), ('PT', 'CA'), ('CA', 'OC'), ('OC', 'FR')]\n",
      "[('EN', 'EO'), ('EO', 'ES'), ('ES', 'IT'), ('IT', 'CA'), ('CA', 'FR')]\n",
      "[('EN', 'EO'), ('EO', 'ES'), ('ES', 'IT'), ('IT', 'CA'), ('CA', 'OC'), ('OC', 'FR')]\n",
      "[('EN', 'EO'), ('EO', 'ES'), ('ES', 'IT'), ('IT', 'SC'), ('SC', 'CA'), ('CA', 'FR')]\n",
      "[('EN', 'EO'), ('EO', 'ES'), ('ES', 'IT'), ('IT', 'SC'), ('SC', 'CA'), ('CA', 'OC'), ('OC', 'FR')]\n",
      "[('EN', 'EO'), ('EO', 'ES'), ('ES', 'GL'), ('GL', 'PT'), ('PT', 'CA'), ('CA', 'FR')]\n",
      "[('EN', 'EO'), ('EO', 'ES'), ('ES', 'GL'), ('GL', 'PT'), ('PT', 'CA'), ('CA', 'OC'), ('OC', 'FR')]\n",
      "[('EN', 'EO'), ('EO', 'ES'), ('ES', 'RO'), ('RO', 'CA'), ('CA', 'FR')]\n",
      "[('EN', 'EO'), ('EO', 'ES'), ('ES', 'RO'), ('RO', 'CA'), ('CA', 'OC'), ('OC', 'FR')]\n",
      "[('EN', 'EO'), ('EO', 'CA'), ('CA', 'IT'), ('IT', 'ES'), ('ES', 'FR')]\n",
      "[('EN', 'EO'), ('EO', 'CA'), ('CA', 'IT'), ('IT', 'ES'), ('ES', 'OC'), ('OC', 'FR')]\n",
      "[('EN', 'EO'), ('EO', 'CA'), ('CA', 'PT'), ('PT', 'GL'), ('GL', 'ES'), ('ES', 'FR')]\n",
      "[('EN', 'EO'), ('EO', 'CA'), ('CA', 'PT'), ('PT', 'GL'), ('GL', 'ES'), ('ES', 'OC'), ('OC', 'FR')]\n",
      "[('EN', 'EO'), ('EO', 'CA'), ('CA', 'PT'), ('PT', 'ES'), ('ES', 'FR')]\n",
      "[('EN', 'EO'), ('EO', 'CA'), ('CA', 'PT'), ('PT', 'ES'), ('ES', 'OC'), ('OC', 'FR')]\n",
      "[('EN', 'EO'), ('EO', 'CA'), ('CA', 'FR')]\n",
      "[('EN', 'EO'), ('EO', 'CA'), ('CA', 'RO'), ('RO', 'ES'), ('ES', 'FR')]\n",
      "[('EN', 'EO'), ('EO', 'CA'), ('CA', 'RO'), ('RO', 'ES'), ('ES', 'OC'), ('OC', 'FR')]\n",
      "[('EN', 'EO'), ('EO', 'CA'), ('CA', 'ES'), ('ES', 'FR')]\n",
      "[('EN', 'EO'), ('EO', 'CA'), ('CA', 'ES'), ('ES', 'OC'), ('OC', 'FR')]\n",
      "[('EN', 'EO'), ('EO', 'CA'), ('CA', 'OC'), ('OC', 'FR')]\n",
      "[('EN', 'EO'), ('EO', 'CA'), ('CA', 'OC'), ('OC', 'ES'), ('ES', 'FR')]\n",
      "[('EN', 'EO'), ('EO', 'CA'), ('CA', 'AN'), ('AN', 'ES'), ('ES', 'FR')]\n",
      "[('EN', 'EO'), ('EO', 'CA'), ('CA', 'AN'), ('AN', 'ES'), ('ES', 'OC'), ('OC', 'FR')]\n",
      "[('EN', 'EO'), ('EO', 'CA'), ('CA', 'SC'), ('SC', 'IT'), ('IT', 'ES'), ('ES', 'FR')]\n",
      "[('EN', 'EO'), ('EO', 'CA'), ('CA', 'SC'), ('SC', 'IT'), ('IT', 'ES'), ('ES', 'OC'), ('OC', 'FR')]\n",
      "[('EN', 'EU'), ('EU', 'ES'), ('ES', 'FR')]\n",
      "[('EN', 'EU'), ('EU', 'ES'), ('ES', 'EO'), ('EO', 'FR')]\n",
      "[('EN', 'EU'), ('EU', 'ES'), ('ES', 'EO'), ('EO', 'CA'), ('CA', 'FR')]\n",
      "[('EN', 'EU'), ('EU', 'ES'), ('ES', 'EO'), ('EO', 'CA'), ('CA', 'OC'), ('OC', 'FR')]\n",
      "[('EN', 'EU'), ('EU', 'ES'), ('ES', 'CA'), ('CA', 'FR')]\n",
      "[('EN', 'EU'), ('EU', 'ES'), ('ES', 'CA'), ('CA', 'OC'), ('OC', 'FR')]\n",
      "[('EN', 'EU'), ('EU', 'ES'), ('ES', 'CA'), ('CA', 'EO'), ('EO', 'FR')]\n",
      "[('EN', 'EU'), ('EU', 'ES'), ('ES', 'AN'), ('AN', 'CA'), ('CA', 'FR')]\n",
      "[('EN', 'EU'), ('EU', 'ES'), ('ES', 'AN'), ('AN', 'CA'), ('CA', 'OC'), ('OC', 'FR')]\n",
      "[('EN', 'EU'), ('EU', 'ES'), ('ES', 'AN'), ('AN', 'CA'), ('CA', 'EO'), ('EO', 'FR')]\n",
      "[('EN', 'EU'), ('EU', 'ES'), ('ES', 'OC'), ('OC', 'FR')]\n",
      "[('EN', 'EU'), ('EU', 'ES'), ('ES', 'OC'), ('OC', 'CA'), ('CA', 'FR')]\n",
      "[('EN', 'EU'), ('EU', 'ES'), ('ES', 'OC'), ('OC', 'CA'), ('CA', 'EO'), ('EO', 'FR')]\n",
      "[('EN', 'EU'), ('EU', 'ES'), ('ES', 'PT'), ('PT', 'CA'), ('CA', 'FR')]\n",
      "[('EN', 'EU'), ('EU', 'ES'), ('ES', 'PT'), ('PT', 'CA'), ('CA', 'OC'), ('OC', 'FR')]\n",
      "[('EN', 'EU'), ('EU', 'ES'), ('ES', 'PT'), ('PT', 'CA'), ('CA', 'EO'), ('EO', 'FR')]\n",
      "[('EN', 'EU'), ('EU', 'ES'), ('ES', 'IT'), ('IT', 'CA'), ('CA', 'FR')]\n",
      "[('EN', 'EU'), ('EU', 'ES'), ('ES', 'IT'), ('IT', 'CA'), ('CA', 'OC'), ('OC', 'FR')]\n",
      "[('EN', 'EU'), ('EU', 'ES'), ('ES', 'IT'), ('IT', 'CA'), ('CA', 'EO'), ('EO', 'FR')]\n",
      "[('EN', 'EU'), ('EU', 'ES'), ('ES', 'IT'), ('IT', 'SC'), ('SC', 'CA'), ('CA', 'FR')]\n",
      "[('EN', 'EU'), ('EU', 'ES'), ('ES', 'IT'), ('IT', 'SC'), ('SC', 'CA'), ('CA', 'OC'), ('OC', 'FR')]\n",
      "[('EN', 'EU'), ('EU', 'ES'), ('ES', 'IT'), ('IT', 'SC'), ('SC', 'CA'), ('CA', 'EO'), ('EO', 'FR')]\n",
      "[('EN', 'EU'), ('EU', 'ES'), ('ES', 'GL'), ('GL', 'PT'), ('PT', 'CA'), ('CA', 'FR')]\n",
      "[('EN', 'EU'), ('EU', 'ES'), ('ES', 'GL'), ('GL', 'PT'), ('PT', 'CA'), ('CA', 'OC'), ('OC', 'FR')]\n",
      "[('EN', 'EU'), ('EU', 'ES'), ('ES', 'GL'), ('GL', 'PT'), ('PT', 'CA'), ('CA', 'EO'), ('EO', 'FR')]\n",
      "[('EN', 'EU'), ('EU', 'ES'), ('ES', 'RO'), ('RO', 'CA'), ('CA', 'FR')]\n",
      "[('EN', 'EU'), ('EU', 'ES'), ('ES', 'RO'), ('RO', 'CA'), ('CA', 'OC'), ('OC', 'FR')]\n",
      "[('EN', 'EU'), ('EU', 'ES'), ('ES', 'RO'), ('RO', 'CA'), ('CA', 'EO'), ('EO', 'FR')]\n",
      "[('EN', 'CA'), ('CA', 'IT'), ('IT', 'ES'), ('ES', 'FR')]\n",
      "[('EN', 'CA'), ('CA', 'IT'), ('IT', 'ES'), ('ES', 'EO'), ('EO', 'FR')]\n",
      "[('EN', 'CA'), ('CA', 'IT'), ('IT', 'ES'), ('ES', 'OC'), ('OC', 'FR')]\n",
      "[('EN', 'CA'), ('CA', 'PT'), ('PT', 'GL'), ('GL', 'ES'), ('ES', 'FR')]\n",
      "[('EN', 'CA'), ('CA', 'PT'), ('PT', 'GL'), ('GL', 'ES'), ('ES', 'EO'), ('EO', 'FR')]\n",
      "[('EN', 'CA'), ('CA', 'PT'), ('PT', 'GL'), ('GL', 'ES'), ('ES', 'OC'), ('OC', 'FR')]\n",
      "[('EN', 'CA'), ('CA', 'PT'), ('PT', 'ES'), ('ES', 'FR')]\n",
      "[('EN', 'CA'), ('CA', 'PT'), ('PT', 'ES'), ('ES', 'EO'), ('EO', 'FR')]\n",
      "[('EN', 'CA'), ('CA', 'PT'), ('PT', 'ES'), ('ES', 'OC'), ('OC', 'FR')]\n",
      "[('EN', 'CA'), ('CA', 'FR')]\n",
      "[('EN', 'CA'), ('CA', 'RO'), ('RO', 'ES'), ('ES', 'FR')]\n",
      "[('EN', 'CA'), ('CA', 'RO'), ('RO', 'ES'), ('ES', 'EO'), ('EO', 'FR')]\n",
      "[('EN', 'CA'), ('CA', 'RO'), ('RO', 'ES'), ('ES', 'OC'), ('OC', 'FR')]\n",
      "[('EN', 'CA'), ('CA', 'ES'), ('ES', 'FR')]\n",
      "[('EN', 'CA'), ('CA', 'ES'), ('ES', 'EO'), ('EO', 'FR')]\n",
      "[('EN', 'CA'), ('CA', 'ES'), ('ES', 'OC'), ('OC', 'FR')]\n",
      "[('EN', 'CA'), ('CA', 'OC'), ('OC', 'FR')]\n",
      "[('EN', 'CA'), ('CA', 'OC'), ('OC', 'ES'), ('ES', 'FR')]\n",
      "[('EN', 'CA'), ('CA', 'OC'), ('OC', 'ES'), ('ES', 'EO'), ('EO', 'FR')]\n",
      "[('EN', 'CA'), ('CA', 'AN'), ('AN', 'ES'), ('ES', 'FR')]\n",
      "[('EN', 'CA'), ('CA', 'AN'), ('AN', 'ES'), ('ES', 'EO'), ('EO', 'FR')]\n",
      "[('EN', 'CA'), ('CA', 'AN'), ('AN', 'ES'), ('ES', 'OC'), ('OC', 'FR')]\n",
      "[('EN', 'CA'), ('CA', 'SC'), ('SC', 'IT'), ('IT', 'ES'), ('ES', 'FR')]\n",
      "[('EN', 'CA'), ('CA', 'SC'), ('SC', 'IT'), ('IT', 'ES'), ('ES', 'EO'), ('EO', 'FR')]\n",
      "[('EN', 'CA'), ('CA', 'SC'), ('SC', 'IT'), ('IT', 'ES'), ('ES', 'OC'), ('OC', 'FR')]\n",
      "[('EN', 'CA'), ('CA', 'EO'), ('EO', 'FR')]\n",
      "[('EN', 'CA'), ('CA', 'EO'), ('EO', 'ES'), ('ES', 'FR')]\n",
      "[('EN', 'CA'), ('CA', 'EO'), ('EO', 'ES'), ('ES', 'OC'), ('OC', 'FR')]\n"
     ]
    }
   ],
   "source": [
    "# graph = graph.to_directed(graph)\n",
    "# list(graph.successors('CRH'))\n",
    "array_node = []\n",
    "for path in nx.all_simple_edge_paths(graph, source='EN', target='FR'):\n",
    "    for x in path:\n",
    "        array_node.append(x)\n",
    "    print(path)\n",
    "# for path in nx.all_simple_edge_paths(graph, source='EN', target='PT'):\n",
    "#     for x in path:\n",
    "#         array_node.append(x)\n",
    "# for path in nx.all_simple_edge_paths(graph, source='FR', target='PT'):\n",
    "#     for x in path:\n",
    "#         array_node.append(x)\n",
    "# list_edges = list(set(array_node))"
   ]
  },
  {
   "cell_type": "code",
   "execution_count": 35,
   "metadata": {},
   "outputs": [
    {
     "name": "stdout",
     "output_type": "stream",
     "text": [
      "188\n",
      "146\n",
      "241\n"
     ]
    }
   ],
   "source": [
    "print(len(list(nx.all_simple_edge_paths(graph, source='EN', target='FR'))))\n",
    "print(len(list(nx.all_simple_edge_paths(graph, source='EN', target='PT'))))\n",
    "print(len(list(nx.all_simple_edge_paths(graph, source='PT', target='FR'))))"
   ]
  },
  {
   "cell_type": "code",
   "execution_count": 23,
   "metadata": {},
   "outputs": [
    {
     "data": {
      "text/plain": [
       "54"
      ]
     },
     "execution_count": 23,
     "metadata": {},
     "output_type": "execute_result"
    }
   ],
   "source": [
    "len(list_edges)"
   ]
  },
  {
   "cell_type": "code",
   "execution_count": 24,
   "metadata": {},
   "outputs": [],
   "source": [
    "# for x in set_node:\n",
    "#     print(x)\n",
    "my_file = []\n",
    "for edge in list_edges:\n",
    "    edge1 = '' + edge[0] + '-' + edge[1]\n",
    "    edge2 = '' + edge[1] + '-' + edge[0]\n",
    "    my_file.append(edge1)\n",
    "    my_file.append(edge2)"
   ]
  },
  {
   "cell_type": "code",
   "execution_count": 25,
   "metadata": {},
   "outputs": [
    {
     "name": "stdout",
     "output_type": "stream",
     "text": [
      "['PT-CA', 'EN-CA', 'EN-EU', 'CA-SC', 'EN-GL', 'EU-ES', 'OC-ES', 'IT-ES', 'ES-AN', 'AN-ES', 'EO-ES', 'EO-CA', 'GL-ES', 'AN-CA', 'ES-EN', 'EO-EN', 'OC-CA', 'ES-RO', 'PT-ES', 'ES-PT', 'FR-OC', 'CA-EO', 'GL-PT', 'CA-EN', 'CA-FR', 'ES-OC', 'ES-EU', 'PT-GL', 'CA-AN', 'CA-ES', 'ES-EO', 'CA-PT', 'ES-CA', 'SC-IT', 'CA-RO', 'EN-ES', 'EN-EO', 'SC-CA', 'FR-EO', 'ES-GL', 'EO-FR', 'CA-IT', 'IT-CA', 'ES-FR', 'IT-SC', 'FR-ES', 'ES-IT', 'RO-ES', 'GL-EN', 'FR-CA', 'CA-OC', 'RO-CA', 'EU-EN', 'OC-FR']\n"
     ]
    }
   ],
   "source": [
    "print(list(set(my_file)))"
   ]
  },
  {
   "cell_type": "code",
   "execution_count": 29,
   "metadata": {},
   "outputs": [
    {
     "data": {
      "text/plain": [
       "['EN', 'PT', 'IT', 'OC', 'FR', 'SC', 'GL', 'AN', 'CA', 'EU', 'EO', 'ES', 'RO']"
      ]
     },
     "execution_count": 29,
     "metadata": {},
     "output_type": "execute_result"
    }
   ],
   "source": [
    "# for x in set_node:\n",
    "#     print(x)\n",
    "my_file = []\n",
    "for edge in list_edges:\n",
    "    my_file.append(edge[0])\n",
    "    my_file.append(edge[1])\n",
    "\n",
    "list(set(my_file))"
   ]
  },
  {
   "cell_type": "code",
   "execution_count": null,
   "metadata": {},
   "outputs": [],
   "source": [
    "# plt.figure(figsize=(15, 15))\n",
    "# pos = nx.spring_layout(graph)\n",
    "# nx.draw_networkx_nodes(graph, pos, cmap=plt.get_cmap('jet'), node_size = 500)\n",
    "# nx.draw_networkx_labels(graph, pos)\n",
    "# nx.draw_networkx_edges(graph, pos, edge_color='r', arrows=True)\n",
    "# plt.show()"
   ]
  },
  {
   "cell_type": "markdown",
   "metadata": {},
   "source": [
    "![graph](https://tiad2021.unizar.es/images/ApertiumRDFv2.0_graph.png)"
   ]
  },
  {
   "cell_type": "code",
   "execution_count": null,
   "metadata": {},
   "outputs": [],
   "source": []
  }
 ],
 "metadata": {
  "kernelspec": {
   "display_name": "Python 3",
   "language": "python",
   "name": "python3"
  },
  "language_info": {
   "codemirror_mode": {
    "name": "ipython",
    "version": 3
   },
   "file_extension": ".py",
   "mimetype": "text/x-python",
   "name": "python",
   "nbconvert_exporter": "python",
   "pygments_lexer": "ipython3",
   "version": "3.8.8"
  }
 },
 "nbformat": 4,
 "nbformat_minor": 2
}
