{
 "cells": [
  {
   "cell_type": "code",
   "execution_count": 1,
   "metadata": {
    "id": "MiMTZgnXWmGw"
   },
   "outputs": [],
   "source": [
    "# import library here\n",
    "%config Completer.use_jedi = False\n",
    "import pandas as pd"
   ]
  },
  {
   "cell_type": "code",
   "execution_count": 40,
   "metadata": {
    "colab": {
     "base_uri": "https://localhost:8080/"
    },
    "id": "MtGEIeUaWv6X",
    "outputId": "ef15e497-a937-4725-a945-26c9ce0962b2"
   },
   "outputs": [
    {
     "name": "stderr",
     "output_type": "stream",
     "text": [
      "b'Skipping line 73: expected 9 fields, saw 10\\nSkipping line 1462: expected 9 fields, saw 10\\nSkipping line 2731: expected 9 fields, saw 11\\nSkipping line 3079: expected 9 fields, saw 10\\nSkipping line 3255: expected 9 fields, saw 11\\nSkipping line 5033: expected 9 fields, saw 10\\nSkipping line 6385: expected 9 fields, saw 11\\nSkipping line 6852: expected 9 fields, saw 10\\nSkipping line 6900: expected 9 fields, saw 10\\nSkipping line 7654: expected 9 fields, saw 11\\nSkipping line 8802: expected 9 fields, saw 10\\nSkipping line 9345: expected 9 fields, saw 10\\nSkipping line 9833: expected 9 fields, saw 10\\nSkipping line 12152: expected 9 fields, saw 11\\nSkipping line 14161: expected 9 fields, saw 11\\nSkipping line 14884: expected 9 fields, saw 10\\nSkipping line 17962: expected 9 fields, saw 10\\nSkipping line 19744: expected 9 fields, saw 11\\nSkipping line 25459: expected 9 fields, saw 11\\nSkipping line 25822: expected 9 fields, saw 10\\nSkipping line 25982: expected 9 fields, saw 11\\nSkipping line 26454: expected 9 fields, saw 10\\nSkipping line 26956: expected 9 fields, saw 11\\n'\n"
     ]
    }
   ],
   "source": [
    "df = pd.read_csv('../TransSets_ApertiumRDFv2_1_CSV/TransSetEN-ES.csv', error_bad_lines=False)"
   ]
  },
  {
   "cell_type": "code",
   "execution_count": 41,
   "metadata": {},
   "outputs": [],
   "source": [
    "a = df.columns\n",
    "df_clone = df.copy()"
   ]
  },
  {
   "cell_type": "code",
   "execution_count": 42,
   "metadata": {
    "colab": {
     "base_uri": "https://localhost:8080/",
     "height": 258
    },
    "id": "SmPvDmBfXfoI",
    "outputId": "56ef0203-66dd-4f1b-d3b7-971867f46257"
   },
   "outputs": [
    {
     "data": {
      "text/html": [
       "<div>\n",
       "<style scoped>\n",
       "    .dataframe tbody tr th:only-of-type {\n",
       "        vertical-align: middle;\n",
       "    }\n",
       "\n",
       "    .dataframe tbody tr th {\n",
       "        vertical-align: top;\n",
       "    }\n",
       "\n",
       "    .dataframe thead th {\n",
       "        text-align: right;\n",
       "    }\n",
       "</style>\n",
       "<table border=\"1\" class=\"dataframe\">\n",
       "  <thead>\n",
       "    <tr style=\"text-align: right;\">\n",
       "      <th></th>\n",
       "      <th>\"written_rep_a\"</th>\n",
       "      <th>\"lex_entry_a\"</th>\n",
       "      <th>\"sense_a\"</th>\n",
       "      <th>\"trans\"</th>\n",
       "      <th>\"sense_b\"</th>\n",
       "      <th>\"lex_entry_b\"</th>\n",
       "      <th>\"written_rep_b\"</th>\n",
       "      <th>\"POS\"</th>\n",
       "      <th>Unnamed: 8</th>\n",
       "    </tr>\n",
       "  </thead>\n",
       "  <tbody>\n",
       "    <tr>\n",
       "      <th>0</th>\n",
       "      <td>\"waiting for\"</td>\n",
       "      <td>\"http://linguistic.</td>\n",
       "      <td>\"http://linguistic.</td>\n",
       "      <td>\"http://linguistic.</td>\n",
       "      <td>\"http://linguistic.</td>\n",
       "      <td>\"http://linguistic.</td>\n",
       "      <td>\"esperando a\"</td>\n",
       "      <td>\"http://www.lexinfo</td>\n",
       "      <td>nan</td>\n",
       "    </tr>\n",
       "    <tr>\n",
       "      <th>1</th>\n",
       "      <td>\"split\"</td>\n",
       "      <td>\"http://linguistic.</td>\n",
       "      <td>\"http://linguistic.</td>\n",
       "      <td>\"http://linguistic.</td>\n",
       "      <td>\"http://linguistic.</td>\n",
       "      <td>\"http://linguistic.</td>\n",
       "      <td>\"partir\"</td>\n",
       "      <td>\"http://www.lexinfo</td>\n",
       "      <td>nan</td>\n",
       "    </tr>\n",
       "    <tr>\n",
       "      <th>2</th>\n",
       "      <td>\"Donostia-San Sebas</td>\n",
       "      <td>\"http://linguistic.</td>\n",
       "      <td>\"http://linguistic.</td>\n",
       "      <td>\"http://linguistic.</td>\n",
       "      <td>\"http://linguistic.</td>\n",
       "      <td>\"http://linguistic.</td>\n",
       "      <td>\"Donostia-San Sebas</td>\n",
       "      <td>\"http://www.lexinfo</td>\n",
       "      <td>nan</td>\n",
       "    </tr>\n",
       "    <tr>\n",
       "      <th>3</th>\n",
       "      <td>\"little\"</td>\n",
       "      <td>\"http://linguistic.</td>\n",
       "      <td>\"http://linguistic.</td>\n",
       "      <td>\"http://linguistic.</td>\n",
       "      <td>\"http://linguistic.</td>\n",
       "      <td>\"http://linguistic.</td>\n",
       "      <td>\"poco\"</td>\n",
       "      <td>\"http://www.lexinfo</td>\n",
       "      <td>nan</td>\n",
       "    </tr>\n",
       "    <tr>\n",
       "      <th>4</th>\n",
       "      <td>\"send back\"</td>\n",
       "      <td>\"http://linguistic.</td>\n",
       "      <td>\"http://linguistic.</td>\n",
       "      <td>\"http://linguistic.</td>\n",
       "      <td>\"http://linguistic.</td>\n",
       "      <td>\"http://linguistic.</td>\n",
       "      <td>\"devolver\"</td>\n",
       "      <td>\"http://www.lexinfo</td>\n",
       "      <td>nan</td>\n",
       "    </tr>\n",
       "  </tbody>\n",
       "</table>\n",
       "</div>"
      ],
      "text/plain": [
       "       \"written_rep_a\"         \"lex_entry_a\"             \"sense_a\"   \\\n",
       "0        \"waiting for\"    \"http://linguistic.   \"http://linguistic.   \n",
       "1              \"split\"    \"http://linguistic.   \"http://linguistic.   \n",
       "2   \"Donostia-San Sebas   \"http://linguistic.   \"http://linguistic.   \n",
       "3             \"little\"    \"http://linguistic.   \"http://linguistic.   \n",
       "4          \"send back\"    \"http://linguistic.   \"http://linguistic.   \n",
       "\n",
       "               \"trans\"             \"sense_b\"         \"lex_entry_b\"   \\\n",
       "0   \"http://linguistic.   \"http://linguistic.   \"http://linguistic.   \n",
       "1   \"http://linguistic.   \"http://linguistic.   \"http://linguistic.   \n",
       "2   \"http://linguistic.   \"http://linguistic.   \"http://linguistic.   \n",
       "3   \"http://linguistic.   \"http://linguistic.   \"http://linguistic.   \n",
       "4   \"http://linguistic.   \"http://linguistic.   \"http://linguistic.   \n",
       "\n",
       "       \"written_rep_b\"                 \"POS\"  Unnamed: 8  \n",
       "0        \"esperando a\"    \"http://www.lexinfo        nan  \n",
       "1             \"partir\"    \"http://www.lexinfo        nan  \n",
       "2   \"Donostia-San Sebas   \"http://www.lexinfo        nan  \n",
       "3               \"poco\"    \"http://www.lexinfo        nan  \n",
       "4           \"devolver\"    \"http://www.lexinfo        nan  "
      ]
     },
     "execution_count": 42,
     "metadata": {},
     "output_type": "execute_result"
    }
   ],
   "source": [
    "for k in a:\n",
    "    df_clone[k] = df_clone[k].apply(lambda x : str(x)[0:20])\n",
    "df_clone.head()"
   ]
  },
  {
   "cell_type": "code",
   "execution_count": 5,
   "metadata": {
    "colab": {
     "base_uri": "https://localhost:8080/"
    },
    "id": "zvPudlD8gWUB",
    "outputId": "6faae56f-abb7-4c48-abfb-768b80133a37"
   },
   "outputs": [
    {
     "data": {
      "text/plain": [
       " \"that\"      23\n",
       " \"this\"      21\n",
       " \"which\"     21\n",
       " \"some\"      21\n",
       " \"what\"      20\n",
       "Name:  \"written_rep_a\" , dtype: int64"
      ]
     },
     "execution_count": 5,
     "metadata": {},
     "output_type": "execute_result"
    }
   ],
   "source": [
    "df[' \"written_rep_a\" '].value_counts().head(5)"
   ]
  },
  {
   "cell_type": "code",
   "execution_count": 22,
   "metadata": {},
   "outputs": [
    {
     "data": {
      "text/plain": [
       "Index([' \"written_rep_a\" ', ' \"lex_entry_a\" ', ' \"sense_a\" ', ' \"trans\" ',\n",
       "       ' \"sense_b\" ', ' \"lex_entry_b\" ', ' \"written_rep_b\" ', ' \"POS\" ',\n",
       "       'Unnamed: 8', 'source', 'target', 'POS'],\n",
       "      dtype='object')"
      ]
     },
     "execution_count": 22,
     "metadata": {},
     "output_type": "execute_result"
    }
   ],
   "source": [
    "df.columns"
   ]
  },
  {
   "cell_type": "code",
   "execution_count": 23,
   "metadata": {
    "colab": {
     "base_uri": "https://localhost:8080/",
     "height": 49
    },
    "id": "DMjR96Pmhyba",
    "outputId": "288b6ed6-f1f8-426c-f996-79cb53f77344"
   },
   "outputs": [
    {
     "data": {
      "text/html": [
       "<div>\n",
       "<style scoped>\n",
       "    .dataframe tbody tr th:only-of-type {\n",
       "        vertical-align: middle;\n",
       "    }\n",
       "\n",
       "    .dataframe tbody tr th {\n",
       "        vertical-align: top;\n",
       "    }\n",
       "\n",
       "    .dataframe thead th {\n",
       "        text-align: right;\n",
       "    }\n",
       "</style>\n",
       "<table border=\"1\" class=\"dataframe\">\n",
       "  <thead>\n",
       "    <tr style=\"text-align: right;\">\n",
       "      <th></th>\n",
       "      <th>\"written_rep_a\"</th>\n",
       "      <th>\"written_rep_b\"</th>\n",
       "    </tr>\n",
       "  </thead>\n",
       "  <tbody>\n",
       "    <tr>\n",
       "      <th>9796</th>\n",
       "      <td>\"know\"</td>\n",
       "      <td>\"saber\"</td>\n",
       "    </tr>\n",
       "    <tr>\n",
       "      <th>26575</th>\n",
       "      <td>\"know\"</td>\n",
       "      <td>\"conocer\"</td>\n",
       "    </tr>\n",
       "  </tbody>\n",
       "</table>\n",
       "</div>"
      ],
      "text/plain": [
       "       \"written_rep_a\"   \"written_rep_b\" \n",
       "9796            \"know\"           \"saber\" \n",
       "26575           \"know\"         \"conocer\" "
      ]
     },
     "execution_count": 23,
     "metadata": {},
     "output_type": "execute_result"
    }
   ],
   "source": [
    "df.loc[df[' \"written_rep_a\" '] == ' \"know\" '][[' \"written_rep_a\" ', ' \"written_rep_b\" ']]"
   ]
  },
  {
   "cell_type": "code",
   "execution_count": 14,
   "metadata": {
    "id": "M5DJJ4gCiJxr"
   },
   "outputs": [],
   "source": [
    "df['source'] = df[' \"written_rep_a\" '].apply(lambda x: x.replace('\"',''))\n",
    "df['source'] = df['source'].apply(lambda x: x.strip())\n",
    "df['target'] = df[' \"written_rep_b\" '].apply(lambda x: x.replace('\"',''))\n",
    "df['target'] = df['target'].apply(lambda x: x.strip())\n",
    "df['POS'] = df[' \"POS\" '].apply(lambda x: x.split('#')[1].split('\"')[0])\n",
    "my_df = df[['source', 'target', 'POS']].copy()"
   ]
  },
  {
   "cell_type": "code",
   "execution_count": 15,
   "metadata": {
    "colab": {
     "base_uri": "https://localhost:8080/",
     "height": 204
    },
    "id": "3zSV6HrZjU7t",
    "outputId": "7accb88a-6b64-4e84-eb61-6c3edb176ccb"
   },
   "outputs": [
    {
     "data": {
      "text/html": [
       "<div>\n",
       "<style scoped>\n",
       "    .dataframe tbody tr th:only-of-type {\n",
       "        vertical-align: middle;\n",
       "    }\n",
       "\n",
       "    .dataframe tbody tr th {\n",
       "        vertical-align: top;\n",
       "    }\n",
       "\n",
       "    .dataframe thead th {\n",
       "        text-align: right;\n",
       "    }\n",
       "</style>\n",
       "<table border=\"1\" class=\"dataframe\">\n",
       "  <thead>\n",
       "    <tr style=\"text-align: right;\">\n",
       "      <th></th>\n",
       "      <th>source</th>\n",
       "      <th>target</th>\n",
       "      <th>POS</th>\n",
       "    </tr>\n",
       "  </thead>\n",
       "  <tbody>\n",
       "    <tr>\n",
       "      <th>0</th>\n",
       "      <td>waiting for</td>\n",
       "      <td>esperando a</td>\n",
       "      <td>preposition</td>\n",
       "    </tr>\n",
       "    <tr>\n",
       "      <th>1</th>\n",
       "      <td>split</td>\n",
       "      <td>partir</td>\n",
       "      <td>verb</td>\n",
       "    </tr>\n",
       "    <tr>\n",
       "      <th>2</th>\n",
       "      <td>Donostia-San Sebastián</td>\n",
       "      <td>Donostia-San Sebastián</td>\n",
       "      <td>properNoun</td>\n",
       "    </tr>\n",
       "    <tr>\n",
       "      <th>3</th>\n",
       "      <td>little</td>\n",
       "      <td>poco</td>\n",
       "      <td>adverb</td>\n",
       "    </tr>\n",
       "    <tr>\n",
       "      <th>4</th>\n",
       "      <td>send back</td>\n",
       "      <td>devolver</td>\n",
       "      <td>verb</td>\n",
       "    </tr>\n",
       "  </tbody>\n",
       "</table>\n",
       "</div>"
      ],
      "text/plain": [
       "                   source                  target          POS\n",
       "0             waiting for             esperando a  preposition\n",
       "1                   split                  partir         verb\n",
       "2  Donostia-San Sebastián  Donostia-San Sebastián   properNoun\n",
       "3                  little                    poco       adverb\n",
       "4               send back                devolver         verb"
      ]
     },
     "execution_count": 15,
     "metadata": {},
     "output_type": "execute_result"
    }
   ],
   "source": [
    "my_df.head(5)"
   ]
  },
  {
   "cell_type": "code",
   "execution_count": 16,
   "metadata": {
    "colab": {
     "base_uri": "https://localhost:8080/"
    },
    "id": "9MDVb0DclNQ3",
    "outputId": "de9dec4c-1657-479e-9d6d-77dc91a3459c"
   },
   "outputs": [
    {
     "name": "stdout",
     "output_type": "stream",
     "text": [
      "86748\n",
      "23427\n"
     ]
    },
    {
     "data": {
      "text/plain": [
       "that     23\n",
       "some     21\n",
       "which    21\n",
       "this     21\n",
       "what     20\n",
       "Name: source, dtype: int64"
      ]
     },
     "execution_count": 16,
     "metadata": {},
     "output_type": "execute_result"
    }
   ],
   "source": [
    "print(my_df.size)\n",
    "print(my_df.source.nunique())\n",
    "my_df['source'].value_counts().head(5)"
   ]
  },
  {
   "cell_type": "code",
   "execution_count": 24,
   "metadata": {
    "colab": {
     "base_uri": "https://localhost:8080/",
     "height": 669
    },
    "id": "ompJBT9UmcFt",
    "outputId": "e74e5ade-0bf4-44de-dbd9-f5e3972d214b"
   },
   "outputs": [
    {
     "data": {
      "text/html": [
       "<div>\n",
       "<style scoped>\n",
       "    .dataframe tbody tr th:only-of-type {\n",
       "        vertical-align: middle;\n",
       "    }\n",
       "\n",
       "    .dataframe tbody tr th {\n",
       "        vertical-align: top;\n",
       "    }\n",
       "\n",
       "    .dataframe thead th {\n",
       "        text-align: right;\n",
       "    }\n",
       "</style>\n",
       "<table border=\"1\" class=\"dataframe\">\n",
       "  <thead>\n",
       "    <tr style=\"text-align: right;\">\n",
       "      <th></th>\n",
       "      <th>source</th>\n",
       "      <th>target</th>\n",
       "      <th>POS</th>\n",
       "    </tr>\n",
       "  </thead>\n",
       "  <tbody>\n",
       "    <tr>\n",
       "      <th>17355</th>\n",
       "      <td>my</td>\n",
       "      <td>mío</td>\n",
       "      <td>adjective</td>\n",
       "    </tr>\n",
       "    <tr>\n",
       "      <th>17356</th>\n",
       "      <td>my</td>\n",
       "      <td>mío</td>\n",
       "      <td>pronoun</td>\n",
       "    </tr>\n",
       "    <tr>\n",
       "      <th>17357</th>\n",
       "      <td>my</td>\n",
       "      <td>mío</td>\n",
       "      <td>possessivePronoun</td>\n",
       "    </tr>\n",
       "    <tr>\n",
       "      <th>17358</th>\n",
       "      <td>my</td>\n",
       "      <td>mío</td>\n",
       "      <td>determiner</td>\n",
       "    </tr>\n",
       "    <tr>\n",
       "      <th>17359</th>\n",
       "      <td>my</td>\n",
       "      <td>mío</td>\n",
       "      <td>possessivePronoun</td>\n",
       "    </tr>\n",
       "    <tr>\n",
       "      <th>17360</th>\n",
       "      <td>my</td>\n",
       "      <td>mío</td>\n",
       "      <td>determiner</td>\n",
       "    </tr>\n",
       "    <tr>\n",
       "      <th>17361</th>\n",
       "      <td>my</td>\n",
       "      <td>mío</td>\n",
       "      <td>adjective</td>\n",
       "    </tr>\n",
       "    <tr>\n",
       "      <th>17362</th>\n",
       "      <td>my</td>\n",
       "      <td>mío</td>\n",
       "      <td>pronoun</td>\n",
       "    </tr>\n",
       "    <tr>\n",
       "      <th>17363</th>\n",
       "      <td>my</td>\n",
       "      <td>mío</td>\n",
       "      <td>possessivePronoun</td>\n",
       "    </tr>\n",
       "    <tr>\n",
       "      <th>17364</th>\n",
       "      <td>my</td>\n",
       "      <td>mío</td>\n",
       "      <td>determiner</td>\n",
       "    </tr>\n",
       "    <tr>\n",
       "      <th>17365</th>\n",
       "      <td>my</td>\n",
       "      <td>mío</td>\n",
       "      <td>possessivePronoun</td>\n",
       "    </tr>\n",
       "    <tr>\n",
       "      <th>17366</th>\n",
       "      <td>my</td>\n",
       "      <td>mío</td>\n",
       "      <td>determiner</td>\n",
       "    </tr>\n",
       "  </tbody>\n",
       "</table>\n",
       "</div>"
      ],
      "text/plain": [
       "      source target                POS\n",
       "17355     my    mío          adjective\n",
       "17356     my    mío            pronoun\n",
       "17357     my    mío  possessivePronoun\n",
       "17358     my    mío         determiner\n",
       "17359     my    mío  possessivePronoun\n",
       "17360     my    mío         determiner\n",
       "17361     my    mío          adjective\n",
       "17362     my    mío            pronoun\n",
       "17363     my    mío  possessivePronoun\n",
       "17364     my    mío         determiner\n",
       "17365     my    mío  possessivePronoun\n",
       "17366     my    mío         determiner"
      ]
     },
     "execution_count": 24,
     "metadata": {},
     "output_type": "execute_result"
    }
   ],
   "source": [
    "my_df.loc[my_df['source'] == 'my']"
   ]
  },
  {
   "cell_type": "code",
   "execution_count": 1,
   "metadata": {},
   "outputs": [],
   "source": [
    "import os\n",
    "files = os.listdir('./TransSets_ApertiumRDFv2_1_CSV')"
   ]
  },
  {
   "cell_type": "code",
   "execution_count": 8,
   "metadata": {},
   "outputs": [
    {
     "data": {
      "text/plain": [
       "'TransSetBR-FR.csv'"
      ]
     },
     "execution_count": 8,
     "metadata": {},
     "output_type": "execute_result"
    }
   ],
   "source": [
    "files[1]"
   ]
  },
  {
   "cell_type": "code",
   "execution_count": 6,
   "metadata": {},
   "outputs": [
    {
     "name": "stdout",
     "output_type": "stream",
     "text": [
      "TransSetAF-NL.csv\n",
      "TransSetBR-FR.csv\n",
      "TransSetEN-ES.csv\n"
     ]
    },
    {
     "name": "stderr",
     "output_type": "stream",
     "text": [
      "b'Skipping line 73: expected 9 fields, saw 10\\nSkipping line 1462: expected 9 fields, saw 10\\nSkipping line 2731: expected 9 fields, saw 11\\nSkipping line 3079: expected 9 fields, saw 10\\nSkipping line 3255: expected 9 fields, saw 11\\nSkipping line 5033: expected 9 fields, saw 10\\nSkipping line 6385: expected 9 fields, saw 11\\nSkipping line 6852: expected 9 fields, saw 10\\nSkipping line 6900: expected 9 fields, saw 10\\nSkipping line 7654: expected 9 fields, saw 11\\nSkipping line 8802: expected 9 fields, saw 10\\nSkipping line 9345: expected 9 fields, saw 10\\nSkipping line 9833: expected 9 fields, saw 10\\nSkipping line 12152: expected 9 fields, saw 11\\nSkipping line 14161: expected 9 fields, saw 11\\nSkipping line 14884: expected 9 fields, saw 10\\nSkipping line 17962: expected 9 fields, saw 10\\nSkipping line 19744: expected 9 fields, saw 11\\nSkipping line 25459: expected 9 fields, saw 11\\nSkipping line 25822: expected 9 fields, saw 10\\nSkipping line 25982: expected 9 fields, saw 11\\nSkipping line 26454: expected 9 fields, saw 10\\nSkipping line 26956: expected 9 fields, saw 11\\n'\n"
     ]
    },
    {
     "name": "stdout",
     "output_type": "stream",
     "text": [
      "TransSetEN-GL.csv\n"
     ]
    },
    {
     "name": "stderr",
     "output_type": "stream",
     "text": [
      "b'Skipping line 2410: expected 9 fields, saw 10\\nSkipping line 2817: expected 9 fields, saw 11\\nSkipping line 3935: expected 9 fields, saw 10\\nSkipping line 5688: expected 9 fields, saw 10\\nSkipping line 7232: expected 9 fields, saw 11\\nSkipping line 8164: expected 9 fields, saw 11\\nSkipping line 11551: expected 9 fields, saw 10\\nSkipping line 11913: expected 9 fields, saw 10\\nSkipping line 13131: expected 9 fields, saw 10\\nSkipping line 14680: expected 9 fields, saw 10\\nSkipping line 15894: expected 9 fields, saw 11\\nSkipping line 18518: expected 9 fields, saw 11\\n'\n"
     ]
    },
    {
     "name": "stdout",
     "output_type": "stream",
     "text": [
      "TransSetMK-EN.csv\n",
      "TransSetEN-KK.csv\n",
      "TransSetPT-GL.csv\n",
      "TransSetCA-IT.csv\n"
     ]
    },
    {
     "name": "stderr",
     "output_type": "stream",
     "text": [
      "b'Skipping line 825: expected 9 fields, saw 11\\n'\n"
     ]
    },
    {
     "name": "stdout",
     "output_type": "stream",
     "text": [
      "TransSetSH-SL.csv\n",
      "TransSetDA-NO.csv\n",
      "TransSetFR-ES.csv\n"
     ]
    },
    {
     "name": "stderr",
     "output_type": "stream",
     "text": [
      "b'Skipping line 9321: expected 9 fields, saw 10\\nSkipping line 19631: expected 9 fields, saw 10\\n'\n"
     ]
    },
    {
     "name": "stdout",
     "output_type": "stream",
     "text": [
      "TransSetNN-NB.csv\n"
     ]
    },
    {
     "name": "stderr",
     "output_type": "stream",
     "text": [
      "b'Skipping line 4328: expected 9 fields, saw 11\\nSkipping line 26199: expected 9 fields, saw 11\\nSkipping line 38804: expected 9 fields, saw 10\\nSkipping line 41728: expected 9 fields, saw 11\\nSkipping line 50925: expected 9 fields, saw 11\\nSkipping line 54039: expected 9 fields, saw 11\\n'\n",
      "b'Skipping line 66324: expected 9 fields, saw 11\\nSkipping line 78629: expected 9 fields, saw 11\\nSkipping line 89932: expected 9 fields, saw 11\\n'\n"
     ]
    },
    {
     "name": "stdout",
     "output_type": "stream",
     "text": [
      "TransSetOC-FR.csv\n",
      "TransSetPT-CA.csv\n",
      "TransSetFR-CA.csv\n"
     ]
    },
    {
     "name": "stderr",
     "output_type": "stream",
     "text": [
      "b'Skipping line 16387: expected 9 fields, saw 10\\n'\n"
     ]
    },
    {
     "name": "stdout",
     "output_type": "stream",
     "text": [
      "TransSetID-ZLM.csv\n",
      "TransSetSV-DA.csv\n",
      "TransSetPL-SZL.csv\n",
      "TransSetEO-EN.csv\n",
      "TransSetEU-EN.csv\n",
      "TransSetSH-MK.csv\n",
      "TransSetEO-FR.csv\n",
      "TransSetEN-CA.csv\n"
     ]
    },
    {
     "name": "stderr",
     "output_type": "stream",
     "text": [
      "b'Skipping line 770: expected 9 fields, saw 10\\nSkipping line 11667: expected 9 fields, saw 10\\nSkipping line 23239: expected 9 fields, saw 11\\nSkipping line 23805: expected 9 fields, saw 10\\nSkipping line 42050: expected 9 fields, saw 10\\nSkipping line 47356: expected 9 fields, saw 10\\nSkipping line 50893: expected 9 fields, saw 10\\n'\n"
     ]
    },
    {
     "name": "stdout",
     "output_type": "stream",
     "text": [
      "TransSetKK-RU.csv\n",
      "TransSetRO-CA.csv\n"
     ]
    },
    {
     "name": "stderr",
     "output_type": "stream",
     "text": [
      "b'Skipping line 5020: expected 9 fields, saw 10\\n'\n"
     ]
    },
    {
     "name": "stdout",
     "output_type": "stream",
     "text": [
      "TransSetEO-ES.csv\n"
     ]
    },
    {
     "name": "stderr",
     "output_type": "stream",
     "text": [
      "b'Skipping line 15022: expected 9 fields, saw 10\\nSkipping line 26944: expected 9 fields, saw 11\\nSkipping line 32831: expected 9 fields, saw 11\\nSkipping line 39843: expected 9 fields, saw 11\\nSkipping line 45521: expected 9 fields, saw 11\\n'\n"
     ]
    },
    {
     "name": "stdout",
     "output_type": "stream",
     "text": [
      "TransSetES-CA.csv\n"
     ]
    },
    {
     "name": "stderr",
     "output_type": "stream",
     "text": [
      "b'Skipping line 5337: expected 9 fields, saw 10\\nSkipping line 10365: expected 9 fields, saw 11\\nSkipping line 18930: expected 9 fields, saw 10\\nSkipping line 38690: expected 9 fields, saw 11\\nSkipping line 42869: expected 9 fields, saw 11\\n'\n"
     ]
    },
    {
     "name": "stdout",
     "output_type": "stream",
     "text": [
      "TransSetMT-AR.csv\n",
      "TransSetRU-UK.csv\n"
     ]
    },
    {
     "name": "stderr",
     "output_type": "stream",
     "text": [
      "b'Skipping line 7851: expected 9 fields, saw 11\\nSkipping line 10169: expected 9 fields, saw 11\\n'\n"
     ]
    },
    {
     "name": "stdout",
     "output_type": "stream",
     "text": [
      "TransSetCRH-TR.csv\n",
      "TransSetOC-CA.csv\n",
      "TransSetBE-RU.csv\n"
     ]
    },
    {
     "name": "stderr",
     "output_type": "stream",
     "text": [
      "b'Skipping line 14347: expected 9 fields, saw 11\\n'\n"
     ]
    },
    {
     "name": "stdout",
     "output_type": "stream",
     "text": [
      "TransSetES-AN.csv\n",
      "TransSetMK-BG.csv\n",
      "TransSetAN-CA.csv\n",
      "TransSetEU-ES.csv\n"
     ]
    },
    {
     "name": "stderr",
     "output_type": "stream",
     "text": [
      "b'Skipping line 3347: expected 9 fields, saw 10\\nSkipping line 4738: expected 9 fields, saw 10\\nSkipping line 4888: expected 9 fields, saw 10\\nSkipping line 5200: expected 9 fields, saw 10\\nSkipping line 7718: expected 9 fields, saw 10\\nSkipping line 8518: expected 9 fields, saw 10\\nSkipping line 8564: expected 9 fields, saw 10\\nSkipping line 8821: expected 9 fields, saw 10\\n'\n"
     ]
    },
    {
     "name": "stdout",
     "output_type": "stream",
     "text": [
      "TransSetOC-ES.csv\n",
      "TransSetIS-SV.csv\n",
      "TransSetSH-EN.csv\n"
     ]
    },
    {
     "name": "stderr",
     "output_type": "stream",
     "text": [
      "b'Skipping line 787: expected 9 fields, saw 10\\n'\n"
     ]
    },
    {
     "name": "stdout",
     "output_type": "stream",
     "text": [
      "TransSetES-PT.csv\n",
      "TransSetCY-EN.csv\n",
      "TransSetCA-SC.csv\n",
      "TransSetSE-NB.csv\n"
     ]
    },
    {
     "name": "stderr",
     "output_type": "stream",
     "text": [
      "b'Skipping line 10752: expected 9 fields, saw 10\\nSkipping line 19728: expected 9 fields, saw 11\\nSkipping line 20513: expected 9 fields, saw 11\\nSkipping line 29516: expected 9 fields, saw 11\\nSkipping line 34405: expected 9 fields, saw 11\\nSkipping line 46768: expected 9 fields, saw 11\\nSkipping line 52857: expected 9 fields, saw 11\\nSkipping line 63143: expected 9 fields, saw 11\\nSkipping line 65127: expected 9 fields, saw 11\\n'\n",
      "b'Skipping line 76032: expected 9 fields, saw 11\\nSkipping line 79175: expected 9 fields, saw 11\\nSkipping line 79541: expected 9 fields, saw 11\\nSkipping line 80072: expected 9 fields, saw 13\\n'\n"
     ]
    },
    {
     "name": "stdout",
     "output_type": "stream",
     "text": [
      "TransSetIS-EN.csv\n"
     ]
    },
    {
     "name": "stderr",
     "output_type": "stream",
     "text": [
      "b'Skipping line 3046: expected 9 fields, saw 10\\nSkipping line 6210: expected 9 fields, saw 10\\nSkipping line 7142: expected 9 fields, saw 10\\nSkipping line 12529: expected 9 fields, saw 10\\nSkipping line 13458: expected 9 fields, saw 10\\nSkipping line 14395: expected 9 fields, saw 10\\nSkipping line 16111: expected 9 fields, saw 10\\n'\n"
     ]
    },
    {
     "name": "stdout",
     "output_type": "stream",
     "text": [
      "TransSetES-IT.csv\n",
      "TransSetKK-TT.csv\n",
      "TransSetEO-CA.csv\n"
     ]
    },
    {
     "name": "stderr",
     "output_type": "stream",
     "text": [
      "b'Skipping line 69: expected 9 fields, saw 11\\nSkipping line 3717: expected 9 fields, saw 11\\nSkipping line 39322: expected 9 fields, saw 11\\n'\n"
     ]
    },
    {
     "name": "stdout",
     "output_type": "stream",
     "text": [
      "TransSetES-GL.csv\n",
      "TransSetSC-IT.csv\n",
      "TransSetES-RO.csv\n"
     ]
    },
    {
     "name": "stderr",
     "output_type": "stream",
     "text": [
      "b'Skipping line 16936: expected 9 fields, saw 10\\n'\n"
     ]
    },
    {
     "name": "stdout",
     "output_type": "stream",
     "text": [
      "TransSetES-AST.csv\n"
     ]
    },
    {
     "name": "stderr",
     "output_type": "stream",
     "text": [
      "b'Skipping line 323: expected 9 fields, saw 10\\nSkipping line 6881: expected 9 fields, saw 11\\nSkipping line 10643: expected 9 fields, saw 10\\nSkipping line 11614: expected 9 fields, saw 11\\nSkipping line 13264: expected 9 fields, saw 10\\nSkipping line 17411: expected 9 fields, saw 10\\nSkipping line 18552: expected 9 fields, saw 10\\nSkipping line 18729: expected 9 fields, saw 11\\nSkipping line 21278: expected 9 fields, saw 11\\nSkipping line 25435: expected 9 fields, saw 11\\nSkipping line 27733: expected 9 fields, saw 10\\nSkipping line 30832: expected 9 fields, saw 11\\nSkipping line 33292: expected 9 fields, saw 11\\nSkipping line 33495: expected 9 fields, saw 10\\nSkipping line 36768: expected 9 fields, saw 10\\n'\n"
     ]
    }
   ],
   "source": [
    "for file in files:\n",
    "    if file == 'README.txt':\n",
    "        continue\n",
    "    print(file)\n",
    "    df = pd.read_csv('./TransSets_ApertiumRDFv2_1_CSV/'+file, error_bad_lines=False)\n",
    "    df['source'] = df[' \"written_rep_a\" '].apply(lambda x: x.replace('\"',''))\n",
    "    df['source'] = df['source'].apply(lambda x: x.strip())\n",
    "    df['target'] = df[' \"written_rep_b\" '].apply(lambda x: x.replace('\"',''))\n",
    "    df['target'] = df['target'].apply(lambda x: x.strip())\n",
    "    df['POS'] = df[' \"POS\" '].apply(lambda x: x.split('#')[1].split('\"')[0])\n",
    "    my_df = df[['source', 'target', 'POS']].copy()\n",
    "    file_name = file.split('.')[0] + '_small.csv'\n",
    "    my_df.to_csv('./Small/'+file_name, index=False)"
   ]
  }
 ],
 "metadata": {
  "colab": {
   "name": "TIAD-2021.ipynb",
   "provenance": []
  },
  "kernelspec": {
   "display_name": "Python 3",
   "language": "python",
   "name": "python3"
  },
  "language_info": {
   "codemirror_mode": {
    "name": "ipython",
    "version": 3
   },
   "file_extension": ".py",
   "mimetype": "text/x-python",
   "name": "python",
   "nbconvert_exporter": "python",
   "pygments_lexer": "ipython3",
   "version": "3.8.8"
  }
 },
 "nbformat": 4,
 "nbformat_minor": 1
}
