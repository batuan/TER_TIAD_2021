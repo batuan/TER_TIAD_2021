{
 "cells": [
  {
   "cell_type": "code",
   "execution_count": 1,
   "metadata": {
    "id": "eUT5aKBB1DDQ"
   },
   "outputs": [],
   "source": [
    "from bs4 import BeautifulSoup\n",
    "import requests"
   ]
  },
  {
   "cell_type": "code",
   "execution_count": 80,
   "metadata": {
    "id": "TVKVzWOW1Mg0"
   },
   "outputs": [],
   "source": [
    "pre = 'https://en.wiktionary.org/wiki/User:Matthias_Buchmeier/pt-en-'\n",
    "list_alphabet = [str(chr(one)) for one in range(97,123)]\n",
    "list_alphabet.insert(len(list_alphabet), '0')"
   ]
  },
  {
   "cell_type": "code",
   "execution_count": 81,
   "metadata": {
    "id": "GvsiwP0fK11a"
   },
   "outputs": [],
   "source": [
    "def find_pos(s):\n",
    "  x = ''\n",
    "  try:   \n",
    "    x = s.split('{')[1].split('}')[0]\n",
    "  except:\n",
    "    x = ''\n",
    "  return x\n",
    "def find_see_after(s):\n",
    "  x = ''\n",
    "  try:   \n",
    "    x = s.split('SEE:')[1].strip()\n",
    "  except:\n",
    "    x = ''\n",
    "  return x\n",
    "def find_sens(s):\n",
    "  x = ''\n",
    "  try:   \n",
    "    x = s.split('(')[1].split(')')[0].strip()\n",
    "  except:\n",
    "    x = ''\n",
    "  return x\n",
    "def to_line_dict(source, sens, see_after, pos):\n",
    "  line = '{}#{}#{}#{}'.format(source,sens, see_after, pos)\n",
    "  return line"
   ]
  },
  {
   "cell_type": "code",
   "execution_count": 82,
   "metadata": {
    "colab": {
     "base_uri": "https://localhost:8080/",
     "height": 35
    },
    "id": "uKPo25g0cM4R",
    "outputId": "bfae3a5a-bb18-4d2f-d6c6-9093167ab5d2"
   },
   "outputs": [
    {
     "data": {
      "text/plain": [
       "'a#b#d#e'"
      ]
     },
     "execution_count": 82,
     "metadata": {},
     "output_type": "execute_result"
    }
   ],
   "source": [
    "to_line_dict('a','b','d','e')"
   ]
  },
  {
   "cell_type": "code",
   "execution_count": 83,
   "metadata": {
    "id": "TDZnD7nYK2fl"
   },
   "outputs": [],
   "source": [
    "dict_pos = {\n",
    "    \"prefix\":\"Prefix\",\n",
    "    \"numeral\":\"numeral\",\n",
    "    \"phraseologicalUnit\":\"phraseologicalUnit\",\n",
    "    \"determiner\":\"determiner\",\n",
    "    \"postposition\":\"postposition\",\n",
    "    \"adj\":\"adjective\",\n",
    "    \"v\":\"verb\",\n",
    "    \"pronoun\":\"Pronoun\",\n",
    "    \"interjection\":\"interjection\",\n",
    "    \"conjunction\":\"conjunction\",\n",
    "    \"n\":\"noun\",\n",
    "    \"pn\":\"pronoun\",\n",
    "    \"suffix\":\"Suffix\",\n",
    "    \"proverb\":\"proverb\",\n",
    "    \"adv\":\"adverb\",\n",
    "    \"article\":\"Article\",\n",
    "    \"symbol\":\"Symbol\",\n",
    "    \"particle\":\"particle\",\n",
    "    \"preposition\":\"preposition\",\n",
    "}"
   ]
  },
  {
   "cell_type": "code",
   "execution_count": 84,
   "metadata": {
    "id": "CLrEl0kO1jFW"
   },
   "outputs": [],
   "source": [
    "find_after = []\n",
    "all = []\n",
    "list_pos = list(dict_pos.keys())\n",
    "for character in list_alphabet:\n",
    "  r = requests.get(pre+character)\n",
    "  soup = BeautifulSoup(r.content)\n",
    "  list_tr = soup.find_all('tr')\n",
    "  for tr_tag in list_tr:\n",
    "    source = ''\n",
    "    pos = ''\n",
    "    sens = ''\n",
    "    targets = []\n",
    "    try:\n",
    "      source = tr_tag.td.a.text\n",
    "      source_sense = tr_tag.td.text\n",
    "      pos = find_pos(source_sense)\n",
    "      sens = find_sens(source_sense)\n",
    "      if pos in list_pos:\n",
    "        pos = dict_pos[pos]\n",
    "      if 'SEE' in source_sense:\n",
    "        see_after = find_see_after(source_sense)\n",
    "        find_after.append(to_line_dict(source,sens,see_after,pos))\n",
    "        continue\n",
    "      len_targets = len(tr_tag.find_all('td')[1].find_all('a'))\n",
    "      for index in range(len_targets):\n",
    "        a_text = tr_tag.find_all('td')[1].find_all('a')[index].text\n",
    "        targets.append(to_line_dict(source,sens,a_text,pos))\n",
    "      for x in targets:\n",
    "        all.append(x)\n",
    "    except:\n",
    "      continue"
   ]
  },
  {
   "cell_type": "code",
   "execution_count": 86,
   "metadata": {
    "colab": {
     "base_uri": "https://localhost:8080/"
    },
    "id": "Ax5CQ7vYA_4F",
    "outputId": "9e92844c-a7cd-42c3-ed5a-8bb95b04f0b2"
   },
   "outputs": [
    {
     "name": "stdout",
     "output_type": "stream",
     "text": [
      "0\n"
     ]
    }
   ],
   "source": [
    "print(len(find_after))\n",
    "list.sort(find_after)\n",
    "# find_after[0]"
   ]
  },
  {
   "cell_type": "code",
   "execution_count": 87,
   "metadata": {
    "colab": {
     "base_uri": "https://localhost:8080/"
    },
    "id": "yHQU5TKdQ3SM",
    "outputId": "e62ab508-78f3-4f34-e646-d566eb432c3f"
   },
   "outputs": [],
   "source": [
    "for i in range(len(find_after)-1):\n",
    "  if find_after[i]==find_after[i+1]:\n",
    "    print(i)\n",
    "    break"
   ]
  },
  {
   "cell_type": "code",
   "execution_count": 41,
   "metadata": {
    "colab": {
     "base_uri": "https://localhost:8080/"
    },
    "id": "VlbPnbh1RJ_Y",
    "outputId": "e61942ce-a092-4e38-aa21-012e72ec2254"
   },
   "outputs": [
    {
     "data": {
      "text/plain": [
       "['mould#mould#mold#noun', 'mould#mould#mold#noun']"
      ]
     },
     "execution_count": 41,
     "metadata": {},
     "output_type": "execute_result"
    }
   ],
   "source": [
    "find_after[4847:4849]"
   ]
  },
  {
   "cell_type": "code",
   "execution_count": 88,
   "metadata": {
    "id": "DJYw3rhSTaHH"
   },
   "outputs": [],
   "source": [
    "import pandas as pd\n",
    "from io import StringIO"
   ]
  },
  {
   "cell_type": "code",
   "execution_count": 89,
   "metadata": {
    "colab": {
     "base_uri": "https://localhost:8080/",
     "height": 334
    },
    "id": "7ZIuumaQUTDQ",
    "outputId": "15bada74-ad88-485b-8aae-9e4c426cc187"
   },
   "outputs": [
    {
     "data": {
      "text/html": [
       "<div>\n",
       "<style scoped>\n",
       "    .dataframe tbody tr th:only-of-type {\n",
       "        vertical-align: middle;\n",
       "    }\n",
       "\n",
       "    .dataframe tbody tr th {\n",
       "        vertical-align: top;\n",
       "    }\n",
       "\n",
       "    .dataframe thead th {\n",
       "        text-align: right;\n",
       "    }\n",
       "</style>\n",
       "<table border=\"1\" class=\"dataframe\">\n",
       "  <thead>\n",
       "    <tr style=\"text-align: right;\">\n",
       "      <th></th>\n",
       "      <th>word</th>\n",
       "      <th>sens</th>\n",
       "      <th>see</th>\n",
       "      <th>pos</th>\n",
       "    </tr>\n",
       "  </thead>\n",
       "  <tbody>\n",
       "  </tbody>\n",
       "</table>\n",
       "</div>"
      ],
      "text/plain": [
       "Empty DataFrame\n",
       "Columns: [word, sens, see, pos]\n",
       "Index: []"
      ]
     },
     "execution_count": 89,
     "metadata": {},
     "output_type": "execute_result"
    }
   ],
   "source": [
    "find_after.insert(0,'word#sens#see#pos')\n",
    "text_find_after = '\\n'.join(find_after)\n",
    "TESTDATA = StringIO(text_find_after)\n",
    "df1 = pd.read_csv(TESTDATA, error_bad_lines=False, delimiter='#')\n",
    "df1.head(8)"
   ]
  },
  {
   "cell_type": "code",
   "execution_count": 90,
   "metadata": {
    "colab": {
     "base_uri": "https://localhost:8080/",
     "height": 419
    },
    "id": "IIaPSgQNEHSS",
    "outputId": "868a1e50-0597-47e3-e560-d04c480d7a91"
   },
   "outputs": [
    {
     "data": {
      "text/html": [
       "<div>\n",
       "<style scoped>\n",
       "    .dataframe tbody tr th:only-of-type {\n",
       "        vertical-align: middle;\n",
       "    }\n",
       "\n",
       "    .dataframe tbody tr th {\n",
       "        vertical-align: top;\n",
       "    }\n",
       "\n",
       "    .dataframe thead th {\n",
       "        text-align: right;\n",
       "    }\n",
       "</style>\n",
       "<table border=\"1\" class=\"dataframe\">\n",
       "  <thead>\n",
       "    <tr style=\"text-align: right;\">\n",
       "      <th></th>\n",
       "      <th>word_origin</th>\n",
       "      <th>sens</th>\n",
       "      <th>see</th>\n",
       "      <th>pos</th>\n",
       "    </tr>\n",
       "  </thead>\n",
       "  <tbody>\n",
       "  </tbody>\n",
       "</table>\n",
       "</div>"
      ],
      "text/plain": [
       "Empty DataFrame\n",
       "Columns: [word_origin, sens, see, pos]\n",
       "Index: []"
      ]
     },
     "execution_count": 90,
     "metadata": {},
     "output_type": "execute_result"
    }
   ],
   "source": [
    "df1  = df1.rename(columns={\"word\": \"word_origin\"})\n",
    "df1"
   ]
  },
  {
   "cell_type": "code",
   "execution_count": 91,
   "metadata": {
    "colab": {
     "base_uri": "https://localhost:8080/"
    },
    "id": "Lx42uPmkTcD0",
    "outputId": "acb493f8-1e57-4f73-b130-4dad40cdfaad"
   },
   "outputs": [
    {
     "name": "stderr",
     "output_type": "stream",
     "text": [
      "b'Skipping line 41784: expected 4 fields, saw 5\\n'\n"
     ]
    }
   ],
   "source": [
    "all.insert(0,'word#sens#trans#pos')\n",
    "text_all = '\\n'.join(all)\n",
    "ALL_DATA = StringIO(text_all)\n",
    "df2 = pd.read_csv(ALL_DATA, error_bad_lines=False,delimiter='#')"
   ]
  },
  {
   "cell_type": "code",
   "execution_count": 92,
   "metadata": {
    "colab": {
     "base_uri": "https://localhost:8080/",
     "height": 419
    },
    "id": "dhGfB4wzvL_V",
    "outputId": "bc16bb81-c74f-439f-9c04-a3f897b47eb0"
   },
   "outputs": [
    {
     "data": {
      "text/html": [
       "<div>\n",
       "<style scoped>\n",
       "    .dataframe tbody tr th:only-of-type {\n",
       "        vertical-align: middle;\n",
       "    }\n",
       "\n",
       "    .dataframe tbody tr th {\n",
       "        vertical-align: top;\n",
       "    }\n",
       "\n",
       "    .dataframe thead th {\n",
       "        text-align: right;\n",
       "    }\n",
       "</style>\n",
       "<table border=\"1\" class=\"dataframe\">\n",
       "  <thead>\n",
       "    <tr style=\"text-align: right;\">\n",
       "      <th></th>\n",
       "      <th>word</th>\n",
       "      <th>sens</th>\n",
       "      <th>trans</th>\n",
       "      <th>pos</th>\n",
       "    </tr>\n",
       "  </thead>\n",
       "  <tbody>\n",
       "    <tr>\n",
       "      <th>0</th>\n",
       "      <td>-a</td>\n",
       "      <td>NaN</td>\n",
       "      <td>feminine</td>\n",
       "      <td>Suffix</td>\n",
       "    </tr>\n",
       "    <tr>\n",
       "      <th>1</th>\n",
       "      <td>-a</td>\n",
       "      <td>NaN</td>\n",
       "      <td>third-person</td>\n",
       "      <td>Suffix</td>\n",
       "    </tr>\n",
       "    <tr>\n",
       "      <th>2</th>\n",
       "      <td>-a</td>\n",
       "      <td>NaN</td>\n",
       "      <td>singular</td>\n",
       "      <td>Suffix</td>\n",
       "    </tr>\n",
       "    <tr>\n",
       "      <th>3</th>\n",
       "      <td>-a</td>\n",
       "      <td>NaN</td>\n",
       "      <td>present</td>\n",
       "      <td>Suffix</td>\n",
       "    </tr>\n",
       "    <tr>\n",
       "      <th>4</th>\n",
       "      <td>-a</td>\n",
       "      <td>NaN</td>\n",
       "      <td>indicative</td>\n",
       "      <td>Suffix</td>\n",
       "    </tr>\n",
       "    <tr>\n",
       "      <th>...</th>\n",
       "      <td>...</td>\n",
       "      <td>...</td>\n",
       "      <td>...</td>\n",
       "      <td>...</td>\n",
       "    </tr>\n",
       "    <tr>\n",
       "      <th>96128</th>\n",
       "      <td>9º</td>\n",
       "      <td>NaN</td>\n",
       "      <td>9th</td>\n",
       "      <td>adjective</td>\n",
       "    </tr>\n",
       "    <tr>\n",
       "      <th>96129</th>\n",
       "      <td>+QD+</td>\n",
       "      <td>NaN</td>\n",
       "      <td>bestest</td>\n",
       "      <td>adjective</td>\n",
       "    </tr>\n",
       "    <tr>\n",
       "      <th>96130</th>\n",
       "      <td>+QD+</td>\n",
       "      <td>NaN</td>\n",
       "      <td>very</td>\n",
       "      <td>adjective</td>\n",
       "    </tr>\n",
       "    <tr>\n",
       "      <th>96131</th>\n",
       "      <td>+QD+</td>\n",
       "      <td>NaN</td>\n",
       "      <td>best</td>\n",
       "      <td>adjective</td>\n",
       "    </tr>\n",
       "    <tr>\n",
       "      <th>96132</th>\n",
       "      <td>+QD+</td>\n",
       "      <td>NaN</td>\n",
       "      <td>D+</td>\n",
       "      <td>adjective</td>\n",
       "    </tr>\n",
       "  </tbody>\n",
       "</table>\n",
       "<p>96133 rows × 4 columns</p>\n",
       "</div>"
      ],
      "text/plain": [
       "       word sens         trans        pos\n",
       "0        -a  NaN      feminine     Suffix\n",
       "1        -a  NaN  third-person     Suffix\n",
       "2        -a  NaN      singular     Suffix\n",
       "3        -a  NaN       present     Suffix\n",
       "4        -a  NaN    indicative     Suffix\n",
       "...     ...  ...           ...        ...\n",
       "96128    9º  NaN           9th  adjective\n",
       "96129  +QD+  NaN       bestest  adjective\n",
       "96130  +QD+  NaN          very  adjective\n",
       "96131  +QD+  NaN          best  adjective\n",
       "96132  +QD+  NaN            D+  adjective\n",
       "\n",
       "[96133 rows x 4 columns]"
      ]
     },
     "execution_count": 92,
     "metadata": {},
     "output_type": "execute_result"
    }
   ],
   "source": [
    "df2"
   ]
  },
  {
   "cell_type": "code",
   "execution_count": 93,
   "metadata": {
    "colab": {
     "base_uri": "https://localhost:8080/",
     "height": 419
    },
    "id": "U0hGJmdfnhiV",
    "outputId": "8f70fafe-da80-4d6f-a6f5-a2c045c34e44"
   },
   "outputs": [
    {
     "data": {
      "text/html": [
       "<div>\n",
       "<style scoped>\n",
       "    .dataframe tbody tr th:only-of-type {\n",
       "        vertical-align: middle;\n",
       "    }\n",
       "\n",
       "    .dataframe tbody tr th {\n",
       "        vertical-align: top;\n",
       "    }\n",
       "\n",
       "    .dataframe thead th {\n",
       "        text-align: right;\n",
       "    }\n",
       "</style>\n",
       "<table border=\"1\" class=\"dataframe\">\n",
       "  <thead>\n",
       "    <tr style=\"text-align: right;\">\n",
       "      <th></th>\n",
       "      <th>word_origin</th>\n",
       "      <th>sens_left</th>\n",
       "      <th>pos_left</th>\n",
       "      <th>sens_right</th>\n",
       "      <th>trans</th>\n",
       "      <th>pos_right</th>\n",
       "    </tr>\n",
       "  </thead>\n",
       "  <tbody>\n",
       "  </tbody>\n",
       "</table>\n",
       "</div>"
      ],
      "text/plain": [
       "Empty DataFrame\n",
       "Columns: [word_origin, sens_left, pos_left, sens_right, trans, pos_right]\n",
       "Index: []"
      ]
     },
     "execution_count": 93,
     "metadata": {},
     "output_type": "execute_result"
    }
   ],
   "source": [
    "x = df1.set_index('see').join(df2.set_index('word'),lsuffix='_left', rsuffix='_right')\n",
    "x"
   ]
  },
  {
   "cell_type": "code",
   "execution_count": 94,
   "metadata": {
    "colab": {
     "base_uri": "https://localhost:8080/",
     "height": 266
    },
    "id": "b239mrhGtYI0",
    "outputId": "ca86e720-4623-4e51-acaa-d249e2c1b0cc"
   },
   "outputs": [
    {
     "data": {
      "text/html": [
       "<div>\n",
       "<style scoped>\n",
       "    .dataframe tbody tr th:only-of-type {\n",
       "        vertical-align: middle;\n",
       "    }\n",
       "\n",
       "    .dataframe tbody tr th {\n",
       "        vertical-align: top;\n",
       "    }\n",
       "\n",
       "    .dataframe thead th {\n",
       "        text-align: right;\n",
       "    }\n",
       "</style>\n",
       "<table border=\"1\" class=\"dataframe\">\n",
       "  <thead>\n",
       "    <tr style=\"text-align: right;\">\n",
       "      <th></th>\n",
       "      <th>word_origin</th>\n",
       "      <th>sens_left</th>\n",
       "      <th>pos_left</th>\n",
       "      <th>sens_right</th>\n",
       "      <th>trans</th>\n",
       "      <th>pos_right</th>\n",
       "    </tr>\n",
       "  </thead>\n",
       "  <tbody>\n",
       "  </tbody>\n",
       "</table>\n",
       "</div>"
      ],
      "text/plain": [
       "Empty DataFrame\n",
       "Columns: [word_origin, sens_left, pos_left, sens_right, trans, pos_right]\n",
       "Index: []"
      ]
     },
     "execution_count": 94,
     "metadata": {},
     "output_type": "execute_result"
    }
   ],
   "source": [
    "x.loc[x['word_origin']=='abecedarium']"
   ]
  },
  {
   "cell_type": "code",
   "execution_count": 95,
   "metadata": {
    "colab": {
     "base_uri": "https://localhost:8080/",
     "height": 419
    },
    "id": "jyLPYqrvGtDg",
    "outputId": "c55fd4d2-b2fc-43f2-8a3d-8b2ee219a87e"
   },
   "outputs": [
    {
     "data": {
      "text/html": [
       "<div>\n",
       "<style scoped>\n",
       "    .dataframe tbody tr th:only-of-type {\n",
       "        vertical-align: middle;\n",
       "    }\n",
       "\n",
       "    .dataframe tbody tr th {\n",
       "        vertical-align: top;\n",
       "    }\n",
       "\n",
       "    .dataframe thead th {\n",
       "        text-align: right;\n",
       "    }\n",
       "</style>\n",
       "<table border=\"1\" class=\"dataframe\">\n",
       "  <thead>\n",
       "    <tr style=\"text-align: right;\">\n",
       "      <th></th>\n",
       "      <th>word</th>\n",
       "      <th>sens</th>\n",
       "      <th>trans</th>\n",
       "      <th>pos</th>\n",
       "    </tr>\n",
       "  </thead>\n",
       "  <tbody>\n",
       "  </tbody>\n",
       "</table>\n",
       "</div>"
      ],
      "text/plain": [
       "Empty DataFrame\n",
       "Columns: [word, sens, trans, pos]\n",
       "Index: []"
      ]
     },
     "execution_count": 95,
     "metadata": {},
     "output_type": "execute_result"
    }
   ],
   "source": [
    "df_check = x.reset_index()[['word_origin','sens_left','trans','pos_left']].rename(columns={\"word_origin\": \"word\",\"sens_left\": \"sens\",\"pos_left\": \"pos\"})\n",
    "df_check = df_check.drop_duplicates().reset_index().drop(columns='index')\n",
    "df_check"
   ]
  },
  {
   "cell_type": "code",
   "execution_count": 96,
   "metadata": {
    "id": "27hWVbrAI9FS"
   },
   "outputs": [],
   "source": [
    "df_dic = df2.append(df_check, ignore_index=True).drop_duplicates(ignore_index=True)"
   ]
  },
  {
   "cell_type": "code",
   "execution_count": 97,
   "metadata": {
    "id": "IVhcZb_nKR53"
   },
   "outputs": [],
   "source": [
    "df_dic.to_csv('../EvaluationDictionary/Matthias_Buchmeier_Dic/PT-EN.csv', sep='#',index=False)"
   ]
  }
 ],
 "metadata": {
  "colab": {
   "name": "parser_wiktionary.ipynb",
   "provenance": []
  },
  "kernelspec": {
   "display_name": "Python 3",
   "language": "python",
   "name": "python3"
  },
  "language_info": {
   "codemirror_mode": {
    "name": "ipython",
    "version": 3
   },
   "file_extension": ".py",
   "mimetype": "text/x-python",
   "name": "python",
   "nbconvert_exporter": "python",
   "pygments_lexer": "ipython3",
   "version": "3.8.8"
  }
 },
 "nbformat": 4,
 "nbformat_minor": 1
}
