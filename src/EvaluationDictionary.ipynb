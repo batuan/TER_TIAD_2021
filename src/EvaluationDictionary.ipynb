{
 "cells": [
  {
   "cell_type": "code",
   "execution_count": 2,
   "id": "b579cc87",
   "metadata": {},
   "outputs": [],
   "source": [
    "import pandas as pd\n",
    "import numpy as np"
   ]
  },
  {
   "cell_type": "code",
   "execution_count": 19,
   "id": "cd95e6e5",
   "metadata": {},
   "outputs": [],
   "source": [
    "evaluation_df = pd.read_csv('../EvaluationDic/EN-FR-Matthias_Buchmeier_Dic.csv', delimiter='#', error_bad_lines=False)\n",
    "build_df_word2vec = pd.read_csv('../BuildDictionary/dict.tsv', delimiter='\\t', error_bad_lines=False,\n",
    "                                names=[\"word\", \"trans\", \"pos\", 'confidence'])\n",
    "# build_df_glove = pd.read_csv('../BuildDictionary/TIADbaseline_glove_trans_en-fr.tsv', delimiter='\\t', error_bad_lines=False,\n",
    "#                              names=[\"word\", \"trans\", \"pos\", 'confidence'])"
   ]
  },
  {
   "cell_type": "code",
   "execution_count": 20,
   "id": "7403b891",
   "metadata": {},
   "outputs": [
    {
     "data": {
      "text/html": [
       "<div>\n",
       "<style scoped>\n",
       "    .dataframe tbody tr th:only-of-type {\n",
       "        vertical-align: middle;\n",
       "    }\n",
       "\n",
       "    .dataframe tbody tr th {\n",
       "        vertical-align: top;\n",
       "    }\n",
       "\n",
       "    .dataframe thead th {\n",
       "        text-align: right;\n",
       "    }\n",
       "</style>\n",
       "<table border=\"1\" class=\"dataframe\">\n",
       "  <thead>\n",
       "    <tr style=\"text-align: right;\">\n",
       "      <th></th>\n",
       "      <th>word</th>\n",
       "      <th>trans</th>\n",
       "      <th>pos</th>\n",
       "      <th>confidence</th>\n",
       "    </tr>\n",
       "  </thead>\n",
       "  <tbody>\n",
       "    <tr>\n",
       "      <th>0</th>\n",
       "      <td>positioner</td>\n",
       "      <td>propriété rurale</td>\n",
       "      <td>noun</td>\n",
       "      <td>0.90</td>\n",
       "    </tr>\n",
       "    <tr>\n",
       "      <th>1</th>\n",
       "      <td>by a whisker</td>\n",
       "      <td>dramaturgiquement</td>\n",
       "      <td>adverb</td>\n",
       "      <td>0.73</td>\n",
       "    </tr>\n",
       "    <tr>\n",
       "      <th>2</th>\n",
       "      <td>nice</td>\n",
       "      <td>ravi</td>\n",
       "      <td>adjective</td>\n",
       "      <td>0.98</td>\n",
       "    </tr>\n",
       "    <tr>\n",
       "      <th>3</th>\n",
       "      <td>orthogonalisation</td>\n",
       "      <td>thiocyanate</td>\n",
       "      <td>noun</td>\n",
       "      <td>0.89</td>\n",
       "    </tr>\n",
       "    <tr>\n",
       "      <th>4</th>\n",
       "      <td>help</td>\n",
       "      <td>aider</td>\n",
       "      <td>verb</td>\n",
       "      <td>0.99</td>\n",
       "    </tr>\n",
       "    <tr>\n",
       "      <th>...</th>\n",
       "      <td>...</td>\n",
       "      <td>...</td>\n",
       "      <td>...</td>\n",
       "      <td>...</td>\n",
       "    </tr>\n",
       "    <tr>\n",
       "      <th>59572</th>\n",
       "      <td>surly</td>\n",
       "      <td>malséant</td>\n",
       "      <td>adjective</td>\n",
       "      <td>0.90</td>\n",
       "    </tr>\n",
       "    <tr>\n",
       "      <th>59573</th>\n",
       "      <td>legal project</td>\n",
       "      <td>barysphère</td>\n",
       "      <td>noun</td>\n",
       "      <td>0.91</td>\n",
       "    </tr>\n",
       "    <tr>\n",
       "      <th>59574</th>\n",
       "      <td>it never rains but it pours</td>\n",
       "      <td>d'accord</td>\n",
       "      <td>interjection</td>\n",
       "      <td>0.85</td>\n",
       "    </tr>\n",
       "    <tr>\n",
       "      <th>59575</th>\n",
       "      <td>shouting</td>\n",
       "      <td>de fil en aiguille</td>\n",
       "      <td>adverb</td>\n",
       "      <td>0.77</td>\n",
       "    </tr>\n",
       "    <tr>\n",
       "      <th>59576</th>\n",
       "      <td>police</td>\n",
       "      <td>prendre soin</td>\n",
       "      <td>verb</td>\n",
       "      <td>0.94</td>\n",
       "    </tr>\n",
       "  </tbody>\n",
       "</table>\n",
       "<p>59577 rows × 4 columns</p>\n",
       "</div>"
      ],
      "text/plain": [
       "                              word               trans           pos  \\\n",
       "0                       positioner    propriété rurale          noun   \n",
       "1                     by a whisker   dramaturgiquement        adverb   \n",
       "2                             nice                ravi     adjective   \n",
       "3                orthogonalisation         thiocyanate          noun   \n",
       "4                             help               aider          verb   \n",
       "...                            ...                 ...           ...   \n",
       "59572                        surly            malséant     adjective   \n",
       "59573                legal project          barysphère          noun   \n",
       "59574  it never rains but it pours            d'accord  interjection   \n",
       "59575                     shouting  de fil en aiguille        adverb   \n",
       "59576                       police        prendre soin          verb   \n",
       "\n",
       "       confidence  \n",
       "0            0.90  \n",
       "1            0.73  \n",
       "2            0.98  \n",
       "3            0.89  \n",
       "4            0.99  \n",
       "...           ...  \n",
       "59572        0.90  \n",
       "59573        0.91  \n",
       "59574        0.85  \n",
       "59575        0.77  \n",
       "59576        0.94  \n",
       "\n",
       "[59577 rows x 4 columns]"
      ]
     },
     "execution_count": 20,
     "metadata": {},
     "output_type": "execute_result"
    }
   ],
   "source": [
    "build_df_word2vec"
   ]
  },
  {
   "cell_type": "code",
   "execution_count": 21,
   "id": "efd5228f",
   "metadata": {
    "pycharm": {
     "name": "#%%\n"
    }
   },
   "outputs": [
    {
     "name": "stdout",
     "output_type": "stream",
     "text": [
      "Index(['word', 'trans', 'pos', 'confidence'], dtype='object')\n"
     ]
    }
   ],
   "source": [
    "print(build_df_word2vec.columns)\n",
    "# print(build_df_glove.columns)"
   ]
  },
  {
   "cell_type": "code",
   "execution_count": 27,
   "id": "9a223edc",
   "metadata": {
    "pycharm": {
     "name": "#%%\n"
    }
   },
   "outputs": [
    {
     "data": {
      "text/plain": [
       "word     108063\n",
       "trans    108065\n",
       "pos      108067\n",
       "dtype: int64"
      ]
     },
     "execution_count": 27,
     "metadata": {},
     "output_type": "execute_result"
    }
   ],
   "source": [
    "evaluation_df = evaluation_df.drop(['sens'], axis=1)\n",
    "evaluation_df = evaluation_df.drop_duplicates()\n",
    "evaluation_df.count()"
   ]
  },
  {
   "cell_type": "code",
   "execution_count": 23,
   "id": "41ab3c55",
   "metadata": {
    "pycharm": {
     "name": "#%%\n"
    }
   },
   "outputs": [
    {
     "data": {
      "text/plain": [
       "Index(['word', 'sens', 'trans', 'pos'], dtype='object')"
      ]
     },
     "execution_count": 23,
     "metadata": {},
     "output_type": "execute_result"
    }
   ],
   "source": [
    "evaluation_df.columns"
   ]
  },
  {
   "cell_type": "code",
   "execution_count": 24,
   "id": "32c45637",
   "metadata": {
    "pycharm": {
     "name": "#%%\n"
    }
   },
   "outputs": [
    {
     "data": {
      "text/plain": [
       "word     59575\n",
       "trans    59521\n",
       "pos      59522\n",
       "dtype: int64"
      ]
     },
     "execution_count": 24,
     "metadata": {},
     "output_type": "execute_result"
    }
   ],
   "source": [
    "build_df_word2vec = build_df_word2vec.drop(['confidence'], axis=1)\n",
    "# build_df_word2vec = build_df_word2vec.drop_duplicates()\n",
    "build_df_word2vec.count()"
   ]
  },
  {
   "cell_type": "code",
   "execution_count": 35,
   "id": "13f66a1d",
   "metadata": {
    "pycharm": {
     "name": "#%%\n"
    }
   },
   "outputs": [
    {
     "data": {
      "text/html": [
       "<div>\n",
       "<style scoped>\n",
       "    .dataframe tbody tr th:only-of-type {\n",
       "        vertical-align: middle;\n",
       "    }\n",
       "\n",
       "    .dataframe tbody tr th {\n",
       "        vertical-align: top;\n",
       "    }\n",
       "\n",
       "    .dataframe thead th {\n",
       "        text-align: right;\n",
       "    }\n",
       "</style>\n",
       "<table border=\"1\" class=\"dataframe\">\n",
       "  <thead>\n",
       "    <tr style=\"text-align: right;\">\n",
       "      <th></th>\n",
       "      <th>word</th>\n",
       "      <th>trans</th>\n",
       "      <th>pos</th>\n",
       "    </tr>\n",
       "  </thead>\n",
       "  <tbody>\n",
       "    <tr>\n",
       "      <th>5</th>\n",
       "      <td>Isabela</td>\n",
       "      <td>Isabela</td>\n",
       "      <td>properNoun</td>\n",
       "    </tr>\n",
       "    <tr>\n",
       "      <th>6</th>\n",
       "      <td>Pujol</td>\n",
       "      <td>Pujol</td>\n",
       "      <td>properNoun</td>\n",
       "    </tr>\n",
       "    <tr>\n",
       "      <th>8</th>\n",
       "      <td>Cecelia</td>\n",
       "      <td>Cecelia</td>\n",
       "      <td>properNoun</td>\n",
       "    </tr>\n",
       "    <tr>\n",
       "      <th>11</th>\n",
       "      <td>Silverman</td>\n",
       "      <td>Silverman</td>\n",
       "      <td>properNoun</td>\n",
       "    </tr>\n",
       "    <tr>\n",
       "      <th>15</th>\n",
       "      <td>Gabarron</td>\n",
       "      <td>Gabarron</td>\n",
       "      <td>properNoun</td>\n",
       "    </tr>\n",
       "    <tr>\n",
       "      <th>...</th>\n",
       "      <td>...</td>\n",
       "      <td>...</td>\n",
       "      <td>...</td>\n",
       "    </tr>\n",
       "    <tr>\n",
       "      <th>59009</th>\n",
       "      <td>massif</td>\n",
       "      <td>massif</td>\n",
       "      <td>noun</td>\n",
       "    </tr>\n",
       "    <tr>\n",
       "      <th>59196</th>\n",
       "      <td>Ermua</td>\n",
       "      <td>Ermua</td>\n",
       "      <td>properNoun</td>\n",
       "    </tr>\n",
       "    <tr>\n",
       "      <th>59197</th>\n",
       "      <td>PSE</td>\n",
       "      <td>PSE</td>\n",
       "      <td>noun</td>\n",
       "    </tr>\n",
       "    <tr>\n",
       "      <th>59388</th>\n",
       "      <td>Elgoibar</td>\n",
       "      <td>Elgoibar</td>\n",
       "      <td>properNoun</td>\n",
       "    </tr>\n",
       "    <tr>\n",
       "      <th>59469</th>\n",
       "      <td>LAB</td>\n",
       "      <td>LAB</td>\n",
       "      <td>noun</td>\n",
       "    </tr>\n",
       "  </tbody>\n",
       "</table>\n",
       "<p>17836 rows × 3 columns</p>\n",
       "</div>"
      ],
      "text/plain": [
       "            word      trans         pos\n",
       "5        Isabela    Isabela  properNoun\n",
       "6          Pujol      Pujol  properNoun\n",
       "8        Cecelia    Cecelia  properNoun\n",
       "11     Silverman  Silverman  properNoun\n",
       "15      Gabarron   Gabarron  properNoun\n",
       "...          ...        ...         ...\n",
       "59009     massif     massif        noun\n",
       "59196      Ermua      Ermua  properNoun\n",
       "59197        PSE        PSE        noun\n",
       "59388   Elgoibar   Elgoibar  properNoun\n",
       "59469        LAB        LAB        noun\n",
       "\n",
       "[17836 rows x 3 columns]"
      ]
     },
     "execution_count": 35,
     "metadata": {},
     "output_type": "execute_result"
    }
   ],
   "source": [
    "build_df_word2vec.loc[build_df_word2vec['word']==build_df_word2vec['trans']]"
   ]
  },
  {
   "cell_type": "code",
   "execution_count": 29,
   "id": "a35ed827",
   "metadata": {
    "pycharm": {
     "name": "#%%\n"
    }
   },
   "outputs": [
    {
     "data": {
      "text/html": [
       "<div>\n",
       "<style scoped>\n",
       "    .dataframe tbody tr th:only-of-type {\n",
       "        vertical-align: middle;\n",
       "    }\n",
       "\n",
       "    .dataframe tbody tr th {\n",
       "        vertical-align: top;\n",
       "    }\n",
       "\n",
       "    .dataframe thead th {\n",
       "        text-align: right;\n",
       "    }\n",
       "</style>\n",
       "<table border=\"1\" class=\"dataframe\">\n",
       "  <thead>\n",
       "    <tr style=\"text-align: right;\">\n",
       "      <th></th>\n",
       "      <th>word</th>\n",
       "      <th>trans</th>\n",
       "      <th>pos</th>\n",
       "      <th>_merge</th>\n",
       "    </tr>\n",
       "  </thead>\n",
       "  <tbody>\n",
       "    <tr>\n",
       "      <th>0</th>\n",
       "      <td>positioner</td>\n",
       "      <td>propriété rurale</td>\n",
       "      <td>noun</td>\n",
       "      <td>left_only</td>\n",
       "    </tr>\n",
       "    <tr>\n",
       "      <th>1</th>\n",
       "      <td>by a whisker</td>\n",
       "      <td>dramaturgiquement</td>\n",
       "      <td>adverb</td>\n",
       "      <td>left_only</td>\n",
       "    </tr>\n",
       "    <tr>\n",
       "      <th>2</th>\n",
       "      <td>nice</td>\n",
       "      <td>ravi</td>\n",
       "      <td>adjective</td>\n",
       "      <td>left_only</td>\n",
       "    </tr>\n",
       "    <tr>\n",
       "      <th>3</th>\n",
       "      <td>orthogonalisation</td>\n",
       "      <td>thiocyanate</td>\n",
       "      <td>noun</td>\n",
       "      <td>left_only</td>\n",
       "    </tr>\n",
       "    <tr>\n",
       "      <th>4</th>\n",
       "      <td>help</td>\n",
       "      <td>aider</td>\n",
       "      <td>verb</td>\n",
       "      <td>both</td>\n",
       "    </tr>\n",
       "    <tr>\n",
       "      <th>...</th>\n",
       "      <td>...</td>\n",
       "      <td>...</td>\n",
       "      <td>...</td>\n",
       "      <td>...</td>\n",
       "    </tr>\n",
       "    <tr>\n",
       "      <th>59572</th>\n",
       "      <td>surly</td>\n",
       "      <td>malséant</td>\n",
       "      <td>adjective</td>\n",
       "      <td>left_only</td>\n",
       "    </tr>\n",
       "    <tr>\n",
       "      <th>59573</th>\n",
       "      <td>legal project</td>\n",
       "      <td>barysphère</td>\n",
       "      <td>noun</td>\n",
       "      <td>left_only</td>\n",
       "    </tr>\n",
       "    <tr>\n",
       "      <th>59574</th>\n",
       "      <td>it never rains but it pours</td>\n",
       "      <td>d'accord</td>\n",
       "      <td>interjection</td>\n",
       "      <td>left_only</td>\n",
       "    </tr>\n",
       "    <tr>\n",
       "      <th>59575</th>\n",
       "      <td>shouting</td>\n",
       "      <td>de fil en aiguille</td>\n",
       "      <td>adverb</td>\n",
       "      <td>left_only</td>\n",
       "    </tr>\n",
       "    <tr>\n",
       "      <th>59576</th>\n",
       "      <td>police</td>\n",
       "      <td>prendre soin</td>\n",
       "      <td>verb</td>\n",
       "      <td>left_only</td>\n",
       "    </tr>\n",
       "  </tbody>\n",
       "</table>\n",
       "<p>59577 rows × 4 columns</p>\n",
       "</div>"
      ],
      "text/plain": [
       "                              word               trans           pos  \\\n",
       "0                       positioner    propriété rurale          noun   \n",
       "1                     by a whisker   dramaturgiquement        adverb   \n",
       "2                             nice                ravi     adjective   \n",
       "3                orthogonalisation         thiocyanate          noun   \n",
       "4                             help               aider          verb   \n",
       "...                            ...                 ...           ...   \n",
       "59572                        surly            malséant     adjective   \n",
       "59573                legal project          barysphère          noun   \n",
       "59574  it never rains but it pours            d'accord  interjection   \n",
       "59575                     shouting  de fil en aiguille        adverb   \n",
       "59576                       police        prendre soin          verb   \n",
       "\n",
       "          _merge  \n",
       "0      left_only  \n",
       "1      left_only  \n",
       "2      left_only  \n",
       "3      left_only  \n",
       "4           both  \n",
       "...          ...  \n",
       "59572  left_only  \n",
       "59573  left_only  \n",
       "59574  left_only  \n",
       "59575  left_only  \n",
       "59576  left_only  \n",
       "\n",
       "[59577 rows x 4 columns]"
      ]
     },
     "execution_count": 29,
     "metadata": {},
     "output_type": "execute_result"
    }
   ],
   "source": [
    "df_all = build_df_word2vec.merge(evaluation_df,\n",
    "                   how='left', indicator=True)\n",
    "df_all"
   ]
  },
  {
   "cell_type": "code",
   "execution_count": 30,
   "id": "6dd7658c",
   "metadata": {
    "pycharm": {
     "name": "#%%\n"
    }
   },
   "outputs": [
    {
     "data": {
      "text/plain": [
       "12020"
      ]
     },
     "execution_count": 30,
     "metadata": {},
     "output_type": "execute_result"
    }
   ],
   "source": [
    "a = df_all.loc[df_all['_merge']=='both']['word'].count()\n",
    "a"
   ]
  },
  {
   "cell_type": "code",
   "execution_count": null,
   "id": "11f3444c",
   "metadata": {},
   "outputs": [],
   "source": [
    "df.loc[df]"
   ]
  },
  {
   "cell_type": "code",
   "execution_count": 34,
   "id": "75eae19a",
   "metadata": {},
   "outputs": [],
   "source": [
    "df_all.loc[df_all['_merge']=='left_only'][['word', 'trans', 'pos']].to_csv(path_or_buf='../BuildDictionary/check.csv', \n",
    "                                                                          sep='\\t',index=False)"
   ]
  },
  {
   "cell_type": "code",
   "execution_count": 31,
   "id": "9d820c80",
   "metadata": {
    "pycharm": {
     "name": "#%%\n"
    }
   },
   "outputs": [
    {
     "data": {
      "text/html": [
       "<div>\n",
       "<style scoped>\n",
       "    .dataframe tbody tr th:only-of-type {\n",
       "        vertical-align: middle;\n",
       "    }\n",
       "\n",
       "    .dataframe tbody tr th {\n",
       "        vertical-align: top;\n",
       "    }\n",
       "\n",
       "    .dataframe thead th {\n",
       "        text-align: right;\n",
       "    }\n",
       "</style>\n",
       "<table border=\"1\" class=\"dataframe\">\n",
       "  <thead>\n",
       "    <tr style=\"text-align: right;\">\n",
       "      <th></th>\n",
       "      <th>word</th>\n",
       "      <th>pos</th>\n",
       "      <th>_merge</th>\n",
       "    </tr>\n",
       "  </thead>\n",
       "  <tbody>\n",
       "    <tr>\n",
       "      <th>0</th>\n",
       "      <td>positioner</td>\n",
       "      <td>noun</td>\n",
       "      <td>left_only</td>\n",
       "    </tr>\n",
       "    <tr>\n",
       "      <th>1</th>\n",
       "      <td>by a whisker</td>\n",
       "      <td>adverb</td>\n",
       "      <td>left_only</td>\n",
       "    </tr>\n",
       "    <tr>\n",
       "      <th>2</th>\n",
       "      <td>nice</td>\n",
       "      <td>adjective</td>\n",
       "      <td>both</td>\n",
       "    </tr>\n",
       "    <tr>\n",
       "      <th>3</th>\n",
       "      <td>nice</td>\n",
       "      <td>adjective</td>\n",
       "      <td>both</td>\n",
       "    </tr>\n",
       "    <tr>\n",
       "      <th>4</th>\n",
       "      <td>nice</td>\n",
       "      <td>adjective</td>\n",
       "      <td>both</td>\n",
       "    </tr>\n",
       "    <tr>\n",
       "      <th>...</th>\n",
       "      <td>...</td>\n",
       "      <td>...</td>\n",
       "      <td>...</td>\n",
       "    </tr>\n",
       "    <tr>\n",
       "      <th>82666</th>\n",
       "      <td>surly</td>\n",
       "      <td>adjective</td>\n",
       "      <td>both</td>\n",
       "    </tr>\n",
       "    <tr>\n",
       "      <th>82667</th>\n",
       "      <td>legal project</td>\n",
       "      <td>noun</td>\n",
       "      <td>left_only</td>\n",
       "    </tr>\n",
       "    <tr>\n",
       "      <th>82668</th>\n",
       "      <td>it never rains but it pours</td>\n",
       "      <td>interjection</td>\n",
       "      <td>left_only</td>\n",
       "    </tr>\n",
       "    <tr>\n",
       "      <th>82669</th>\n",
       "      <td>shouting</td>\n",
       "      <td>adverb</td>\n",
       "      <td>left_only</td>\n",
       "    </tr>\n",
       "    <tr>\n",
       "      <th>82670</th>\n",
       "      <td>police</td>\n",
       "      <td>verb</td>\n",
       "      <td>left_only</td>\n",
       "    </tr>\n",
       "  </tbody>\n",
       "</table>\n",
       "<p>82671 rows × 3 columns</p>\n",
       "</div>"
      ],
      "text/plain": [
       "                              word           pos     _merge\n",
       "0                       positioner          noun  left_only\n",
       "1                     by a whisker        adverb  left_only\n",
       "2                             nice     adjective       both\n",
       "3                             nice     adjective       both\n",
       "4                             nice     adjective       both\n",
       "...                            ...           ...        ...\n",
       "82666                        surly     adjective       both\n",
       "82667                legal project          noun  left_only\n",
       "82668  it never rains but it pours  interjection  left_only\n",
       "82669                     shouting        adverb  left_only\n",
       "82670                       police          verb  left_only\n",
       "\n",
       "[82671 rows x 3 columns]"
      ]
     },
     "execution_count": 31,
     "metadata": {},
     "output_type": "execute_result"
    }
   ],
   "source": [
    "df_all_word_pos = build_df_word2vec[['word','pos']].merge(evaluation_df[['word','pos']],\n",
    "                   how='left', indicator=True)\n",
    "df_all_word_pos"
   ]
  },
  {
   "cell_type": "code",
   "execution_count": 32,
   "id": "94c0968f",
   "metadata": {
    "pycharm": {
     "name": "#%%\n"
    }
   },
   "outputs": [
    {
     "data": {
      "text/plain": [
       "44987"
      ]
     },
     "execution_count": 32,
     "metadata": {},
     "output_type": "execute_result"
    }
   ],
   "source": [
    "b = df_all_word_pos.loc[df_all_word_pos['_merge']=='both']['word'].count()\n",
    "b"
   ]
  },
  {
   "cell_type": "code",
   "execution_count": 60,
   "id": "2b109a53",
   "metadata": {
    "pycharm": {
     "name": "#%%\n"
    }
   },
   "outputs": [],
   "source": [
    "def get_accuracy(df_build, df_evaluation):\n",
    "    df_all = df_build.merge(df_evaluation.drop_duplicates(),\n",
    "                   how='left', indicator=True)\n",
    "    a = df_all.loc[df_all['_merge']=='both']['word'].count()\n",
    "\n",
    "    df_all_word_pos = df_build[['word','pos']].merge(df_evaluation[['word','pos']],\n",
    "                   how='left', indicator=True)\n",
    "    b = df_all_word_pos.loc[df_all_word_pos['_merge']=='both']['word'].count()\n",
    "    return a/b"
   ]
  },
  {
   "cell_type": "code",
   "execution_count": 62,
   "id": "02b061af",
   "metadata": {
    "pycharm": {
     "name": "#%%\n"
    }
   },
   "outputs": [
    {
     "name": "stdout",
     "output_type": "stream",
     "text": [
      "0.20889147174197298\n",
      "0.10804548723001944\n"
     ]
    }
   ],
   "source": [
    "print(get_accuracy(build_df_word2vec, evaluation_df))\n",
    "print(get_accuracy(build_df_glove, evaluation_df))"
   ]
  }
 ],
 "metadata": {
  "kernelspec": {
   "display_name": "Python 3",
   "language": "python",
   "name": "python3"
  },
  "language_info": {
   "codemirror_mode": {
    "name": "ipython",
    "version": 3
   },
   "file_extension": ".py",
   "mimetype": "text/x-python",
   "name": "python",
   "nbconvert_exporter": "python",
   "pygments_lexer": "ipython3",
   "version": "3.8.8"
  }
 },
 "nbformat": 4,
 "nbformat_minor": 5
}