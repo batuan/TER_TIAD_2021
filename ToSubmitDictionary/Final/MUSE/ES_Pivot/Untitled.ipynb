{
 "cells": [
  {
   "cell_type": "code",
   "execution_count": 17,
   "id": "52971483",
   "metadata": {},
   "outputs": [],
   "source": [
    "import pandas as pd\n",
    "import csv\n",
    "def filter_value(x):\n",
    "    if x < 0:\n",
    "        return 0\n",
    "    return x"
   ]
  },
  {
   "cell_type": "code",
   "execution_count": 19,
   "id": "6e1f354b",
   "metadata": {},
   "outputs": [],
   "source": [
    "def process_df(path):\n",
    "    df = pd.read_csv(path, delimiter='\\t',quoting=3, names=['source', 'trans', 'pos', 'con'])\n",
    "    df['con'] = df['con'].apply(lambda x: filter_value(x))\n",
    "    df.to_csv(path, header=False, sep='\\t', index=False, quoting=csv.QUOTE_NONE)"
   ]
  },
  {
   "cell_type": "code",
   "execution_count": 36,
   "id": "86c45180",
   "metadata": {},
   "outputs": [],
   "source": [
    "import os"
   ]
  },
  {
   "cell_type": "code",
   "execution_count": 35,
   "id": "6e7df927",
   "metadata": {},
   "outputs": [
    {
     "data": {
      "text/plain": [
       "['muse-es_trans_en-fr.tsv']"
      ]
     },
     "execution_count": 35,
     "metadata": {},
     "output_type": "execute_result"
    }
   ],
   "source": [
    "list_dir = os.listdir()\n",
    "files = [x for x in files if x.endswith('tsv')]\n",
    "files"
   ]
  },
  {
   "cell_type": "code",
   "execution_count": 33,
   "id": "ed5355b7",
   "metadata": {},
   "outputs": [],
   "source": [
    "for path in files:\n",
    "    process_df(path)"
   ]
  }
 ],
 "metadata": {
  "kernelspec": {
   "display_name": "Python 3",
   "language": "python",
   "name": "python3"
  },
  "language_info": {
   "codemirror_mode": {
    "name": "ipython",
    "version": 3
   },
   "file_extension": ".py",
   "mimetype": "text/x-python",
   "name": "python",
   "nbconvert_exporter": "python",
   "pygments_lexer": "ipython3",
   "version": "3.8.8"
  }
 },
 "nbformat": 4,
 "nbformat_minor": 5
}
